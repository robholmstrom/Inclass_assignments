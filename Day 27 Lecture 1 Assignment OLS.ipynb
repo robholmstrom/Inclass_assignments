{
 "cells": [
  {
   "cell_type": "markdown",
   "metadata": {
    "colab_type": "text",
    "id": "NQ9CFZorWMLh"
   },
   "source": [
    "## Day 27 Lecture 1 Assignment\n",
    "\n",
    "In this assignment, we will learn statistical significance in linear models. We will use the google play store dataset loaded below and analyze the regression from this dataset."
   ]
  },
  {
   "cell_type": "code",
   "execution_count": 0,
   "metadata": {
    "colab": {
     "base_uri": "https://localhost:8080/",
     "height": 71
    },
    "colab_type": "code",
    "executionInfo": {
     "elapsed": 1697,
     "status": "ok",
     "timestamp": 1590514154005,
     "user": {
      "displayName": "Sam Holmstrom",
      "photoUrl": "",
      "userId": "05645048604521877205"
     },
     "user_tz": 300
    },
    "id": "Jnh84h3tWMLi",
    "outputId": "91bb5f22-7ccf-46ab-f3bc-e521ffb921a0"
   },
   "outputs": [
    {
     "name": "stderr",
     "output_type": "stream",
     "text": [
      "/usr/local/lib/python3.6/dist-packages/statsmodels/tools/_testing.py:19: FutureWarning: pandas.util.testing is deprecated. Use the functions in the public API at pandas.testing instead.\n",
      "  import pandas.util.testing as tm\n"
     ]
    }
   ],
   "source": [
    "%matplotlib inline\n",
    "\n",
    "import matplotlib.pyplot as plt\n",
    "import numpy as np\n",
    "import pandas as pd\n",
    "import statsmodels.api as sm\n",
    "import pylab\n",
    "from sklearn.preprocessing import PowerTransformer, QuantileTransformer\n",
    "\n",
    "from sklearn.preprocessing import StandardScaler\n",
    "from statsmodels.stats.outliers_influence import variance_inflation_factor\n",
    "from statsmodels.tools.tools import add_constant\n",
    "from sklearn.linear_model import LinearRegression\n",
    "from sklearn.model_selection import train_test_split"
   ]
  },
  {
   "cell_type": "code",
   "execution_count": 0,
   "metadata": {
    "colab": {},
    "colab_type": "code",
    "id": "v2e0QnpnWMLk"
   },
   "outputs": [],
   "source": [
    "reviews = pd.read_csv('https://tf-assets-prod.s3.amazonaws.com/tf-curric/data-science/googleplaystore.csv')"
   ]
  },
  {
   "cell_type": "code",
   "execution_count": 0,
   "metadata": {
    "colab": {
     "base_uri": "https://localhost:8080/",
     "height": 564
    },
    "colab_type": "code",
    "executionInfo": {
     "elapsed": 553,
     "status": "ok",
     "timestamp": 1590514160819,
     "user": {
      "displayName": "Sam Holmstrom",
      "photoUrl": "",
      "userId": "05645048604521877205"
     },
     "user_tz": 300
    },
    "id": "JflXCj5CWMLm",
    "outputId": "c215a8ff-19e5-4ac9-e1a4-2a58cbc9ad80"
   },
   "outputs": [
    {
     "data": {
      "text/html": [
       "<div>\n",
       "<style scoped>\n",
       "    .dataframe tbody tr th:only-of-type {\n",
       "        vertical-align: middle;\n",
       "    }\n",
       "\n",
       "    .dataframe tbody tr th {\n",
       "        vertical-align: top;\n",
       "    }\n",
       "\n",
       "    .dataframe thead th {\n",
       "        text-align: right;\n",
       "    }\n",
       "</style>\n",
       "<table border=\"1\" class=\"dataframe\">\n",
       "  <thead>\n",
       "    <tr style=\"text-align: right;\">\n",
       "      <th></th>\n",
       "      <th>App</th>\n",
       "      <th>Category</th>\n",
       "      <th>Rating</th>\n",
       "      <th>Reviews</th>\n",
       "      <th>Size</th>\n",
       "      <th>Installs</th>\n",
       "      <th>Type</th>\n",
       "      <th>Price</th>\n",
       "      <th>Content Rating</th>\n",
       "      <th>Genres</th>\n",
       "      <th>Last Updated</th>\n",
       "      <th>Current Ver</th>\n",
       "      <th>Android Ver</th>\n",
       "    </tr>\n",
       "  </thead>\n",
       "  <tbody>\n",
       "    <tr>\n",
       "      <th>0</th>\n",
       "      <td>Photo Editor &amp; Candy Camera &amp; Grid &amp; ScrapBook</td>\n",
       "      <td>ART_AND_DESIGN</td>\n",
       "      <td>4.1</td>\n",
       "      <td>159</td>\n",
       "      <td>19M</td>\n",
       "      <td>10,000+</td>\n",
       "      <td>Free</td>\n",
       "      <td>0</td>\n",
       "      <td>Everyone</td>\n",
       "      <td>Art &amp; Design</td>\n",
       "      <td>January 7, 2018</td>\n",
       "      <td>1.0.0</td>\n",
       "      <td>4.0.3 and up</td>\n",
       "    </tr>\n",
       "    <tr>\n",
       "      <th>1</th>\n",
       "      <td>Coloring book moana</td>\n",
       "      <td>ART_AND_DESIGN</td>\n",
       "      <td>3.9</td>\n",
       "      <td>967</td>\n",
       "      <td>14M</td>\n",
       "      <td>500,000+</td>\n",
       "      <td>Free</td>\n",
       "      <td>0</td>\n",
       "      <td>Everyone</td>\n",
       "      <td>Art &amp; Design;Pretend Play</td>\n",
       "      <td>January 15, 2018</td>\n",
       "      <td>2.0.0</td>\n",
       "      <td>4.0.3 and up</td>\n",
       "    </tr>\n",
       "    <tr>\n",
       "      <th>2</th>\n",
       "      <td>U Launcher Lite – FREE Live Cool Themes, Hide ...</td>\n",
       "      <td>ART_AND_DESIGN</td>\n",
       "      <td>4.7</td>\n",
       "      <td>87510</td>\n",
       "      <td>8.7M</td>\n",
       "      <td>5,000,000+</td>\n",
       "      <td>Free</td>\n",
       "      <td>0</td>\n",
       "      <td>Everyone</td>\n",
       "      <td>Art &amp; Design</td>\n",
       "      <td>August 1, 2018</td>\n",
       "      <td>1.2.4</td>\n",
       "      <td>4.0.3 and up</td>\n",
       "    </tr>\n",
       "    <tr>\n",
       "      <th>3</th>\n",
       "      <td>Sketch - Draw &amp; Paint</td>\n",
       "      <td>ART_AND_DESIGN</td>\n",
       "      <td>4.5</td>\n",
       "      <td>215644</td>\n",
       "      <td>25M</td>\n",
       "      <td>50,000,000+</td>\n",
       "      <td>Free</td>\n",
       "      <td>0</td>\n",
       "      <td>Teen</td>\n",
       "      <td>Art &amp; Design</td>\n",
       "      <td>June 8, 2018</td>\n",
       "      <td>Varies with device</td>\n",
       "      <td>4.2 and up</td>\n",
       "    </tr>\n",
       "    <tr>\n",
       "      <th>4</th>\n",
       "      <td>Pixel Draw - Number Art Coloring Book</td>\n",
       "      <td>ART_AND_DESIGN</td>\n",
       "      <td>4.3</td>\n",
       "      <td>967</td>\n",
       "      <td>2.8M</td>\n",
       "      <td>100,000+</td>\n",
       "      <td>Free</td>\n",
       "      <td>0</td>\n",
       "      <td>Everyone</td>\n",
       "      <td>Art &amp; Design;Creativity</td>\n",
       "      <td>June 20, 2018</td>\n",
       "      <td>1.1</td>\n",
       "      <td>4.4 and up</td>\n",
       "    </tr>\n",
       "  </tbody>\n",
       "</table>\n",
       "</div>"
      ],
      "text/plain": [
       "                                                 App  ...   Android Ver\n",
       "0     Photo Editor & Candy Camera & Grid & ScrapBook  ...  4.0.3 and up\n",
       "1                                Coloring book moana  ...  4.0.3 and up\n",
       "2  U Launcher Lite – FREE Live Cool Themes, Hide ...  ...  4.0.3 and up\n",
       "3                              Sketch - Draw & Paint  ...    4.2 and up\n",
       "4              Pixel Draw - Number Art Coloring Book  ...    4.4 and up\n",
       "\n",
       "[5 rows x 13 columns]"
      ]
     },
     "execution_count": 3,
     "metadata": {
      "tags": []
     },
     "output_type": "execute_result"
    }
   ],
   "source": [
    "reviews.head()"
   ]
  },
  {
   "cell_type": "markdown",
   "metadata": {
    "colab_type": "text",
    "id": "RD7HAGooWMLo"
   },
   "source": [
    "We will predict app ratings using other features describing the app. To use these features, we must clean the data.\n",
    "\n",
    "Start by creating dummy variables out of the type and content rating columns."
   ]
  },
  {
   "cell_type": "code",
   "execution_count": 0,
   "metadata": {
    "colab": {
     "base_uri": "https://localhost:8080/",
     "height": 969
    },
    "colab_type": "code",
    "executionInfo": {
     "elapsed": 309,
     "status": "ok",
     "timestamp": 1590520063776,
     "user": {
      "displayName": "Sam Holmstrom",
      "photoUrl": "",
      "userId": "05645048604521877205"
     },
     "user_tz": 300
    },
    "id": "vNbj5FIGWMLp",
    "outputId": "2e5b19b6-1fa7-411a-a708-d23be42699fc"
   },
   "outputs": [
    {
     "name": "stdout",
     "output_type": "stream",
     "text": [
      "<class 'pandas.core.frame.DataFrame'>\n",
      "RangeIndex: 10841 entries, 0 to 10840\n",
      "Data columns (total 21 columns):\n",
      " #   Column                       Non-Null Count  Dtype  \n",
      "---  ------                       --------------  -----  \n",
      " 0   App                          10841 non-null  object \n",
      " 1   Category                     10841 non-null  object \n",
      " 2   Rating                       10841 non-null  float64\n",
      " 3   Reviews                      10841 non-null  object \n",
      " 4   Size                         10841 non-null  object \n",
      " 5   Installs                     10841 non-null  object \n",
      " 6   Type                         10840 non-null  object \n",
      " 7   Price                        10841 non-null  object \n",
      " 8   Content Rating               10840 non-null  object \n",
      " 9   Genres                       10841 non-null  object \n",
      " 10  Last Updated                 10841 non-null  object \n",
      " 11  Current Ver                  10833 non-null  object \n",
      " 12  Android Ver                  10838 non-null  object \n",
      " 13  Installsn                    10841 non-null  object \n",
      " 14  Type_Free                    10841 non-null  uint8  \n",
      " 15  Type_Paid                    10841 non-null  uint8  \n",
      " 16  Content Rating_Everyone      10841 non-null  uint8  \n",
      " 17  Content Rating_Everyone 10+  10841 non-null  uint8  \n",
      " 18  Content Rating_Mature 17+    10841 non-null  uint8  \n",
      " 19  Content Rating_Teen          10841 non-null  uint8  \n",
      " 20  Content Rating_Unrated       10841 non-null  uint8  \n",
      "dtypes: float64(1), object(13), uint8(7)\n",
      "memory usage: 1.2+ MB\n",
      "<class 'pandas.core.frame.DataFrame'>\n",
      "RangeIndex: 10841 entries, 0 to 10840\n",
      "Data columns (total 21 columns):\n",
      " #   Column                       Non-Null Count  Dtype  \n",
      "---  ------                       --------------  -----  \n",
      " 0   App                          10841 non-null  object \n",
      " 1   Category                     10841 non-null  object \n",
      " 2   Rating                       10841 non-null  float64\n",
      " 3   Reviews                      10841 non-null  object \n",
      " 4   Size                         10841 non-null  object \n",
      " 5   Installs                     10841 non-null  object \n",
      " 6   Type                         10840 non-null  object \n",
      " 7   Price                        10841 non-null  object \n",
      " 8   Content Rating               10840 non-null  object \n",
      " 9   Genres                       10841 non-null  object \n",
      " 10  Last Updated                 10841 non-null  object \n",
      " 11  Current Ver                  10833 non-null  object \n",
      " 12  Android Ver                  10838 non-null  object \n",
      " 13  Installsn                    10841 non-null  object \n",
      " 14  Type_Free                    10841 non-null  uint8  \n",
      " 15  Type_Paid                    10841 non-null  uint8  \n",
      " 16  Content Rating_Everyone      10841 non-null  uint8  \n",
      " 17  Content Rating_Everyone 10+  10841 non-null  uint8  \n",
      " 18  Content Rating_Mature 17+    10841 non-null  uint8  \n",
      " 19  Content Rating_Teen          10841 non-null  uint8  \n",
      " 20  Content Rating_Unrated       10841 non-null  uint8  \n",
      "dtypes: float64(1), object(13), uint8(7)\n",
      "memory usage: 1.2+ MB\n"
     ]
    }
   ],
   "source": [
    "# answer below:\n",
    "reviewsdm = pd.concat([reviews, pd.get_dummies(reviews['Type'], drop_first=True, prefix ='Type'), pd.get_dummies(reviews['Content Rating'], drop_first=True, prefix ='Content Rating')], axis = 1)\n",
    "reviewsdm.Rating.interpolate(inplace=True)\n",
    "reviewsdm.info()\n",
    "reviewsdm.drop('Type', axis=1)\n",
    "reviewsdm.drop('Content Rating', axis=1)\n",
    "\n",
    "reviewsdm.info()\n"
   ]
  },
  {
   "cell_type": "markdown",
   "metadata": {
    "colab_type": "text",
    "id": "DKtcnNARWMLq"
   },
   "source": [
    "Next, check for missing values and remove all rows containing missing values"
   ]
  },
  {
   "cell_type": "code",
   "execution_count": 0,
   "metadata": {
    "colab": {
     "base_uri": "https://localhost:8080/",
     "height": 187
    },
    "colab_type": "code",
    "executionInfo": {
     "elapsed": 329,
     "status": "ok",
     "timestamp": 1590520185969,
     "user": {
      "displayName": "Sam Holmstrom",
      "photoUrl": "",
      "userId": "05645048604521877205"
     },
     "user_tz": 300
    },
    "id": "jPxJSCQTWMLr",
    "outputId": "b0d1ef43-ad04-4964-a86c-165284e5a309"
   },
   "outputs": [
    {
     "name": "stdout",
     "output_type": "stream",
     "text": [
      "['0' '0.99' '1.00' '1.04' '1.20' '1.26' '1.29' '1.49' '1.50' '1.59' '1.61'\n",
      " '1.70' '1.75' '1.76' '1.96' '1.97' '1.99' '10.00' '10.99' '109.99'\n",
      " '11.99' '12.99' '13.99' '14.00' '14.99' '15.46' '15.99' '154.99' '16.99'\n",
      " '17.99' '18.99' '19.40' '19.90' '19.99' '2.00' '2.49' '2.50' '2.56'\n",
      " '2.59' '2.60' '2.90' '2.95' '2.99' '200.00' '24.99' '25.99' '28.99'\n",
      " '29.99' '299.99' '3.02' '3.04' '3.08' '3.28' '3.49' '3.61' '3.88' '3.90'\n",
      " '3.95' '3.99' '30.99' '33.99' '37.99' '379.99' '389.99' '39.99' '394.99'\n",
      " '399.99' '4.29' '4.49' '4.59' '4.60' '4.77' '4.80' '4.84' '4.85' '4.99'\n",
      " '400.00' '46.99' '5.00' '5.49' '5.99' '6.49' '6.99' '7.49' '7.99' '74.99'\n",
      " '79.99' '8.49' '8.99' '89.99' '9.00' '9.99']\n"
     ]
    }
   ],
   "source": [
    "# answer below:\n",
    "\n",
    "\n",
    "reviewsclean = reviewsdm.drop(reviewsdm[reviewsdm['Price'] == 'Everyone'].index)\n",
    "\n",
    "reviewsclean['Price']= pd.to_numeric(reviewsclean.Price.str.replace('$', ''))\n",
    "reviewsclean['Reviews'] = pd.to_numeric(reviewsclean.Reviews)"
   ]
  },
  {
   "cell_type": "code",
   "execution_count": 0,
   "metadata": {
    "colab": {},
    "colab_type": "code",
    "id": "9anNopjfWMLs"
   },
   "outputs": [],
   "source": []
  },
  {
   "cell_type": "markdown",
   "metadata": {
    "colab_type": "text",
    "id": "ieg0JuQlWMLu"
   },
   "source": [
    "To simplify, we will remove the app, category, size, installs, genres, last updated, current ver, and android ver columns. "
   ]
  },
  {
   "cell_type": "code",
   "execution_count": 0,
   "metadata": {
    "colab": {
     "base_uri": "https://localhost:8080/",
     "height": 323
    },
    "colab_type": "code",
    "executionInfo": {
     "elapsed": 344,
     "status": "ok",
     "timestamp": 1590520191708,
     "user": {
      "displayName": "Sam Holmstrom",
      "photoUrl": "",
      "userId": "05645048604521877205"
     },
     "user_tz": 300
    },
    "id": "RNxRhhpuWMLu",
    "outputId": "3fdc3894-1f85-46e2-8246-d5abedfebf8d"
   },
   "outputs": [
    {
     "name": "stdout",
     "output_type": "stream",
     "text": [
      "<class 'pandas.core.frame.DataFrame'>\n",
      "Int64Index: 10840 entries, 0 to 10840\n",
      "Data columns (total 10 columns):\n",
      " #   Column                       Non-Null Count  Dtype  \n",
      "---  ------                       --------------  -----  \n",
      " 0   Rating                       10840 non-null  float64\n",
      " 1   Reviews                      10840 non-null  int64  \n",
      " 2   Price                        10840 non-null  float64\n",
      " 3   Type_Free                    10840 non-null  uint8  \n",
      " 4   Type_Paid                    10840 non-null  uint8  \n",
      " 5   Content Rating_Everyone      10840 non-null  uint8  \n",
      " 6   Content Rating_Everyone 10+  10840 non-null  uint8  \n",
      " 7   Content Rating_Mature 17+    10840 non-null  uint8  \n",
      " 8   Content Rating_Teen          10840 non-null  uint8  \n",
      " 9   Content Rating_Unrated       10840 non-null  uint8  \n",
      "dtypes: float64(2), int64(1), uint8(7)\n",
      "memory usage: 412.9 KB\n",
      "None\n"
     ]
    }
   ],
   "source": [
    "# answer below:\n",
    "reviewsdmd = reviewsclean.drop(['App', 'Category', 'Size', 'Installs', 'Genres', 'Last Updated', 'Current Ver', 'Android Ver', 'Installsn', 'Type','Content Rating'],axis =1)\n",
    "print(reviewsdmd.info())"
   ]
  },
  {
   "cell_type": "markdown",
   "metadata": {
    "colab_type": "text",
    "id": "0SeSNeEYWMLw"
   },
   "source": [
    "Next, check that all the columns are of numeric type and change the type of columns that are not numeric. If coercing to numeric causes missing values, remove those rows containing missing values from our dataset."
   ]
  },
  {
   "cell_type": "code",
   "execution_count": 0,
   "metadata": {
    "colab": {},
    "colab_type": "code",
    "id": "qXqE-KMvWMLw"
   },
   "outputs": [],
   "source": [
    "# answer below:\n",
    "X = reviewsdmd.drop('Rating', axis = 1)\n",
    "y = reviewsdmd['Rating']\n"
   ]
  },
  {
   "cell_type": "code",
   "execution_count": 0,
   "metadata": {
    "colab": {},
    "colab_type": "code",
    "id": "8pX6hcccWMLy"
   },
   "outputs": [],
   "source": []
  },
  {
   "cell_type": "code",
   "execution_count": 0,
   "metadata": {
    "colab": {},
    "colab_type": "code",
    "id": "kk1iwstgWMLz"
   },
   "outputs": [],
   "source": []
  },
  {
   "cell_type": "markdown",
   "metadata": {
    "colab_type": "text",
    "id": "GvmM687VWML1"
   },
   "source": [
    "Perform a train test split with 20% of the data in the test sample."
   ]
  },
  {
   "cell_type": "code",
   "execution_count": 0,
   "metadata": {
    "colab": {},
    "colab_type": "code",
    "id": "COJv_NenWML1"
   },
   "outputs": [],
   "source": [
    "# answer below:\n",
    "from sklearn.model_selection import train_test_split\n",
    "X_train, X_test, y_train, y_test = train_test_split(X, y, test_size = .2)"
   ]
  },
  {
   "cell_type": "markdown",
   "metadata": {
    "colab_type": "text",
    "id": "ke4J9CM2WML3"
   },
   "source": [
    "Now generate a linear model using statsmodels or sklearn and produce a p value for each coefficient in the model. Analyze the results."
   ]
  },
  {
   "cell_type": "code",
   "execution_count": 0,
   "metadata": {
    "colab": {
     "base_uri": "https://localhost:8080/",
     "height": 632
    },
    "colab_type": "code",
    "executionInfo": {
     "elapsed": 527,
     "status": "ok",
     "timestamp": 1590521073323,
     "user": {
      "displayName": "Sam Holmstrom",
      "photoUrl": "",
      "userId": "05645048604521877205"
     },
     "user_tz": 300
    },
    "id": "lo0tMmlEWML3",
    "outputId": "6a0931dc-6e6f-4ae9-985b-dacc476ae113"
   },
   "outputs": [
    {
     "name": "stdout",
     "output_type": "stream",
     "text": [
      "                            OLS Regression Results                            \n",
      "==============================================================================\n",
      "Dep. Variable:                 Rating   R-squared:                       0.008\n",
      "Model:                            OLS   Adj. R-squared:                  0.007\n",
      "Method:                 Least Squares   F-statistic:                     9.256\n",
      "Date:                Tue, 26 May 2020   Prob (F-statistic):           4.07e-14\n",
      "Time:                        19:24:32   Log-Likelihood:                -8200.7\n",
      "No. Observations:               10840   AIC:                         1.642e+04\n",
      "Df Residuals:                   10830   BIC:                         1.649e+04\n",
      "Df Model:                           9                                         \n",
      "Covariance Type:            nonrobust                                         \n",
      "===============================================================================================\n",
      "                                  coef    std err          t      P>|t|      [0.025      0.975]\n",
      "-----------------------------------------------------------------------------------------------\n",
      "const                           4.5147      0.596      7.573      0.000       3.346       5.683\n",
      "Reviews                      1.083e-08    1.7e-09      6.360      0.000    7.49e-09    1.42e-08\n",
      "Price                          -0.0009      0.000     -2.823      0.005      -0.002      -0.000\n",
      "Type_Free                      -0.2150      0.516     -0.416      0.677      -1.227       0.797\n",
      "Type_Paid                      -0.1423      0.517     -0.275      0.783      -1.155       0.871\n",
      "Content Rating_Everyone        -0.1218      0.298     -0.409      0.683      -0.706       0.462\n",
      "Content Rating_Everyone 10+    -0.0647      0.299     -0.216      0.829      -0.651       0.521\n",
      "Content Rating_Mature 17+      -0.1913      0.299     -0.640      0.522      -0.777       0.394\n",
      "Content Rating_Teen            -0.0823      0.298     -0.276      0.783      -0.667       0.502\n",
      "Content Rating_Unrated         -0.3664      0.471     -0.778      0.437      -1.289       0.557\n",
      "==============================================================================\n",
      "Omnibus:                     3976.966   Durbin-Watson:                   1.371\n",
      "Prob(Omnibus):                  0.000   Jarque-Bera (JB):            18143.816\n",
      "Skew:                          -1.746   Prob(JB):                         0.00\n",
      "Kurtosis:                       8.289   Cond. No.                     5.59e+08\n",
      "==============================================================================\n",
      "\n",
      "Warnings:\n",
      "[1] Standard Errors assume that the covariance matrix of the errors is correctly specified.\n",
      "[2] The condition number is large, 5.59e+08. This might indicate that there are\n",
      "strong multicollinearity or other numerical problems.\n"
     ]
    }
   ],
   "source": [
    "#answer below:\n",
    "import statsmodels.api as sm\n",
    "X = sm.add_constant(X)\n",
    "results = sm.OLS(y, X).fit()\n",
    "print(results.summary())"
   ]
  },
  {
   "cell_type": "code",
   "execution_count": 0,
   "metadata": {
    "colab": {},
    "colab_type": "code",
    "id": "BfOvXFh5WML5"
   },
   "outputs": [],
   "source": [
    "import seaborn as sns\n",
    "sns.scatter"
   ]
  },
  {
   "cell_type": "code",
   "execution_count": 0,
   "metadata": {
    "colab": {},
    "colab_type": "code",
    "id": "I-pBzKsDWML6"
   },
   "outputs": [],
   "source": []
  }
 ],
 "metadata": {
  "colab": {
   "collapsed_sections": [],
   "name": "Sam_Day 27 Lecture 1 Assignment.ipynb",
   "provenance": [
    {
     "file_id": "1mbwquxG7ij83N1Yi4wtECqtoSKsZmVqB",
     "timestamp": 1590514030345
    },
    {
     "file_id": "1RLvnkFYiq-ZWQqcctEsyqGvwqBhQRSyR",
     "timestamp": 1571158726663
    }
   ]
  },
  "kernelspec": {
   "display_name": "Python 3",
   "language": "python",
   "name": "python3"
  },
  "language_info": {
   "codemirror_mode": {
    "name": "ipython",
    "version": 3
   },
   "file_extension": ".py",
   "mimetype": "text/x-python",
   "name": "python",
   "nbconvert_exporter": "python",
   "pygments_lexer": "ipython3",
   "version": "3.7.4"
  }
 },
 "nbformat": 4,
 "nbformat_minor": 1
}
