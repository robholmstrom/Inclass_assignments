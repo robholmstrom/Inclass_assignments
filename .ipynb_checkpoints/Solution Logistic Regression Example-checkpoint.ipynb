{
 "cells": [
  {
   "cell_type": "code",
   "execution_count": 0,
   "metadata": {
    "colab": {},
    "colab_type": "code",
    "id": "zO9n_pwdzNZ3"
   },
   "outputs": [],
   "source": [
    "import numpy as np\n",
    "import pandas as pd\n",
    "import matplotlib.pyplot as plt\n",
    "import seaborn as sns\n",
    "%matplotlib inline"
   ]
  },
  {
   "cell_type": "markdown",
   "metadata": {
    "colab_type": "text",
    "id": "SGdwzBIrzNZ-"
   },
   "source": [
    "## Data Import"
   ]
  },
  {
   "cell_type": "markdown",
   "metadata": {
    "colab_type": "text",
    "id": "tSEFzI0pzNZ_"
   },
   "source": [
    "<font size=4> We're using a data set here with all continuous features. The continuous inputs lend themselves well to having coefficients, so this could be a good model type for this data set. </font>"
   ]
  },
  {
   "cell_type": "code",
   "execution_count": 0,
   "metadata": {
    "colab": {},
    "colab_type": "code",
    "id": "QtjspseJzNaA"
   },
   "outputs": [],
   "source": [
    "df = pd.read_csv('https://tf-assets-prod.s3.amazonaws.com/tf-curric/data-science/red-wine-quality-cortez-et-al-2009.zip', compression='zip')"
   ]
  },
  {
   "cell_type": "code",
   "execution_count": 33,
   "metadata": {
    "colab": {
     "base_uri": "https://localhost:8080/",
     "height": 34
    },
    "colab_type": "code",
    "executionInfo": {
     "elapsed": 771,
     "status": "ok",
     "timestamp": 1591830125154,
     "user": {
      "displayName": "Sam Holmstrom",
      "photoUrl": "",
      "userId": "05645048604521877205"
     },
     "user_tz": 300
    },
    "id": "YW66kVF4zNaD",
    "outputId": "3c006db0-de3e-4caa-ad87-1f42d347049f"
   },
   "outputs": [
    {
     "data": {
      "text/plain": [
       "(1599, 13)"
      ]
     },
     "execution_count": 33,
     "metadata": {
      "tags": []
     },
     "output_type": "execute_result"
    }
   ],
   "source": [
    "df.shape"
   ]
  },
  {
   "cell_type": "code",
   "execution_count": 34,
   "metadata": {
    "colab": {
     "base_uri": "https://localhost:8080/",
     "height": 204
    },
    "colab_type": "code",
    "executionInfo": {
     "elapsed": 1390,
     "status": "ok",
     "timestamp": 1591830127059,
     "user": {
      "displayName": "Sam Holmstrom",
      "photoUrl": "",
      "userId": "05645048604521877205"
     },
     "user_tz": 300
    },
    "id": "qQO7ouJZzNaI",
    "outputId": "3f01d895-2716-43a5-fca8-cb92908e615a"
   },
   "outputs": [
    {
     "data": {
      "text/html": [
       "<div>\n",
       "<style scoped>\n",
       "    .dataframe tbody tr th:only-of-type {\n",
       "        vertical-align: middle;\n",
       "    }\n",
       "\n",
       "    .dataframe tbody tr th {\n",
       "        vertical-align: top;\n",
       "    }\n",
       "\n",
       "    .dataframe thead th {\n",
       "        text-align: right;\n",
       "    }\n",
       "</style>\n",
       "<table border=\"1\" class=\"dataframe\">\n",
       "  <thead>\n",
       "    <tr style=\"text-align: right;\">\n",
       "      <th></th>\n",
       "      <th>fixed acidity</th>\n",
       "      <th>volatile acidity</th>\n",
       "      <th>citric acid</th>\n",
       "      <th>residual sugar</th>\n",
       "      <th>chlorides</th>\n",
       "      <th>free sulfur dioxide</th>\n",
       "      <th>total sulfur dioxide</th>\n",
       "      <th>density</th>\n",
       "      <th>pH</th>\n",
       "      <th>sulphates</th>\n",
       "      <th>alcohol</th>\n",
       "      <th>quality</th>\n",
       "      <th>quality_bin</th>\n",
       "    </tr>\n",
       "  </thead>\n",
       "  <tbody>\n",
       "    <tr>\n",
       "      <th>0</th>\n",
       "      <td>7.4</td>\n",
       "      <td>0.70</td>\n",
       "      <td>0.00</td>\n",
       "      <td>1.9</td>\n",
       "      <td>0.076</td>\n",
       "      <td>11.0</td>\n",
       "      <td>34.0</td>\n",
       "      <td>0.9978</td>\n",
       "      <td>3.51</td>\n",
       "      <td>0.56</td>\n",
       "      <td>9.4</td>\n",
       "      <td>5</td>\n",
       "      <td>0</td>\n",
       "    </tr>\n",
       "    <tr>\n",
       "      <th>1</th>\n",
       "      <td>7.8</td>\n",
       "      <td>0.88</td>\n",
       "      <td>0.00</td>\n",
       "      <td>2.6</td>\n",
       "      <td>0.098</td>\n",
       "      <td>25.0</td>\n",
       "      <td>67.0</td>\n",
       "      <td>0.9968</td>\n",
       "      <td>3.20</td>\n",
       "      <td>0.68</td>\n",
       "      <td>9.8</td>\n",
       "      <td>5</td>\n",
       "      <td>0</td>\n",
       "    </tr>\n",
       "    <tr>\n",
       "      <th>2</th>\n",
       "      <td>7.8</td>\n",
       "      <td>0.76</td>\n",
       "      <td>0.04</td>\n",
       "      <td>2.3</td>\n",
       "      <td>0.092</td>\n",
       "      <td>15.0</td>\n",
       "      <td>54.0</td>\n",
       "      <td>0.9970</td>\n",
       "      <td>3.26</td>\n",
       "      <td>0.65</td>\n",
       "      <td>9.8</td>\n",
       "      <td>5</td>\n",
       "      <td>0</td>\n",
       "    </tr>\n",
       "    <tr>\n",
       "      <th>3</th>\n",
       "      <td>11.2</td>\n",
       "      <td>0.28</td>\n",
       "      <td>0.56</td>\n",
       "      <td>1.9</td>\n",
       "      <td>0.075</td>\n",
       "      <td>17.0</td>\n",
       "      <td>60.0</td>\n",
       "      <td>0.9980</td>\n",
       "      <td>3.16</td>\n",
       "      <td>0.58</td>\n",
       "      <td>9.8</td>\n",
       "      <td>6</td>\n",
       "      <td>1</td>\n",
       "    </tr>\n",
       "    <tr>\n",
       "      <th>4</th>\n",
       "      <td>7.4</td>\n",
       "      <td>0.70</td>\n",
       "      <td>0.00</td>\n",
       "      <td>1.9</td>\n",
       "      <td>0.076</td>\n",
       "      <td>11.0</td>\n",
       "      <td>34.0</td>\n",
       "      <td>0.9978</td>\n",
       "      <td>3.51</td>\n",
       "      <td>0.56</td>\n",
       "      <td>9.4</td>\n",
       "      <td>5</td>\n",
       "      <td>0</td>\n",
       "    </tr>\n",
       "  </tbody>\n",
       "</table>\n",
       "</div>"
      ],
      "text/plain": [
       "   fixed acidity  volatile acidity  citric acid  ...  alcohol  quality  quality_bin\n",
       "0            7.4              0.70         0.00  ...      9.4        5            0\n",
       "1            7.8              0.88         0.00  ...      9.8        5            0\n",
       "2            7.8              0.76         0.04  ...      9.8        5            0\n",
       "3           11.2              0.28         0.56  ...      9.8        6            1\n",
       "4            7.4              0.70         0.00  ...      9.4        5            0\n",
       "\n",
       "[5 rows x 13 columns]"
      ]
     },
     "execution_count": 34,
     "metadata": {
      "tags": []
     },
     "output_type": "execute_result"
    }
   ],
   "source": [
    "df.head()"
   ]
  },
  {
   "cell_type": "code",
   "execution_count": 35,
   "metadata": {
    "colab": {
     "base_uri": "https://localhost:8080/",
     "height": 255
    },
    "colab_type": "code",
    "executionInfo": {
     "elapsed": 1738,
     "status": "ok",
     "timestamp": 1591830129971,
     "user": {
      "displayName": "Sam Holmstrom",
      "photoUrl": "",
      "userId": "05645048604521877205"
     },
     "user_tz": 300
    },
    "id": "WbVHCGfAzNaL",
    "outputId": "862f798e-7e87-4359-9009-88b513e72819"
   },
   "outputs": [
    {
     "data": {
      "text/plain": [
       "fixed acidity           0\n",
       "volatile acidity        0\n",
       "citric acid             0\n",
       "residual sugar          0\n",
       "chlorides               0\n",
       "free sulfur dioxide     0\n",
       "total sulfur dioxide    0\n",
       "density                 0\n",
       "pH                      0\n",
       "sulphates               0\n",
       "alcohol                 0\n",
       "quality                 0\n",
       "quality_bin             0\n",
       "dtype: int64"
      ]
     },
     "execution_count": 35,
     "metadata": {
      "tags": []
     },
     "output_type": "execute_result"
    }
   ],
   "source": [
    "df.isnull().sum()"
   ]
  },
  {
   "cell_type": "markdown",
   "metadata": {
    "colab_type": "text",
    "id": "5NdzIxTEzNaO"
   },
   "source": [
    "<font size=4> There are no nulls in this data set, so we can skip this cleaning step. </font>"
   ]
  },
  {
   "cell_type": "code",
   "execution_count": 36,
   "metadata": {
    "colab": {
     "base_uri": "https://localhost:8080/",
     "height": 314
    },
    "colab_type": "code",
    "executionInfo": {
     "elapsed": 631,
     "status": "ok",
     "timestamp": 1591830131431,
     "user": {
      "displayName": "Sam Holmstrom",
      "photoUrl": "",
      "userId": "05645048604521877205"
     },
     "user_tz": 300
    },
    "id": "GO2FiEjQzNaQ",
    "outputId": "1d059b21-7fe8-4ccb-b80c-4da342b5c3d7"
   },
   "outputs": [
    {
     "data": {
      "text/html": [
       "<div>\n",
       "<style scoped>\n",
       "    .dataframe tbody tr th:only-of-type {\n",
       "        vertical-align: middle;\n",
       "    }\n",
       "\n",
       "    .dataframe tbody tr th {\n",
       "        vertical-align: top;\n",
       "    }\n",
       "\n",
       "    .dataframe thead th {\n",
       "        text-align: right;\n",
       "    }\n",
       "</style>\n",
       "<table border=\"1\" class=\"dataframe\">\n",
       "  <thead>\n",
       "    <tr style=\"text-align: right;\">\n",
       "      <th></th>\n",
       "      <th>fixed acidity</th>\n",
       "      <th>volatile acidity</th>\n",
       "      <th>citric acid</th>\n",
       "      <th>residual sugar</th>\n",
       "      <th>chlorides</th>\n",
       "      <th>free sulfur dioxide</th>\n",
       "      <th>total sulfur dioxide</th>\n",
       "      <th>density</th>\n",
       "      <th>pH</th>\n",
       "      <th>sulphates</th>\n",
       "      <th>alcohol</th>\n",
       "      <th>quality</th>\n",
       "      <th>quality_bin</th>\n",
       "    </tr>\n",
       "  </thead>\n",
       "  <tbody>\n",
       "    <tr>\n",
       "      <th>count</th>\n",
       "      <td>1599.000000</td>\n",
       "      <td>1599.000000</td>\n",
       "      <td>1599.000000</td>\n",
       "      <td>1599.000000</td>\n",
       "      <td>1599.000000</td>\n",
       "      <td>1599.000000</td>\n",
       "      <td>1599.000000</td>\n",
       "      <td>1599.000000</td>\n",
       "      <td>1599.000000</td>\n",
       "      <td>1599.000000</td>\n",
       "      <td>1599.000000</td>\n",
       "      <td>1599.000000</td>\n",
       "      <td>1599.000000</td>\n",
       "    </tr>\n",
       "    <tr>\n",
       "      <th>mean</th>\n",
       "      <td>8.319637</td>\n",
       "      <td>0.527821</td>\n",
       "      <td>0.270976</td>\n",
       "      <td>2.538806</td>\n",
       "      <td>0.087467</td>\n",
       "      <td>15.874922</td>\n",
       "      <td>46.467792</td>\n",
       "      <td>0.996747</td>\n",
       "      <td>3.311113</td>\n",
       "      <td>0.658149</td>\n",
       "      <td>10.422983</td>\n",
       "      <td>5.636023</td>\n",
       "      <td>0.534709</td>\n",
       "    </tr>\n",
       "    <tr>\n",
       "      <th>std</th>\n",
       "      <td>1.741096</td>\n",
       "      <td>0.179060</td>\n",
       "      <td>0.194801</td>\n",
       "      <td>1.409928</td>\n",
       "      <td>0.047065</td>\n",
       "      <td>10.460157</td>\n",
       "      <td>32.895324</td>\n",
       "      <td>0.001887</td>\n",
       "      <td>0.154386</td>\n",
       "      <td>0.169507</td>\n",
       "      <td>1.065668</td>\n",
       "      <td>0.807569</td>\n",
       "      <td>0.498950</td>\n",
       "    </tr>\n",
       "    <tr>\n",
       "      <th>min</th>\n",
       "      <td>4.600000</td>\n",
       "      <td>0.120000</td>\n",
       "      <td>0.000000</td>\n",
       "      <td>0.900000</td>\n",
       "      <td>0.012000</td>\n",
       "      <td>1.000000</td>\n",
       "      <td>6.000000</td>\n",
       "      <td>0.990070</td>\n",
       "      <td>2.740000</td>\n",
       "      <td>0.330000</td>\n",
       "      <td>8.400000</td>\n",
       "      <td>3.000000</td>\n",
       "      <td>0.000000</td>\n",
       "    </tr>\n",
       "    <tr>\n",
       "      <th>25%</th>\n",
       "      <td>7.100000</td>\n",
       "      <td>0.390000</td>\n",
       "      <td>0.090000</td>\n",
       "      <td>1.900000</td>\n",
       "      <td>0.070000</td>\n",
       "      <td>7.000000</td>\n",
       "      <td>22.000000</td>\n",
       "      <td>0.995600</td>\n",
       "      <td>3.210000</td>\n",
       "      <td>0.550000</td>\n",
       "      <td>9.500000</td>\n",
       "      <td>5.000000</td>\n",
       "      <td>0.000000</td>\n",
       "    </tr>\n",
       "    <tr>\n",
       "      <th>50%</th>\n",
       "      <td>7.900000</td>\n",
       "      <td>0.520000</td>\n",
       "      <td>0.260000</td>\n",
       "      <td>2.200000</td>\n",
       "      <td>0.079000</td>\n",
       "      <td>14.000000</td>\n",
       "      <td>38.000000</td>\n",
       "      <td>0.996750</td>\n",
       "      <td>3.310000</td>\n",
       "      <td>0.620000</td>\n",
       "      <td>10.200000</td>\n",
       "      <td>6.000000</td>\n",
       "      <td>1.000000</td>\n",
       "    </tr>\n",
       "    <tr>\n",
       "      <th>75%</th>\n",
       "      <td>9.200000</td>\n",
       "      <td>0.640000</td>\n",
       "      <td>0.420000</td>\n",
       "      <td>2.600000</td>\n",
       "      <td>0.090000</td>\n",
       "      <td>21.000000</td>\n",
       "      <td>62.000000</td>\n",
       "      <td>0.997835</td>\n",
       "      <td>3.400000</td>\n",
       "      <td>0.730000</td>\n",
       "      <td>11.100000</td>\n",
       "      <td>6.000000</td>\n",
       "      <td>1.000000</td>\n",
       "    </tr>\n",
       "    <tr>\n",
       "      <th>max</th>\n",
       "      <td>15.900000</td>\n",
       "      <td>1.580000</td>\n",
       "      <td>1.000000</td>\n",
       "      <td>15.500000</td>\n",
       "      <td>0.611000</td>\n",
       "      <td>72.000000</td>\n",
       "      <td>289.000000</td>\n",
       "      <td>1.003690</td>\n",
       "      <td>4.010000</td>\n",
       "      <td>2.000000</td>\n",
       "      <td>14.900000</td>\n",
       "      <td>8.000000</td>\n",
       "      <td>1.000000</td>\n",
       "    </tr>\n",
       "  </tbody>\n",
       "</table>\n",
       "</div>"
      ],
      "text/plain": [
       "       fixed acidity  volatile acidity  ...      quality  quality_bin\n",
       "count    1599.000000       1599.000000  ...  1599.000000  1599.000000\n",
       "mean        8.319637          0.527821  ...     5.636023     0.534709\n",
       "std         1.741096          0.179060  ...     0.807569     0.498950\n",
       "min         4.600000          0.120000  ...     3.000000     0.000000\n",
       "25%         7.100000          0.390000  ...     5.000000     0.000000\n",
       "50%         7.900000          0.520000  ...     6.000000     1.000000\n",
       "75%         9.200000          0.640000  ...     6.000000     1.000000\n",
       "max        15.900000          1.580000  ...     8.000000     1.000000\n",
       "\n",
       "[8 rows x 13 columns]"
      ]
     },
     "execution_count": 36,
     "metadata": {
      "tags": []
     },
     "output_type": "execute_result"
    }
   ],
   "source": [
    "df.describe()"
   ]
  },
  {
   "cell_type": "markdown",
   "metadata": {
    "colab_type": "text",
    "id": "U4X-_nQNzNaV"
   },
   "source": [
    "## Y Stuff"
   ]
  },
  {
   "cell_type": "code",
   "execution_count": 37,
   "metadata": {
    "colab": {
     "base_uri": "https://localhost:8080/",
     "height": 281
    },
    "colab_type": "code",
    "executionInfo": {
     "elapsed": 790,
     "status": "ok",
     "timestamp": 1591830134880,
     "user": {
      "displayName": "Sam Holmstrom",
      "photoUrl": "",
      "userId": "05645048604521877205"
     },
     "user_tz": 300
    },
    "id": "fSlsQB30zNaX",
    "outputId": "ba163557-0deb-401d-a236-75f8a3f7b762"
   },
   "outputs": [
    {
     "data": {
      "image/png": "[encoded data removed]",
      "text/plain": [
       "<Figure size 432x288 with 1 Axes>"
      ]
     },
     "metadata": {
      "needs_background": "light",
      "tags": []
     },
     "output_type": "display_data"
    }
   ],
   "source": [
    "df['quality'].hist()\n",
    "plt.title('Quality Score')\n",
    "plt.show()"
   ]
  },
  {
   "cell_type": "markdown",
   "metadata": {
    "colab_type": "text",
    "id": "dSWX4XD_zNaa"
   },
   "source": [
    "### Class Balance"
   ]
  },
  {
   "cell_type": "markdown",
   "metadata": {
    "colab_type": "text",
    "id": "UMTV8g0LzNab"
   },
   "source": [
    "<font size=4> The first decision is how to translate the continuous outcome variable to categorical. We get the best class balance (number of samples from each category) if we make a cutoff at between 5 and 6, assigning a 1 if quality is 6 or above.\n",
    "\n",
    "This is a situation where use case comes in; in future there will typically be a reason to choose a cutoff that is significant. </font>"
   ]
  },
  {
   "cell_type": "code",
   "execution_count": 0,
   "metadata": {
    "colab": {},
    "colab_type": "code",
    "id": "w75Cdfm0zNac"
   },
   "outputs": [],
   "source": [
    "df['quality_bin'] = np.where(df['quality'] >= 6, 1, 0)\n",
    "\n",
    "Y = df['quality_bin']\n",
    "\n",
    "X = df.drop(['quality', 'quality_bin'], axis=1)"
   ]
  },
  {
   "cell_type": "code",
   "execution_count": 39,
   "metadata": {
    "colab": {
     "base_uri": "https://localhost:8080/",
     "height": 296
    },
    "colab_type": "code",
    "executionInfo": {
     "elapsed": 742,
     "status": "ok",
     "timestamp": 1591830140275,
     "user": {
      "displayName": "Sam Holmstrom",
      "photoUrl": "",
      "userId": "05645048604521877205"
     },
     "user_tz": 300
    },
    "id": "CGKCEvPCzNaf",
    "outputId": "56537cb2-af45-4510-d022-52ff6523d7b6"
   },
   "outputs": [
    {
     "data": {
      "image/png": "[encoded data removed]",
      "text/plain": [
       "<Figure size 432x288 with 1 Axes>"
      ]
     },
     "metadata": {
      "needs_background": "light",
      "tags": []
     },
     "output_type": "display_data"
    }
   ],
   "source": [
    "sns.countplot(Y)\n",
    "plt.title('Class Balance')\n",
    "plt.show()"
   ]
  },
  {
   "cell_type": "code",
   "execution_count": 40,
   "metadata": {
    "colab": {
     "base_uri": "https://localhost:8080/",
     "height": 34
    },
    "colab_type": "code",
    "executionInfo": {
     "elapsed": 461,
     "status": "ok",
     "timestamp": 1591830144993,
     "user": {
      "displayName": "Sam Holmstrom",
      "photoUrl": "",
      "userId": "05645048604521877205"
     },
     "user_tz": 300
    },
    "id": "X16xnyznzNai",
    "outputId": "3525cfb8-fb79-498b-997b-a06a06a6cbd6"
   },
   "outputs": [
    {
     "name": "stdout",
     "output_type": "stream",
     "text": [
      "[0.5347091932457786, 0.4652908067542214]\n"
     ]
    }
   ],
   "source": [
    "ratio = (df['quality_bin'].value_counts().iloc[0])/(df['quality_bin'].shape[0])\n",
    "print([ratio, 1-ratio])"
   ]
  },
  {
   "cell_type": "code",
   "execution_count": 0,
   "metadata": {
    "colab": {},
    "colab_type": "code",
    "id": "4dk4OPDJzNar"
   },
   "outputs": [],
   "source": [
    "bad_balance = np.where(df['quality'] >= 7, 1, 0)"
   ]
  },
  {
   "cell_type": "code",
   "execution_count": 42,
   "metadata": {
    "colab": {
     "base_uri": "https://localhost:8080/",
     "height": 281
    },
    "colab_type": "code",
    "executionInfo": {
     "elapsed": 464,
     "status": "ok",
     "timestamp": 1591830149490,
     "user": {
      "displayName": "Sam Holmstrom",
      "photoUrl": "",
      "userId": "05645048604521877205"
     },
     "user_tz": 300
    },
    "id": "zb9_jjX0zNaw",
    "outputId": "39a299df-dd4d-45b9-c5f0-489324ea30d9"
   },
   "outputs": [
    {
     "data": {
      "image/png": "[encoded data removed]",
      "text/plain": [
       "<Figure size 432x288 with 1 Axes>"
      ]
     },
     "metadata": {
      "needs_background": "light",
      "tags": []
     },
     "output_type": "display_data"
    }
   ],
   "source": [
    "sns.countplot(bad_balance)\n",
    "plt.title('Imbalanced Classes')\n",
    "plt.show()"
   ]
  },
  {
   "cell_type": "code",
   "execution_count": 43,
   "metadata": {
    "colab": {
     "base_uri": "https://localhost:8080/",
     "height": 85
    },
    "colab_type": "code",
    "executionInfo": {
     "elapsed": 436,
     "status": "ok",
     "timestamp": 1591830155327,
     "user": {
      "displayName": "Sam Holmstrom",
      "photoUrl": "",
      "userId": "05645048604521877205"
     },
     "user_tz": 300
    },
    "id": "BwXLVScpzNa1",
    "outputId": "ea53c90d-583a-4eb7-a205-88b457cba727"
   },
   "outputs": [
    {
     "name": "stdout",
     "output_type": "stream",
     "text": [
      "0    1382\n",
      "1     217\n",
      "dtype: int64\n",
      "0.8642901813633521\n"
     ]
    }
   ],
   "source": [
    "bad_balance = pd.Series(bad_balance)\n",
    "print(bad_balance.value_counts())\n",
    "print(bad_balance.value_counts().iloc[0]/bad_balance.shape[0])"
   ]
  },
  {
   "cell_type": "markdown",
   "metadata": {
    "colab_type": "text",
    "id": "cVhuMMdszNa6"
   },
   "source": [
    "## X Stuff"
   ]
  },
  {
   "cell_type": "code",
   "execution_count": 0,
   "metadata": {
    "colab": {},
    "colab_type": "code",
    "id": "pqPRhi0gzNa7"
   },
   "outputs": [],
   "source": [
    "from sklearn.model_selection import train_test_split\n",
    "X_train, X_test, Y_train, Y_test = train_test_split(X, Y, test_size=0.3, \n",
    "                                                    stratify=Y, random_state=42)"
   ]
  },
  {
   "cell_type": "markdown",
   "metadata": {
    "colab_type": "text",
    "id": "8f3DuK4DzNa-"
   },
   "source": [
    "### Data Leakage, Random State"
   ]
  },
  {
   "cell_type": "markdown",
   "metadata": {
    "colab_type": "text",
    "id": "1udN-Z35zNa_"
   },
   "source": [
    "<font size=4> Notice that we are splitting the training and test sets immediately, before doing any input feature transformations. The amount of data leakage (information from the test set influencing the model) changes the amount of uncertainty in your results.\n",
    "\n",
    "Splitting out your test set later in the process means your test data is influencing your transformations (normalization, feature selection). </font>"
   ]
  },
  {
   "cell_type": "code",
   "execution_count": 45,
   "metadata": {
    "colab": {
     "base_uri": "https://localhost:8080/",
     "height": 365
    },
    "colab_type": "code",
    "executionInfo": {
     "elapsed": 922,
     "status": "ok",
     "timestamp": 1591830161934,
     "user": {
      "displayName": "Sam Holmstrom",
      "photoUrl": "",
      "userId": "05645048604521877205"
     },
     "user_tz": 300
    },
    "id": "eIqoUvE4zNbA",
    "outputId": "80b57c10-f020-40a7-e690-028556302a24"
   },
   "outputs": [
    {
     "data": {
      "image/png": "[encoded data removed]",
      "text/plain": [
       "<Figure size 432x288 with 1 Axes>"
      ]
     },
     "metadata": {
      "needs_background": "light",
      "tags": []
     },
     "output_type": "display_data"
    }
   ],
   "source": [
    "ax = sns.boxplot(data=X_train, whis=2)\n",
    "ax.set_xticklabels(ax.get_xticklabels(), rotation=90)\n",
    "plt.title('Unscaled X')\n",
    "plt.show()"
   ]
  },
  {
   "cell_type": "code",
   "execution_count": 46,
   "metadata": {
    "colab": {
     "base_uri": "https://localhost:8080/",
     "height": 34
    },
    "colab_type": "code",
    "executionInfo": {
     "elapsed": 440,
     "status": "ok",
     "timestamp": 1591830166255,
     "user": {
      "displayName": "Sam Holmstrom",
      "photoUrl": "",
      "userId": "05645048604521877205"
     },
     "user_tz": 300
    },
    "id": "1c-IVAMjzNbE",
    "outputId": "47d68c16-6360-44c1-a4da-07e9bcc6361c"
   },
   "outputs": [
    {
     "name": "stdout",
     "output_type": "stream",
     "text": [
      "<class 'pandas.core.series.Series'>\n"
     ]
    }
   ],
   "source": [
    "from sklearn.preprocessing import QuantileTransformer\n",
    "\n",
    "scale = QuantileTransformer(output_distribution='normal')\n",
    "\n",
    "X_train_scale = scale.fit_transform(X_train)\n",
    "X_train_scale = pd.DataFrame(X_train_scale, columns=X_train.columns)\n",
    "print(type(Y_train))\n",
    "X_test_scale = scale.transform(X_test)\n",
    "X_test_scale = pd.DataFrame(X_test_scale, columns=X_test.columns)"
   ]
  },
  {
   "cell_type": "code",
   "execution_count": 47,
   "metadata": {
    "colab": {
     "base_uri": "https://localhost:8080/",
     "height": 365
    },
    "colab_type": "code",
    "executionInfo": {
     "elapsed": 729,
     "status": "ok",
     "timestamp": 1591830169522,
     "user": {
      "displayName": "Sam Holmstrom",
      "photoUrl": "",
      "userId": "05645048604521877205"
     },
     "user_tz": 300
    },
    "id": "GHSLWPI-zNbJ",
    "outputId": "c5149bc9-2751-4553-c86f-2783b2ea707c"
   },
   "outputs": [
    {
     "data": {
      "image/png": "[encoded data removed]",
      "text/plain": [
       "<Figure size 432x288 with 1 Axes>"
      ]
     },
     "metadata": {
      "needs_background": "light",
      "tags": []
     },
     "output_type": "display_data"
    }
   ],
   "source": [
    "ax = sns.boxplot(data=X_train_scale, whis=5)\n",
    "ax.set_xticklabels(ax.get_xticklabels(), rotation=90)\n",
    "plt.title('Scaled X')\n",
    "plt.show()"
   ]
  },
  {
   "cell_type": "markdown",
   "metadata": {
    "colab_type": "text",
    "id": "m6Shnba0zNbU"
   },
   "source": [
    "<font size=4> We tried several scaling/normalization models here (`StandardScaler`, `Normalizer`, `PowerTransformer`), and the `QuantileTransformer` gave the best results.\n",
    "\n",
    "It also has the benefit that since all the features have exactly the same distribution, the values of their coefficients mean exactly the same thing from feature to feature. More on that after the model. </font>"
   ]
  },
  {
   "cell_type": "code",
   "execution_count": 48,
   "metadata": {
    "colab": {
     "base_uri": "https://localhost:8080/",
     "height": 1000
    },
    "colab_type": "code",
    "executionInfo": {
     "elapsed": 1961,
     "status": "ok",
     "timestamp": 1591830174746,
     "user": {
      "displayName": "Sam Holmstrom",
      "photoUrl": "",
      "userId": "05645048604521877205"
     },
     "user_tz": 300
    },
    "id": "UghM06PPzNbX",
    "outputId": "cb550d63-46b4-45a5-a3b6-61d9a80a9721",
    "scrolled": true
   },
   "outputs": [
    {
     "data": {
      "image/png": "[encoded data removed]",
      "text/plain": [
       "<Figure size 360x3600 with 11 Axes>"
      ]
     },
     "metadata": {
      "needs_background": "light",
      "tags": []
     },
     "output_type": "display_data"
    }
   ],
   "source": [
    "big_df = pd.concat([X_train_scale, Y_train], axis=1)\n",
    "fig, ax = plt.subplots(big_df.shape[1]-1, figsize=(5,50))\n",
    "\n",
    "for i in range(big_df.shape[1]-1):\n",
    "    sns.boxplot(big_df.iloc[:,11], big_df.iloc[:,i], ax=ax[i])\n",
    "\n",
    "plt.show()"
   ]
  },
  {
   "cell_type": "markdown",
   "metadata": {
    "colab_type": "text",
    "id": "Z-O0Qn73zNbg"
   },
   "source": [
    "<font size=4> Comparing our continuous features against our categorical outcome. We want to see differences in mean and distribution between the two outcome categories. Some features have more difference than others; none of them have clearly delimited categories though. </font>"
   ]
  },
  {
   "cell_type": "markdown",
   "metadata": {
    "colab_type": "text",
    "id": "0zhJ3muxzNbh"
   },
   "source": [
    "### Collinearity"
   ]
  },
  {
   "cell_type": "code",
   "execution_count": 49,
   "metadata": {
    "colab": {
     "base_uri": "https://localhost:8080/",
     "height": 353
    },
    "colab_type": "code",
    "executionInfo": {
     "elapsed": 788,
     "status": "ok",
     "timestamp": 1591830178888,
     "user": {
      "displayName": "Sam Holmstrom",
      "photoUrl": "",
      "userId": "05645048604521877205"
     },
     "user_tz": 300
    },
    "id": "0qNO2IWGzNbi",
    "outputId": "8e02086a-87d5-430c-8227-61a0b159420a"
   },
   "outputs": [
    {
     "data": {
      "image/png": "[encoded data removed]",
      "text/plain": [
       "<Figure size 432x288 with 2 Axes>"
      ]
     },
     "metadata": {
      "needs_background": "light",
      "tags": []
     },
     "output_type": "display_data"
    }
   ],
   "source": [
    "sns.heatmap(big_df.corr(), cmap='RdBu_r', center=0)\n",
    "plt.show()"
   ]
  },
  {
   "cell_type": "markdown",
   "metadata": {
    "colab_type": "text",
    "id": "nrxT9i59zNbl"
   },
   "source": [
    "<font size=4>Two things to notice in the correlation matrix. The first thing that jumps out is the high correlation between some of the input features. This is generally a problem for linear models that assume low collinearity of features.\n",
    "    \n",
    "We will talk more about this below with regularization, and then again when we cover regression models later on.</font>"
   ]
  },
  {
   "cell_type": "code",
   "execution_count": 50,
   "metadata": {
    "colab": {
     "base_uri": "https://localhost:8080/",
     "height": 493
    },
    "colab_type": "code",
    "executionInfo": {
     "elapsed": 1566,
     "status": "ok",
     "timestamp": 1591830182603,
     "user": {
      "displayName": "Sam Holmstrom",
      "photoUrl": "",
      "userId": "05645048604521877205"
     },
     "user_tz": 300
    },
    "id": "sVB_qDt-zNbl",
    "outputId": "8d04dc4b-5323-4fc6-a12f-4fde4c187a80"
   },
   "outputs": [
    {
     "data": {
      "image/png": "[encoded data removed]",
      "text/plain": [
       "<Figure size 1080x504 with 2 Axes>"
      ]
     },
     "metadata": {
      "needs_background": "light",
      "tags": []
     },
     "output_type": "display_data"
    }
   ],
   "source": [
    "fig, (ax1, ax2) = plt.subplots(1, 2, figsize=(15,7))\n",
    "plt.suptitle('Highly Correlated Features')\n",
    "sns.regplot('fixed acidity', 'density', data=X_train, line_kws={'color':'k'}, ax=ax1)\n",
    "ax1.set_title('Unscaled Data')\n",
    "sns.regplot('fixed acidity', 'density', data=X_train_scale, line_kws={'color':'k'}, ax=ax2)\n",
    "ax2.set_title('Scaled Data')\n",
    "plt.show()"
   ]
  },
  {
   "cell_type": "code",
   "execution_count": 0,
   "metadata": {
    "colab": {},
    "colab_type": "code",
    "id": "u6h6_6KRzNbo"
   },
   "outputs": [],
   "source": [
    "from sklearn.decomposition import PCA\n",
    "pca = PCA(n_components=10)\n",
    "X_train_pca = pca.fit_transform(X_train_scale, Y_train)\n",
    "X_test_pca = pca.transform(X_test_scale)"
   ]
  },
  {
   "cell_type": "code",
   "execution_count": 52,
   "metadata": {
    "colab": {
     "base_uri": "https://localhost:8080/",
     "height": 85
    },
    "colab_type": "code",
    "executionInfo": {
     "elapsed": 747,
     "status": "ok",
     "timestamp": 1591830188146,
     "user": {
      "displayName": "Sam Holmstrom",
      "photoUrl": "",
      "userId": "05645048604521877205"
     },
     "user_tz": 300
    },
    "id": "cIEk1yFmzNbt",
    "outputId": "11df10d1-6a0c-4402-e199-78ffbe3a5770"
   },
   "outputs": [
    {
     "data": {
      "text/plain": [
       "Index(['fixed acidity', 'volatile acidity', 'citric acid', 'chlorides',\n",
       "       'free sulfur dioxide', 'total sulfur dioxide', 'density', 'pH',\n",
       "       'sulphates', 'alcohol'],\n",
       "      dtype='object')"
      ]
     },
     "execution_count": 52,
     "metadata": {
      "tags": []
     },
     "output_type": "execute_result"
    }
   ],
   "source": [
    "from sklearn.feature_selection import SelectKBest\n",
    "best = SelectKBest(k=10)\n",
    "X_train_best = best.fit_transform(X_train_scale, Y_train)\n",
    "X_test_best = best.transform(X_test_scale)\n",
    "\n",
    "best_features = X_train_scale.loc[:,best.get_support()]\n",
    "best_features.columns"
   ]
  },
  {
   "cell_type": "markdown",
   "metadata": {
    "colab_type": "text",
    "id": "d2-RoFSQzNbw"
   },
   "source": [
    "<font size=4> We experimented with PCA and feature selection; neither of them helped the accuracy of the model. We left this here to show how to use these techniques with a training and test set. </font>"
   ]
  },
  {
   "cell_type": "markdown",
   "metadata": {
    "colab_type": "text",
    "id": "_0YjwHaRzNbx"
   },
   "source": [
    "## Model"
   ]
  },
  {
   "cell_type": "code",
   "execution_count": 53,
   "metadata": {
    "colab": {
     "base_uri": "https://localhost:8080/",
     "height": 34
    },
    "colab_type": "code",
    "executionInfo": {
     "elapsed": 485,
     "status": "ok",
     "timestamp": 1591830198287,
     "user": {
      "displayName": "Sam Holmstrom",
      "photoUrl": "",
      "userId": "05645048604521877205"
     },
     "user_tz": 300
    },
    "id": "2IAelnIOzNbz",
    "outputId": "84aaf534-8cab-4c8b-efd7-087977195028"
   },
   "outputs": [
    {
     "data": {
      "text/plain": [
       "sklearn.linear_model._logistic.LogisticRegression"
      ]
     },
     "execution_count": 53,
     "metadata": {
      "tags": []
     },
     "output_type": "execute_result"
    }
   ],
   "source": [
    "from sklearn.linear_model import LogisticRegression\n",
    "from sklearn.metrics import log_loss\n",
    "\n",
    "c_values = []\n",
    "train_scores=[]\n",
    "test_scores=[]\n",
    "train_loss = []\n",
    "test_loss = []\n",
    "\n",
    "c_low = -7\n",
    "c_high = 1\n",
    "\n",
    "for c in np.logspace(c_low, c_high, num=c_high-c_low+1):\n",
    "    c_values.append(c)\n",
    "    \n",
    "    logit = LogisticRegression(C=c, penalty='l2', solver='liblinear')\n",
    "\n",
    "    logit.fit(X_train_scale, Y_train)\n",
    "    train_probs = logit.predict_proba(X_train_scale)\n",
    "    test_probs = logit.predict_proba(X_test_scale)\n",
    "    \n",
    "    train_scores.append(logit.score(X_train_scale, Y_train))\n",
    "    test_scores.append(logit.score(X_test_scale, Y_test))\n",
    "    train_loss.append(log_loss(Y_train, train_probs))\n",
    "    test_loss.append(log_loss(Y_test, test_probs))\n",
    "score_list = list(zip(train_scores, test_scores, train_loss, test_loss))\n",
    "type(logit)"
   ]
  },
  {
   "cell_type": "markdown",
   "metadata": {
    "colab_type": "text",
    "id": "CA2oJab7zNb2"
   },
   "source": [
    "### Regularization, Log Loss"
   ]
  },
  {
   "cell_type": "markdown",
   "metadata": {
    "colab_type": "text",
    "id": "APrPSdRdzNb3"
   },
   "source": [
    "<font size=4> Here is where we are training the model, and using our test (validation) set to evaluate its accuracy and level of overfitting. We use a sequence of `C` values, changing the degree of regularization, varying them by orders of magnitude, and compare the results to find the best value. \n",
    "\n",
    "Log loss uses the probabilities calculated for each sample to measure the \"goodness\" of the model. The log loss increases exponentially the more certainty the model has when it is incorrect.</font>"
   ]
  },
  {
   "cell_type": "code",
   "execution_count": 54,
   "metadata": {
    "colab": {
     "base_uri": "https://localhost:8080/",
     "height": 328
    },
    "colab_type": "code",
    "executionInfo": {
     "elapsed": 499,
     "status": "ok",
     "timestamp": 1591830322359,
     "user": {
      "displayName": "Sam Holmstrom",
      "photoUrl": "",
      "userId": "05645048604521877205"
     },
     "user_tz": 300
    },
    "id": "f8i9eA6szNb4",
    "outputId": "4348ece5-4a88-4f68-acd8-c6fdcece5ace"
   },
   "outputs": [
    {
     "data": {
      "text/html": [
       "<div>\n",
       "<style scoped>\n",
       "    .dataframe tbody tr th:only-of-type {\n",
       "        vertical-align: middle;\n",
       "    }\n",
       "\n",
       "    .dataframe tbody tr th {\n",
       "        vertical-align: top;\n",
       "    }\n",
       "\n",
       "    .dataframe thead th {\n",
       "        text-align: right;\n",
       "    }\n",
       "</style>\n",
       "<table border=\"1\" class=\"dataframe\">\n",
       "  <thead>\n",
       "    <tr style=\"text-align: right;\">\n",
       "      <th></th>\n",
       "      <th>Train Score</th>\n",
       "      <th>Test Score</th>\n",
       "      <th>Train Log Loss</th>\n",
       "      <th>Test Log Loss</th>\n",
       "    </tr>\n",
       "  </thead>\n",
       "  <tbody>\n",
       "    <tr>\n",
       "      <th>1.000000e-07</th>\n",
       "      <td>0.720286</td>\n",
       "      <td>0.720833</td>\n",
       "      <td>0.693133</td>\n",
       "      <td>0.693133</td>\n",
       "    </tr>\n",
       "    <tr>\n",
       "      <th>1.000000e-06</th>\n",
       "      <td>0.720286</td>\n",
       "      <td>0.720833</td>\n",
       "      <td>0.693007</td>\n",
       "      <td>0.693001</td>\n",
       "    </tr>\n",
       "    <tr>\n",
       "      <th>1.000000e-05</th>\n",
       "      <td>0.722073</td>\n",
       "      <td>0.720833</td>\n",
       "      <td>0.691761</td>\n",
       "      <td>0.691697</td>\n",
       "    </tr>\n",
       "    <tr>\n",
       "      <th>1.000000e-04</th>\n",
       "      <td>0.726542</td>\n",
       "      <td>0.718750</td>\n",
       "      <td>0.680246</td>\n",
       "      <td>0.679677</td>\n",
       "    </tr>\n",
       "    <tr>\n",
       "      <th>1.000000e-03</th>\n",
       "      <td>0.728329</td>\n",
       "      <td>0.725000</td>\n",
       "      <td>0.616772</td>\n",
       "      <td>0.614317</td>\n",
       "    </tr>\n",
       "    <tr>\n",
       "      <th>1.000000e-02</th>\n",
       "      <td>0.748883</td>\n",
       "      <td>0.731250</td>\n",
       "      <td>0.539100</td>\n",
       "      <td>0.539364</td>\n",
       "    </tr>\n",
       "    <tr>\n",
       "      <th>1.000000e-01</th>\n",
       "      <td>0.745308</td>\n",
       "      <td>0.725000</td>\n",
       "      <td>0.523972</td>\n",
       "      <td>0.530971</td>\n",
       "    </tr>\n",
       "    <tr>\n",
       "      <th>1.000000e+00</th>\n",
       "      <td>0.743521</td>\n",
       "      <td>0.725000</td>\n",
       "      <td>0.523262</td>\n",
       "      <td>0.532397</td>\n",
       "    </tr>\n",
       "    <tr>\n",
       "      <th>1.000000e+01</th>\n",
       "      <td>0.744415</td>\n",
       "      <td>0.720833</td>\n",
       "      <td>0.523249</td>\n",
       "      <td>0.532655</td>\n",
       "    </tr>\n",
       "  </tbody>\n",
       "</table>\n",
       "</div>"
      ],
      "text/plain": [
       "              Train Score  Test Score  Train Log Loss  Test Log Loss\n",
       "1.000000e-07     0.720286    0.720833        0.693133       0.693133\n",
       "1.000000e-06     0.720286    0.720833        0.693007       0.693001\n",
       "1.000000e-05     0.722073    0.720833        0.691761       0.691697\n",
       "1.000000e-04     0.726542    0.718750        0.680246       0.679677\n",
       "1.000000e-03     0.728329    0.725000        0.616772       0.614317\n",
       "1.000000e-02     0.748883    0.731250        0.539100       0.539364\n",
       "1.000000e-01     0.745308    0.725000        0.523972       0.530971\n",
       "1.000000e+00     0.743521    0.725000        0.523262       0.532397\n",
       "1.000000e+01     0.744415    0.720833        0.523249       0.532655"
      ]
     },
     "execution_count": 54,
     "metadata": {
      "tags": []
     },
     "output_type": "execute_result"
    }
   ],
   "source": [
    "score_data = pd.DataFrame(score_list, index=c_values, \n",
    "                          columns=['Train Score', 'Test Score', 'Train Log Loss', 'Test Log Loss'])\n",
    "score_data"
   ]
  },
  {
   "cell_type": "code",
   "execution_count": 55,
   "metadata": {
    "colab": {
     "base_uri": "https://localhost:8080/",
     "height": 299
    },
    "colab_type": "code",
    "executionInfo": {
     "elapsed": 836,
     "status": "ok",
     "timestamp": 1591830327440,
     "user": {
      "displayName": "Sam Holmstrom",
      "photoUrl": "",
      "userId": "05645048604521877205"
     },
     "user_tz": 300
    },
    "id": "qZU-pHyvzNb8",
    "outputId": "838ffd8a-6393-42e1-8589-a6a36bd8730a"
   },
   "outputs": [
    {
     "data": {
      "image/png": "[encoded data removed]",
      "text/plain": [
       "<Figure size 432x288 with 1 Axes>"
      ]
     },
     "metadata": {
      "needs_background": "light",
      "tags": []
     },
     "output_type": "display_data"
    }
   ],
   "source": [
    "ax = sns.lineplot(data=score_data)\n",
    "ax.set(xscale='log')\n",
    "plt.axvline(score_data['Test Score'].idxmax(), color='k')\n",
    "plt.axvline(score_data['Test Log Loss'].idxmin(), color='r')\n",
    "plt.xlabel('C')\n",
    "plt.ylabel('Scores')\n",
    "plt.text(0.0005, 0.68, 'max test\\naccuracy')\n",
    "plt.text(0.2, 0.6, 'min test\\nlog loss', color='r')\n",
    "plt.title('Scores vs C Hyperparameter')\n",
    "plt.show()"
   ]
  },
  {
   "cell_type": "markdown",
   "metadata": {
    "colab_type": "text",
    "id": "DG5uU-TAzNcB"
   },
   "source": [
    "<font size=4> We see here the tradeoff between under- and over-fitting. \n",
    "- With low values of C (stronger regularization), overfitting is low to non-existant, but the accuracy is lower (and log loss is higher). \n",
    "- With high values, accuracy is higher, but at some point the model starts overfitting, so the model is less generalizable to new data. </font>"
   ]
  },
  {
   "cell_type": "code",
   "execution_count": 56,
   "metadata": {
    "colab": {
     "base_uri": "https://localhost:8080/",
     "height": 102
    },
    "colab_type": "code",
    "executionInfo": {
     "elapsed": 499,
     "status": "ok",
     "timestamp": 1591830332762,
     "user": {
      "displayName": "Sam Holmstrom",
      "photoUrl": "",
      "userId": "05645048604521877205"
     },
     "user_tz": 300
    },
    "id": "VHzaTDuszNcC",
    "outputId": "8825fb5c-4490-4969-fad1-00ae0d1e1888"
   },
   "outputs": [
    {
     "data": {
      "text/plain": [
       "LogisticRegression(C=0.01, class_weight=None, dual=False, fit_intercept=True,\n",
       "                   intercept_scaling=1, l1_ratio=None, max_iter=100,\n",
       "                   multi_class='auto', n_jobs=None, penalty='l2',\n",
       "                   random_state=None, solver='liblinear', tol=0.0001, verbose=0,\n",
       "                   warm_start=False)"
      ]
     },
     "execution_count": 56,
     "metadata": {
      "tags": []
     },
     "output_type": "execute_result"
    }
   ],
   "source": [
    "logit = LogisticRegression(C=0.01, penalty='l2', solver='liblinear')\n",
    "\n",
    "logit.fit(X_train_scale, Y_train)\n"
   ]
  },
  {
   "cell_type": "markdown",
   "metadata": {
    "colab_type": "text",
    "id": "lT317Hj-zNcF"
   },
   "source": [
    "<font size=4> We re-train the model with the best hyperparameter, and record the final results and model parameters (coefficients and intercept). </font>"
   ]
  },
  {
   "cell_type": "code",
   "execution_count": 57,
   "metadata": {
    "colab": {
     "base_uri": "https://localhost:8080/",
     "height": 51
    },
    "colab_type": "code",
    "executionInfo": {
     "elapsed": 572,
     "status": "ok",
     "timestamp": 1591830336771,
     "user": {
      "displayName": "Sam Holmstrom",
      "photoUrl": "",
      "userId": "05645048604521877205"
     },
     "user_tz": 300
    },
    "id": "6rr1yftWzNcG",
    "outputId": "985d911b-f4b4-4396-fd1f-02e99891a891"
   },
   "outputs": [
    {
     "name": "stdout",
     "output_type": "stream",
     "text": [
      "Train Score: 0.7489 Test Score: 0.7312\n",
      "Train Log Loss: 0.5391 Test Log Loss: 0.5394\n"
     ]
    }
   ],
   "source": [
    "train_probs = logit.predict_proba(X_train_scale)\n",
    "test_probs = logit.predict_proba(X_test_scale)\n",
    "\n",
    "print('Train Score: {:.4f} Test Score: {:.4f}'.format(logit.score(X_train_scale, Y_train), \n",
    "                                                     logit.score(X_test_scale, Y_test)))\n",
    "print('Train Log Loss: {:.4f} Test Log Loss: {:.4f}'.format(log_loss(Y_train, train_probs), \n",
    "                                                           log_loss(Y_test, test_probs)))\n",
    "\n",
    "\n",
    "\n"
   ]
  },
  {
   "cell_type": "code",
   "execution_count": 58,
   "metadata": {
    "colab": {
     "base_uri": "https://localhost:8080/",
     "height": 68
    },
    "colab_type": "code",
    "executionInfo": {
     "elapsed": 1786,
     "status": "ok",
     "timestamp": 1591830371764,
     "user": {
      "displayName": "Sam Holmstrom",
      "photoUrl": "",
      "userId": "05645048604521877205"
     },
     "user_tz": 300
    },
    "id": "OdoymHlod1Yb",
    "outputId": "45039679-cb08-451f-b77f-917fbb318111"
   },
   "outputs": [
    {
     "data": {
      "text/plain": [
       "array([ 0.15017814, -0.327353  , -0.04559139,  0.04614949, -0.15857663,\n",
       "        0.02970819, -0.27280486, -0.16644085, -0.02652544,  0.42247399,\n",
       "        0.43371554])"
      ]
     },
     "execution_count": 58,
     "metadata": {
      "tags": []
     },
     "output_type": "execute_result"
    }
   ],
   "source": [
    "logit.coef_[0]"
   ]
  },
  {
   "cell_type": "code",
   "execution_count": 29,
   "metadata": {
    "colab": {
     "base_uri": "https://localhost:8080/",
     "height": 421
    },
    "colab_type": "code",
    "executionInfo": {
     "elapsed": 7108,
     "status": "ok",
     "timestamp": 1591830101597,
     "user": {
      "displayName": "Sam Holmstrom",
      "photoUrl": "",
      "userId": "05645048604521877205"
     },
     "user_tz": 300
    },
    "id": "SPYSTQF2zNcJ",
    "outputId": "5b66e840-1efe-41f8-d871-7d08520a2ed9"
   },
   "outputs": [
    {
     "data": {
      "text/html": [
       "<div>\n",
       "<style scoped>\n",
       "    .dataframe tbody tr th:only-of-type {\n",
       "        vertical-align: middle;\n",
       "    }\n",
       "\n",
       "    .dataframe tbody tr th {\n",
       "        vertical-align: top;\n",
       "    }\n",
       "\n",
       "    .dataframe thead th {\n",
       "        text-align: right;\n",
       "    }\n",
       "</style>\n",
       "<table border=\"1\" class=\"dataframe\">\n",
       "  <thead>\n",
       "    <tr style=\"text-align: right;\">\n",
       "      <th></th>\n",
       "      <th>Coef</th>\n",
       "    </tr>\n",
       "  </thead>\n",
       "  <tbody>\n",
       "    <tr>\n",
       "      <th>fixed acidity</th>\n",
       "      <td>0.150178</td>\n",
       "    </tr>\n",
       "    <tr>\n",
       "      <th>volatile acidity</th>\n",
       "      <td>-0.327353</td>\n",
       "    </tr>\n",
       "    <tr>\n",
       "      <th>citric acid</th>\n",
       "      <td>-0.045591</td>\n",
       "    </tr>\n",
       "    <tr>\n",
       "      <th>residual sugar</th>\n",
       "      <td>0.046149</td>\n",
       "    </tr>\n",
       "    <tr>\n",
       "      <th>chlorides</th>\n",
       "      <td>-0.158577</td>\n",
       "    </tr>\n",
       "    <tr>\n",
       "      <th>free sulfur dioxide</th>\n",
       "      <td>0.029708</td>\n",
       "    </tr>\n",
       "    <tr>\n",
       "      <th>total sulfur dioxide</th>\n",
       "      <td>-0.272805</td>\n",
       "    </tr>\n",
       "    <tr>\n",
       "      <th>density</th>\n",
       "      <td>-0.166441</td>\n",
       "    </tr>\n",
       "    <tr>\n",
       "      <th>pH</th>\n",
       "      <td>-0.026525</td>\n",
       "    </tr>\n",
       "    <tr>\n",
       "      <th>sulphates</th>\n",
       "      <td>0.422474</td>\n",
       "    </tr>\n",
       "    <tr>\n",
       "      <th>alcohol</th>\n",
       "      <td>0.433716</td>\n",
       "    </tr>\n",
       "    <tr>\n",
       "      <th>INTERCEPT</th>\n",
       "      <td>0.118983</td>\n",
       "    </tr>\n",
       "  </tbody>\n",
       "</table>\n",
       "</div>"
      ],
      "text/plain": [
       "                          Coef\n",
       "fixed acidity         0.150178\n",
       "volatile acidity     -0.327353\n",
       "citric acid          -0.045591\n",
       "residual sugar        0.046149\n",
       "chlorides            -0.158577\n",
       "free sulfur dioxide   0.029708\n",
       "total sulfur dioxide -0.272805\n",
       "density              -0.166441\n",
       "pH                   -0.026525\n",
       "sulphates             0.422474\n",
       "alcohol               0.433716\n",
       "INTERCEPT             0.118983"
      ]
     },
     "execution_count": 29,
     "metadata": {
      "tags": []
     },
     "output_type": "execute_result"
    }
   ],
   "source": [
    "coefs = pd.DataFrame(logit.coef_[0], index=X_train_scale.columns, columns=['Coef'])\n",
    "coefs.loc['INTERCEPT'] = [logit.intercept_[0]]\n",
    "coefs"
   ]
  },
  {
   "cell_type": "markdown",
   "metadata": {
    "colab_type": "text",
    "id": "RL9ah3E8zNcL"
   },
   "source": [
    "<font size=4> Since our data were all normalized, their coefficients indicate the relative influence of each feature on the model. Coefficients with a lower absolute value are less important. \n",
    "</font>"
   ]
  },
  {
   "cell_type": "markdown",
   "metadata": {
    "colab_type": "text",
    "id": "meGq2a0VzNcM"
   },
   "source": [
    "### Coefficient Interpretation"
   ]
  },
  {
   "cell_type": "markdown",
   "metadata": {
    "colab_type": "text",
    "id": "8cTPQX9YzNcN"
   },
   "source": [
    "<font size=4> Recall here that \n",
    "$$ \\ln\\left(\\frac{p}{1-p}\\right) = h(x) $$ \n",
    "and \n",
    "$$ h(x) = \\theta_1X_1+\\theta_2X_2+\\dots+\\theta_0 $$ \n",
    "\n",
    "so these coefficients and intercept can create a decision boundary plane (in 11-dimensional space this time) at some cutoff of p like 0.5, or can create a continuous field of probabilities between 0 and 1. </font>"
   ]
  },
  {
   "cell_type": "code",
   "execution_count": 30,
   "metadata": {
    "colab": {
     "base_uri": "https://localhost:8080/",
     "height": 295
    },
    "colab_type": "code",
    "executionInfo": {
     "elapsed": 7704,
     "status": "ok",
     "timestamp": 1591830102199,
     "user": {
      "displayName": "Sam Holmstrom",
      "photoUrl": "",
      "userId": "05645048604521877205"
     },
     "user_tz": 300
    },
    "id": "j7Sj7CbezNcO",
    "outputId": "76b0eb4c-f080-4ff3-ac90-9391ecf23e6e"
   },
   "outputs": [
    {
     "data": {
      "image/png": "[encoded data removed]",
      "text/plain": [
       "<Figure size 432x288 with 1 Axes>"
      ]
     },
     "metadata": {
      "needs_background": "light",
      "tags": []
     },
     "output_type": "display_data"
    }
   ],
   "source": [
    "proba = 0.5\n",
    "logitX = np.log(proba / (1-proba))\n",
    "plt.scatter(X_test_scale.iloc[:, 9], X_test_scale.iloc[:, 10], c=Y_test, alpha=0.7)\n",
    "x1_ = np.linspace(-4, 4, 1000)\n",
    "x2_ = (logit.coef_[0,9] * x1_ + logit.intercept_[0] - logitX) / (-1 * logit.coef_[0,10])\n",
    "plt.plot(x1_, x2_, color='k', lw=2)\n",
    "plt.xlabel('sulphates')\n",
    "plt.ylabel('alchohol')\n",
    "plt.title('Intersection of Decision Boundary Plane')\n",
    "plt.show()"
   ]
  },
  {
   "cell_type": "markdown",
   "metadata": {
    "colab_type": "text",
    "id": "cZo35R7fzNcQ"
   },
   "source": [
    "<font size=4> Here we see the decision boundary at p = 0.5 for our two largest coefficient features, assuming all other features are zero. (The data points don't assume this.) \n",
    "    \n",
    "We can see that these two features are somewhat linearly separable, but that there are many data points on either side of the line. \n",
    "</font>\n"
   ]
  },
  {
   "cell_type": "code",
   "execution_count": 31,
   "metadata": {
    "colab": {
     "base_uri": "https://localhost:8080/",
     "height": 51
    },
    "colab_type": "code",
    "executionInfo": {
     "elapsed": 7698,
     "status": "ok",
     "timestamp": 1591830102200,
     "user": {
      "displayName": "Sam Holmstrom",
      "photoUrl": "",
      "userId": "05645048604521877205"
     },
     "user_tz": 300
    },
    "id": "0cF26vk3zNcR",
    "outputId": "250d0f74-5ec2-4886-ae3e-a26e14c22cc9"
   },
   "outputs": [
    {
     "name": "stdout",
     "output_type": "stream",
     "text": [
      "Train Score: 0.5344 Test Score: 0.5354\n",
      "Train Log Loss: 16.0814 Test Log Loss: 16.0465\n"
     ]
    }
   ],
   "source": [
    "from sklearn.dummy import DummyClassifier\n",
    "dummy = DummyClassifier(strategy='most_frequent')\n",
    "dummy.fit(X_train_scale, Y_train)\n",
    "print('Train Score: {:.4f} Test Score: {:.4f}'.format(dummy.score(X_train_scale, Y_train), \n",
    "                                                      dummy.score(X_test_scale, Y_test)))\n",
    "\n",
    "train_probs = dummy.predict(X_train_scale)\n",
    "test_probs = dummy.predict(X_test_scale)\n",
    "\n",
    "print('Train Log Loss: {:.4f} Test Log Loss: {:.4f}'.format(log_loss(Y_train, train_probs), \n",
    "                                                           log_loss(Y_test, test_probs)))"
   ]
  },
  {
   "cell_type": "markdown",
   "metadata": {
    "colab_type": "text",
    "id": "LpOrJudmzNcY"
   },
   "source": [
    "<font size=4> It can be useful to compare a model against a 'dummy' model that obeys a single rule, in this case to always predict the most common Y value, or to guess using the ratio of each class. In this case our classes were pretty well balanced, but if we had a less even balance, using even a dummy model could give a falsely inflated accuracy. </font>"
   ]
  },
  {
   "cell_type": "markdown",
   "metadata": {
    "colab_type": "text",
    "id": "DjnUFMKyjPp0"
   },
   "source": [
    "In this case the dummy model predicts the most frequent class all the time, so the accuracy is about 50%. Notice that because of the certainty of the predictions (the dummy model always predicts 1 or 0), the log loss is much much higher."
   ]
  },
  {
   "cell_type": "code",
   "execution_count": 0,
   "metadata": {
    "colab": {},
    "colab_type": "code",
    "id": "-_u61kX5jgKr"
   },
   "outputs": [],
   "source": []
  }
 ],
 "metadata": {
  "colab": {
   "collapsed_sections": [],
   "name": "Worked Logistic Regression Example.ipynb",
   "provenance": [
    {
     "file_id": "1ExcXCEVPn-24iD8h7XCG5WFu29X4iasM",
     "timestamp": 1590163687126
    }
   ]
  },
  "kernelspec": {
   "display_name": "Python 3",
   "language": "python",
   "name": "python3"
  },
  "language_info": {
   "codemirror_mode": {
    "name": "ipython",
    "version": 3
   },
   "file_extension": ".py",
   "mimetype": "text/x-python",
   "name": "python",
   "nbconvert_exporter": "python",
   "pygments_lexer": "ipython3",
   "version": "3.7.4"
  },
  "toc": {
   "base_numbering": 1,
   "nav_menu": {},
   "number_sections": true,
   "sideBar": true,
   "skip_h1_title": true,
   "title_cell": "Table of Contents",
   "title_sidebar": "Contents",
   "toc_cell": false,
   "toc_position": {},
   "toc_section_display": true,
   "toc_window_display": true
  },
  "varInspector": {
   "cols": {
    "lenName": 16,
    "lenType": 16,
    "lenVar": 40
   },
   "kernels_config": {
    "python": {
     "delete_cmd_postfix": "",
     "delete_cmd_prefix": "del ",
     "library": "var_list.py",
     "varRefreshCmd": "print(var_dic_list())"
    },
    "r": {
     "delete_cmd_postfix": ") ",
     "delete_cmd_prefix": "rm(",
     "library": "var_list.r",
     "varRefreshCmd": "cat(var_dic_list()) "
    }
   },
   "types_to_exclude": [
    "module",
    "function",
    "builtin_function_or_method",
    "instance",
    "_Feature"
   ],
   "window_display": false
  }
 },
 "nbformat": 4,
 "nbformat_minor": 1
}
