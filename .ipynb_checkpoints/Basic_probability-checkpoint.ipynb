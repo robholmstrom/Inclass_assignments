{
 "cells": [
  {
   "cell_type": "code",
   "execution_count": 0,
   "metadata": {
    "colab": {
     "base_uri": "https://localhost:8080/",
     "height": 34
    },
    "colab_type": "code",
    "executionInfo": {
     "elapsed": 511,
     "status": "ok",
     "timestamp": 1586978151676,
     "user": {
      "displayName": "Sam Holmstrom",
      "photoUrl": "",
      "userId": "05645048604521877205"
     },
     "user_tz": 300
    },
    "id": "dfb5uHHZQKCG",
    "outputId": "486a17f4-86f3-4f3e-b051-eaf59113884a"
   },
   "outputs": [
    {
     "name": "stdout",
     "output_type": "stream",
     "text": [
      "0.0625\n"
     ]
    }
   ],
   "source": [
    "\n",
    "# Drill 1:\n",
    "# 1.Calculate the probability of flipping a balanced coin four times and \n",
    "#getting each pattern: HTTH, HHHH and TTHH.\n",
    "print(0.5**4)\n"
   ]
  },
  {
   "cell_type": "code",
   "execution_count": 0,
   "metadata": {
    "colab": {
     "base_uri": "https://localhost:8080/",
     "height": 34
    },
    "colab_type": "code",
    "executionInfo": {
     "elapsed": 512,
     "status": "ok",
     "timestamp": 1586978243302,
     "user": {
      "displayName": "Sam Holmstrom",
      "photoUrl": "",
      "userId": "05645048604521877205"
     },
     "user_tz": 300
    },
    "id": "M2h-jmNFRRWP",
    "outputId": "c8029854-a257-4cfa-86ad-e925c5df6bf5"
   },
   "outputs": [
    {
     "name": "stdout",
     "output_type": "stream",
     "text": [
      "0.5333333333333333\n"
     ]
    }
   ],
   "source": [
    "#2. If a list of people has 24 women and 21 men, then the probability of choosing a man from the list is 21/45. What is the probability \n",
    "# of not choosing a man?\n",
    "print(24/45)"
   ]
  },
  {
   "cell_type": "code",
   "execution_count": 0,
   "metadata": {
    "colab": {
     "base_uri": "https://localhost:8080/",
     "height": 34
    },
    "colab_type": "code",
    "executionInfo": {
     "elapsed": 700,
     "status": "ok",
     "timestamp": 1586979398269,
     "user": {
      "displayName": "Sam Holmstrom",
      "photoUrl": "",
      "userId": "05645048604521877205"
     },
     "user_tz": 300
    },
    "id": "qQLrYM80RmV-",
    "outputId": "08abec6a-73d9-4662-f5d5-650cc7fc09f1"
   },
   "outputs": [
    {
     "name": "stdout",
     "output_type": "stream",
     "text": [
      "0.0005\n"
     ]
    }
   ],
   "source": [
    "#3. The probability that Bernice will travel by plane sometime in the next year is 10%. \n",
    "#The probability of a plane crash at any time is .005%. What is the probability that \n",
    "#Bernice will be in a plane crash sometime in the next year?\n",
    "\n",
    "\n",
    "print(.1 * .005)\n"
   ]
  },
  {
   "cell_type": "code",
   "execution_count": 0,
   "metadata": {
    "colab": {},
    "colab_type": "code",
    "id": "imK4m7NVWPUw"
   },
   "outputs": [],
   "source": [
    "# 4. A data scientist wants to study the behavior of users on the company website. \n",
    "# Each time a user clicks on a link on the website, there is a 5% chance that the user \n",
    "# will be asked to complete a short survey about their behavior on the website. \n",
    "# The data scientist uses the survey data to conclude that, on average, users spend \n",
    "# 15 minutes surfing the company website before moving on to other things. \n",
    "# What is wrong with this conclusion?\n",
    "\n",
    "# 1. \n",
    "\n"
   ]
  },
  {
   "cell_type": "code",
   "execution_count": 0,
   "metadata": {
    "colab": {
     "base_uri": "https://localhost:8080/",
     "height": 85
    },
    "colab_type": "code",
    "executionInfo": {
     "elapsed": 775,
     "status": "ok",
     "timestamp": 1586983761549,
     "user": {
      "displayName": "Sam Holmstrom",
      "photoUrl": "",
      "userId": "05645048604521877205"
     },
     "user_tz": 300
    },
    "id": "XhXaPMdGX0Xf",
    "outputId": "b5c2c026-3093-4d95-dbbb-a77676d59789"
   },
   "outputs": [
    {
     "name": "stdout",
     "output_type": "stream",
     "text": [
      "0.0049\n",
      "0.0995\n",
      "0.1044\n",
      "0.09960000000000001\n"
     ]
    }
   ],
   "source": [
    "# Drill Set 2:\n",
    "\n",
    "#1.\n",
    "\n",
    "#probability of positive result: .1044\n",
    "True_pos = (0.98 * 0.005)\n",
    "False_pos = (.1 * .995)\n",
    "Total_pos = True_pos + False_pos\n",
    "print(True_pos)\n",
    "print(False_pos)\n",
    "print(Total_pos)\n",
    "\n",
    "#2. \n",
    "#Correctly diagnosed a sufferer of Thripshaw's: 98%\n",
    "posterior = True_pos\n",
    "prior = 0.005\n",
    "likelihood = 0.98\n",
    "marginal_likelihood = Total_pos\n",
    "\n",
    "#3.\n",
    "#Correctly identify a non-sufferer of Thripshaws: 90%\n",
    "\n",
    "#4. \n",
    "#Misclassify the person:\n",
    "print((.02 * .005) + (.1 * .995))\n"
   ]
  }
 ],
 "metadata": {
  "colab": {
   "authorship_tag": "ABX9TyMX5wd6M+ltiZ/NFup/x4Id",
   "name": "Copy of Basic_probability.ipynb",
   "provenance": [
    {
     "file_id": "1v3dnBZ71VlDEHCc9WBahvVni4_o6Nxur",
     "timestamp": 1587161094276
    }
   ]
  },
  "kernelspec": {
   "display_name": "Python 3",
   "language": "python",
   "name": "python3"
  },
  "language_info": {
   "codemirror_mode": {
    "name": "ipython",
    "version": 3
   },
   "file_extension": ".py",
   "mimetype": "text/x-python",
   "name": "python",
   "nbconvert_exporter": "python",
   "pygments_lexer": "ipython3",
   "version": "3.7.4"
  }
 },
 "nbformat": 4,
 "nbformat_minor": 1
}
