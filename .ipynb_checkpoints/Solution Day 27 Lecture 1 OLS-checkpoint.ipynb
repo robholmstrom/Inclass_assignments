{
 "cells": [
  {
   "cell_type": "markdown",
   "metadata": {
    "colab_type": "text",
    "id": "fh5Npt8nbAzs"
   },
   "source": [
    "## Day 27 Lecture 1 Assignment\n",
    "\n",
    "In this assignment, we will learn statistical significance in linear models. We will use the google play store dataset loaded below and analyze the regression from this dataset."
   ]
  },
  {
   "cell_type": "code",
   "execution_count": 0,
   "metadata": {
    "colab": {},
    "colab_type": "code",
    "id": "bviOxD8wbAzu"
   },
   "outputs": [],
   "source": [
    "%matplotlib inline\n",
    "\n",
    "import matplotlib.pyplot as plt\n",
    "import numpy as np\n",
    "import pandas as pd"
   ]
  },
  {
   "cell_type": "code",
   "execution_count": 0,
   "metadata": {
    "colab": {},
    "colab_type": "code",
    "id": "lxpwHzgMbAzw"
   },
   "outputs": [],
   "source": [
    "reviews = pd.read_csv('https://tf-assets-prod.s3.amazonaws.com/tf-curric/data-science/googleplaystore.csv')"
   ]
  },
  {
   "cell_type": "code",
   "execution_count": 0,
   "metadata": {
    "colab": {
     "base_uri": "https://localhost:8080/",
     "height": 323
    },
    "colab_type": "code",
    "executionInfo": {
     "elapsed": 2631,
     "status": "ok",
     "timestamp": 1590519552906,
     "user": {
      "displayName": "Mike Swirsky",
      "photoUrl": "https://lh3.googleusercontent.com/a-/AOh14GhmOYfcQD1f_xzYU-OiJt5evVtjJAzwGU9bNAG1=s64",
      "userId": "09733430627481200667"
     },
     "user_tz": 420
    },
    "id": "RAgadZubbAzx",
    "outputId": "5d4a75c3-f20d-4632-bc82-6d2d159974ae"
   },
   "outputs": [
    {
     "data": {
      "text/html": [
       "<div>\n",
       "<style scoped>\n",
       "    .dataframe tbody tr th:only-of-type {\n",
       "        vertical-align: middle;\n",
       "    }\n",
       "\n",
       "    .dataframe tbody tr th {\n",
       "        vertical-align: top;\n",
       "    }\n",
       "\n",
       "    .dataframe thead th {\n",
       "        text-align: right;\n",
       "    }\n",
       "</style>\n",
       "<table border=\"1\" class=\"dataframe\">\n",
       "  <thead>\n",
       "    <tr style=\"text-align: right;\">\n",
       "      <th></th>\n",
       "      <th>App</th>\n",
       "      <th>Category</th>\n",
       "      <th>Rating</th>\n",
       "      <th>Reviews</th>\n",
       "      <th>Size</th>\n",
       "      <th>Installs</th>\n",
       "      <th>Type</th>\n",
       "      <th>Price</th>\n",
       "      <th>Content Rating</th>\n",
       "      <th>Genres</th>\n",
       "      <th>Last Updated</th>\n",
       "      <th>Current Ver</th>\n",
       "      <th>Android Ver</th>\n",
       "    </tr>\n",
       "  </thead>\n",
       "  <tbody>\n",
       "    <tr>\n",
       "      <th>0</th>\n",
       "      <td>Photo Editor &amp; Candy Camera &amp; Grid &amp; ScrapBook</td>\n",
       "      <td>ART_AND_DESIGN</td>\n",
       "      <td>4.1</td>\n",
       "      <td>159</td>\n",
       "      <td>19M</td>\n",
       "      <td>10,000+</td>\n",
       "      <td>Free</td>\n",
       "      <td>0</td>\n",
       "      <td>Everyone</td>\n",
       "      <td>Art &amp; Design</td>\n",
       "      <td>January 7, 2018</td>\n",
       "      <td>1.0.0</td>\n",
       "      <td>4.0.3 and up</td>\n",
       "    </tr>\n",
       "    <tr>\n",
       "      <th>1</th>\n",
       "      <td>Coloring book moana</td>\n",
       "      <td>ART_AND_DESIGN</td>\n",
       "      <td>3.9</td>\n",
       "      <td>967</td>\n",
       "      <td>14M</td>\n",
       "      <td>500,000+</td>\n",
       "      <td>Free</td>\n",
       "      <td>0</td>\n",
       "      <td>Everyone</td>\n",
       "      <td>Art &amp; Design;Pretend Play</td>\n",
       "      <td>January 15, 2018</td>\n",
       "      <td>2.0.0</td>\n",
       "      <td>4.0.3 and up</td>\n",
       "    </tr>\n",
       "    <tr>\n",
       "      <th>2</th>\n",
       "      <td>U Launcher Lite – FREE Live Cool Themes, Hide ...</td>\n",
       "      <td>ART_AND_DESIGN</td>\n",
       "      <td>4.7</td>\n",
       "      <td>87510</td>\n",
       "      <td>8.7M</td>\n",
       "      <td>5,000,000+</td>\n",
       "      <td>Free</td>\n",
       "      <td>0</td>\n",
       "      <td>Everyone</td>\n",
       "      <td>Art &amp; Design</td>\n",
       "      <td>August 1, 2018</td>\n",
       "      <td>1.2.4</td>\n",
       "      <td>4.0.3 and up</td>\n",
       "    </tr>\n",
       "    <tr>\n",
       "      <th>3</th>\n",
       "      <td>Sketch - Draw &amp; Paint</td>\n",
       "      <td>ART_AND_DESIGN</td>\n",
       "      <td>4.5</td>\n",
       "      <td>215644</td>\n",
       "      <td>25M</td>\n",
       "      <td>50,000,000+</td>\n",
       "      <td>Free</td>\n",
       "      <td>0</td>\n",
       "      <td>Teen</td>\n",
       "      <td>Art &amp; Design</td>\n",
       "      <td>June 8, 2018</td>\n",
       "      <td>Varies with device</td>\n",
       "      <td>4.2 and up</td>\n",
       "    </tr>\n",
       "    <tr>\n",
       "      <th>4</th>\n",
       "      <td>Pixel Draw - Number Art Coloring Book</td>\n",
       "      <td>ART_AND_DESIGN</td>\n",
       "      <td>4.3</td>\n",
       "      <td>967</td>\n",
       "      <td>2.8M</td>\n",
       "      <td>100,000+</td>\n",
       "      <td>Free</td>\n",
       "      <td>0</td>\n",
       "      <td>Everyone</td>\n",
       "      <td>Art &amp; Design;Creativity</td>\n",
       "      <td>June 20, 2018</td>\n",
       "      <td>1.1</td>\n",
       "      <td>4.4 and up</td>\n",
       "    </tr>\n",
       "  </tbody>\n",
       "</table>\n",
       "</div>"
      ],
      "text/plain": [
       "                                                 App  ...   Android Ver\n",
       "0     Photo Editor & Candy Camera & Grid & ScrapBook  ...  4.0.3 and up\n",
       "1                                Coloring book moana  ...  4.0.3 and up\n",
       "2  U Launcher Lite – FREE Live Cool Themes, Hide ...  ...  4.0.3 and up\n",
       "3                              Sketch - Draw & Paint  ...    4.2 and up\n",
       "4              Pixel Draw - Number Art Coloring Book  ...    4.4 and up\n",
       "\n",
       "[5 rows x 13 columns]"
      ]
     },
     "execution_count": 116,
     "metadata": {
      "tags": []
     },
     "output_type": "execute_result"
    }
   ],
   "source": [
    "reviews.head()"
   ]
  },
  {
   "cell_type": "code",
   "execution_count": 0,
   "metadata": {
    "colab": {
     "base_uri": "https://localhost:8080/",
     "height": 34
    },
    "colab_type": "code",
    "executionInfo": {
     "elapsed": 2613,
     "status": "ok",
     "timestamp": 1590519552908,
     "user": {
      "displayName": "Mike Swirsky",
      "photoUrl": "https://lh3.googleusercontent.com/a-/AOh14GhmOYfcQD1f_xzYU-OiJt5evVtjJAzwGU9bNAG1=s64",
      "userId": "09733430627481200667"
     },
     "user_tz": 420
    },
    "id": "BFR9z0dTZayB",
    "outputId": "64436347-4fd2-48b9-ea12-442988ae633f"
   },
   "outputs": [
    {
     "data": {
      "text/plain": [
       "(10841, 13)"
      ]
     },
     "execution_count": 117,
     "metadata": {
      "tags": []
     },
     "output_type": "execute_result"
    }
   ],
   "source": [
    "reviews.shape"
   ]
  },
  {
   "cell_type": "markdown",
   "metadata": {
    "colab_type": "text",
    "id": "-mHrf4P_bAzz"
   },
   "source": [
    "We will predict app ratings using other features describing the app. To use these features, we must clean the data.\n",
    "\n",
    "Start by creating dummy variables out of the type and content rating columns."
   ]
  },
  {
   "cell_type": "code",
   "execution_count": 0,
   "metadata": {
    "colab": {
     "base_uri": "https://localhost:8080/",
     "height": 85
    },
    "colab_type": "code",
    "executionInfo": {
     "elapsed": 2570,
     "status": "ok",
     "timestamp": 1590519552908,
     "user": {
      "displayName": "Mike Swirsky",
      "photoUrl": "https://lh3.googleusercontent.com/a-/AOh14GhmOYfcQD1f_xzYU-OiJt5evVtjJAzwGU9bNAG1=s64",
      "userId": "09733430627481200667"
     },
     "user_tz": 420
    },
    "id": "qeYEMTQ4YRO6",
    "outputId": "1ab1fc8f-1df3-420a-d97e-55cf129fb76d"
   },
   "outputs": [
    {
     "data": {
      "text/plain": [
       "Free    10039\n",
       "Paid      800\n",
       "0           1\n",
       "Name: Type, dtype: int64"
      ]
     },
     "execution_count": 118,
     "metadata": {
      "tags": []
     },
     "output_type": "execute_result"
    }
   ],
   "source": [
    "reviews['Type'].value_counts()"
   ]
  },
  {
   "cell_type": "code",
   "execution_count": 0,
   "metadata": {
    "colab": {},
    "colab_type": "code",
    "id": "9obhCLblYgF7"
   },
   "outputs": [],
   "source": [
    "reviews = reviews.loc[reviews['Type'] != '0']"
   ]
  },
  {
   "cell_type": "code",
   "execution_count": 0,
   "metadata": {
    "colab": {
     "base_uri": "https://localhost:8080/",
     "height": 136
    },
    "colab_type": "code",
    "executionInfo": {
     "elapsed": 2522,
     "status": "ok",
     "timestamp": 1590519552910,
     "user": {
      "displayName": "Mike Swirsky",
      "photoUrl": "https://lh3.googleusercontent.com/a-/AOh14GhmOYfcQD1f_xzYU-OiJt5evVtjJAzwGU9bNAG1=s64",
      "userId": "09733430627481200667"
     },
     "user_tz": 420
    },
    "id": "iAYsxiKSCW4V",
    "outputId": "144225ad-e9d5-44c8-f615-5e6da57a7040"
   },
   "outputs": [
    {
     "data": {
      "text/plain": [
       "Everyone           8714\n",
       "Teen               1208\n",
       "Mature 17+          499\n",
       "Everyone 10+        414\n",
       "Adults only 18+       3\n",
       "Unrated               2\n",
       "Name: Content Rating, dtype: int64"
      ]
     },
     "execution_count": 120,
     "metadata": {
      "tags": []
     },
     "output_type": "execute_result"
    }
   ],
   "source": [
    "reviews['Content Rating'].value_counts()"
   ]
  },
  {
   "cell_type": "code",
   "execution_count": 0,
   "metadata": {
    "colab": {},
    "colab_type": "code",
    "id": "UJUJtQiOCnyZ"
   },
   "outputs": [],
   "source": [
    "reviews = reviews.loc[reviews['Content Rating'].isin(['Everyone', 'Teen', 'Mature 17+', 'Everyone 10+'])]"
   ]
  },
  {
   "cell_type": "code",
   "execution_count": 0,
   "metadata": {
    "colab": {},
    "colab_type": "code",
    "id": "y-loScRrbAz0"
   },
   "outputs": [],
   "source": [
    "# answer below:\n",
    "\n",
    "reviews_dummy = pd.get_dummies(reviews, columns=['Content Rating', 'Type'], drop_first=True) "
   ]
  },
  {
   "cell_type": "markdown",
   "metadata": {
    "colab_type": "text",
    "id": "QEpqgqg-bAz1"
   },
   "source": [
    "Next, check for missing values and remove all rows containing missing values"
   ]
  },
  {
   "cell_type": "code",
   "execution_count": 0,
   "metadata": {
    "colab": {
     "base_uri": "https://localhost:8080/",
     "height": 289
    },
    "colab_type": "code",
    "executionInfo": {
     "elapsed": 2423,
     "status": "ok",
     "timestamp": 1590519552912,
     "user": {
      "displayName": "Mike Swirsky",
      "photoUrl": "https://lh3.googleusercontent.com/a-/AOh14GhmOYfcQD1f_xzYU-OiJt5evVtjJAzwGU9bNAG1=s64",
      "userId": "09733430627481200667"
     },
     "user_tz": 420
    },
    "id": "cYbfWlLWbAz2",
    "outputId": "07a1fa49-7d71-475e-d086-17de0d5d9ec3"
   },
   "outputs": [
    {
     "data": {
      "text/plain": [
       "App                               0\n",
       "Category                          0\n",
       "Rating                         1473\n",
       "Reviews                           0\n",
       "Size                              0\n",
       "Installs                          0\n",
       "Price                             0\n",
       "Genres                            0\n",
       "Last Updated                      0\n",
       "Current Ver                       8\n",
       "Android Ver                       2\n",
       "Content Rating_Everyone 10+       0\n",
       "Content Rating_Mature 17+         0\n",
       "Content Rating_Teen               0\n",
       "Type_Paid                         0\n",
       "dtype: int64"
      ]
     },
     "execution_count": 123,
     "metadata": {
      "tags": []
     },
     "output_type": "execute_result"
    }
   ],
   "source": [
    "# answer below:\n",
    "\n",
    "reviews_dummy.isna().sum()"
   ]
  },
  {
   "cell_type": "code",
   "execution_count": 0,
   "metadata": {
    "colab": {},
    "colab_type": "code",
    "id": "m0UdhaZMbAz3"
   },
   "outputs": [],
   "source": [
    "reviews_dummy.dropna(inplace=True)"
   ]
  },
  {
   "cell_type": "markdown",
   "metadata": {
    "colab_type": "text",
    "id": "PDIdCzGdbAz5"
   },
   "source": [
    "To simplify, we will remove the app, category, size, installs, genres, last updated, current ver, and android ver columns. "
   ]
  },
  {
   "cell_type": "code",
   "execution_count": 0,
   "metadata": {
    "colab": {},
    "colab_type": "code",
    "id": "P6MFV04wbAz5"
   },
   "outputs": [],
   "source": [
    "# answer below:\n",
    "\n",
    "cols = [x for x in reviews_dummy.columns.values if x not in \n",
    "        ['App', 'Category', 'Size', 'Installs', 'Genres', 'Last Updated', 'Current Ver', 'Android Ver']]\n",
    "reviews_subset = reviews_dummy[cols]\n",
    "\n",
    "# or\n",
    "# reviews_subset = reviews_dummy.drop(['App', 'Category', 'Size', 'Installs', 'Genres', 'Last Updated', 'Current Ver', 'Android Ver'], axis=1)"
   ]
  },
  {
   "cell_type": "markdown",
   "metadata": {
    "colab_type": "text",
    "id": "hZC68HuWbAz7"
   },
   "source": [
    "Next, check that all the columns are of numeric type and change the type of columns that are not numeric. If coercing to numeric causes missing values, remove those rows containing missing values from our dataset."
   ]
  },
  {
   "cell_type": "code",
   "execution_count": 0,
   "metadata": {
    "colab": {
     "base_uri": "https://localhost:8080/",
     "height": 153
    },
    "colab_type": "code",
    "executionInfo": {
     "elapsed": 2387,
     "status": "ok",
     "timestamp": 1590519552915,
     "user": {
      "displayName": "Mike Swirsky",
      "photoUrl": "https://lh3.googleusercontent.com/a-/AOh14GhmOYfcQD1f_xzYU-OiJt5evVtjJAzwGU9bNAG1=s64",
      "userId": "09733430627481200667"
     },
     "user_tz": 420
    },
    "id": "zfQFMKeibAz7",
    "outputId": "57f9efcc-ce77-4170-be32-f8b82674a77e"
   },
   "outputs": [
    {
     "data": {
      "text/plain": [
       "Rating                         float64\n",
       "Reviews                         object\n",
       "Price                           object\n",
       "Content Rating_Everyone 10+      uint8\n",
       "Content Rating_Mature 17+        uint8\n",
       "Content Rating_Teen              uint8\n",
       "Type_Paid                        uint8\n",
       "dtype: object"
      ]
     },
     "execution_count": 126,
     "metadata": {
      "tags": []
     },
     "output_type": "execute_result"
    }
   ],
   "source": [
    "# answer below:\n",
    "\n",
    "reviews_subset.dtypes"
   ]
  },
  {
   "cell_type": "code",
   "execution_count": 0,
   "metadata": {
    "colab": {
     "base_uri": "https://localhost:8080/",
     "height": 170
    },
    "colab_type": "code",
    "executionInfo": {
     "elapsed": 2740,
     "status": "ok",
     "timestamp": 1590519553330,
     "user": {
      "displayName": "Mike Swirsky",
      "photoUrl": "https://lh3.googleusercontent.com/a-/AOh14GhmOYfcQD1f_xzYU-OiJt5evVtjJAzwGU9bNAG1=s64",
      "userId": "09733430627481200667"
     },
     "user_tz": 420
    },
    "id": "a3oSNh49RtJP",
    "outputId": "eea090bc-b7ed-454f-8af8-3b1163b00a3e"
   },
   "outputs": [
    {
     "data": {
      "text/plain": [
       "count    1.083500e+04\n",
       "mean     4.443502e+05\n",
       "std      2.928422e+06\n",
       "min      0.000000e+00\n",
       "25%      3.800000e+01\n",
       "50%      2.094000e+03\n",
       "75%      5.480250e+04\n",
       "max      7.815831e+07\n",
       "Name: Reviews, dtype: float64"
      ]
     },
     "execution_count": 127,
     "metadata": {
      "tags": []
     },
     "output_type": "execute_result"
    }
   ],
   "source": [
    "reviews['Reviews'].apply(pd.to_numeric, errors='coerce').describe()"
   ]
  },
  {
   "cell_type": "code",
   "execution_count": 0,
   "metadata": {
    "colab": {
     "base_uri": "https://localhost:8080/",
     "height": 102
    },
    "colab_type": "code",
    "executionInfo": {
     "elapsed": 2685,
     "status": "ok",
     "timestamp": 1590519553331,
     "user": {
      "displayName": "Mike Swirsky",
      "photoUrl": "https://lh3.googleusercontent.com/a-/AOh14GhmOYfcQD1f_xzYU-OiJt5evVtjJAzwGU9bNAG1=s64",
      "userId": "09733430627481200667"
     },
     "user_tz": 420
    },
    "id": "zSVrHCb3QTMi",
    "outputId": "828a5fcb-494e-42dc-9c1a-8d20f397a8a4"
   },
   "outputs": [
    {
     "data": {
      "text/plain": [
       "count       800\n",
       "unique       91\n",
       "top       $0.99\n",
       "freq        148\n",
       "Name: Price, dtype: object"
      ]
     },
     "execution_count": 128,
     "metadata": {
      "tags": []
     },
     "output_type": "execute_result"
    }
   ],
   "source": [
    "reviews.loc[reviews['Type']=='Paid', 'Price'].describe()"
   ]
  },
  {
   "cell_type": "code",
   "execution_count": 0,
   "metadata": {
    "colab": {
     "base_uri": "https://localhost:8080/",
     "height": 119
    },
    "colab_type": "code",
    "executionInfo": {
     "elapsed": 2656,
     "status": "ok",
     "timestamp": 1590519553332,
     "user": {
      "displayName": "Mike Swirsky",
      "photoUrl": "https://lh3.googleusercontent.com/a-/AOh14GhmOYfcQD1f_xzYU-OiJt5evVtjJAzwGU9bNAG1=s64",
      "userId": "09733430627481200667"
     },
     "user_tz": 420
    },
    "id": "X5FYBB_MRRV7",
    "outputId": "09d1a5df-8a4e-4612-dda8-18492f797808"
   },
   "outputs": [
    {
     "name": "stderr",
     "output_type": "stream",
     "text": [
      "/usr/local/lib/python3.6/dist-packages/ipykernel_launcher.py:1: SettingWithCopyWarning: \n",
      "A value is trying to be set on a copy of a slice from a DataFrame.\n",
      "Try using .loc[row_indexer,col_indexer] = value instead\n",
      "\n",
      "See the caveats in the documentation: https://pandas.pydata.org/pandas-docs/stable/user_guide/indexing.html#returning-a-view-versus-a-copy\n",
      "  \"\"\"Entry point for launching an IPython kernel.\n"
     ]
    }
   ],
   "source": [
    "reviews_subset['Price'] = reviews_subset['Price'].str.replace('$', '')"
   ]
  },
  {
   "cell_type": "code",
   "execution_count": 0,
   "metadata": {
    "colab": {},
    "colab_type": "code",
    "id": "QIMdRPTZbAz9"
   },
   "outputs": [],
   "source": [
    "reviews_subset = reviews_subset.apply(pd.to_numeric, errors='coerce')"
   ]
  },
  {
   "cell_type": "code",
   "execution_count": 0,
   "metadata": {
    "colab": {},
    "colab_type": "code",
    "id": "BFSAsu-kbAz-"
   },
   "outputs": [],
   "source": [
    "reviews_subset.dropna(inplace=True)"
   ]
  },
  {
   "cell_type": "code",
   "execution_count": 0,
   "metadata": {
    "colab": {
     "base_uri": "https://localhost:8080/",
     "height": 34
    },
    "colab_type": "code",
    "executionInfo": {
     "elapsed": 2620,
     "status": "ok",
     "timestamp": 1590519553334,
     "user": {
      "displayName": "Mike Swirsky",
      "photoUrl": "https://lh3.googleusercontent.com/a-/AOh14GhmOYfcQD1f_xzYU-OiJt5evVtjJAzwGU9bNAG1=s64",
      "userId": "09733430627481200667"
     },
     "user_tz": 420
    },
    "id": "46LErFtzZXAl",
    "outputId": "9e7ba75d-0df4-4f20-cd01-a8a126f08a46"
   },
   "outputs": [
    {
     "data": {
      "text/plain": [
       "(9356, 7)"
      ]
     },
     "execution_count": 132,
     "metadata": {
      "tags": []
     },
     "output_type": "execute_result"
    }
   ],
   "source": [
    "reviews_subset.shape"
   ]
  },
  {
   "cell_type": "markdown",
   "metadata": {
    "colab_type": "text",
    "id": "YSMtxkJqbA0A"
   },
   "source": [
    "Perform a train test split with 20% of the data in the test sample."
   ]
  },
  {
   "cell_type": "code",
   "execution_count": 0,
   "metadata": {
    "colab": {},
    "colab_type": "code",
    "id": "qMRI95VmbA0A"
   },
   "outputs": [],
   "source": [
    "# answer below:\n",
    "from sklearn.model_selection import train_test_split\n",
    "\n",
    "x_cols = [x for x in reviews_subset.columns if x != 'Rating']\n",
    "# or reviews_subset.drop('Rating', axis=1)\n",
    "X_train, X_test, y_train, y_test = train_test_split(reviews_subset[x_cols], reviews_subset['Rating'], test_size = 0.25)"
   ]
  },
  {
   "cell_type": "code",
   "execution_count": 0,
   "metadata": {
    "colab": {},
    "colab_type": "code",
    "id": "CD8qH0yLFXYr"
   },
   "outputs": [],
   "source": [
    "# This scaler changes everything to [0,1] to correspond well with the binary dummy features.\n",
    "\n",
    "from sklearn.preprocessing import MinMaxScaler\n",
    "\n",
    "scale = MinMaxScaler()\n",
    "\n",
    "X_train_scaled = scale.fit_transform(X_train)\n",
    "X_test_scaled = scale.transform(X_test)"
   ]
  },
  {
   "cell_type": "code",
   "execution_count": 0,
   "metadata": {
    "colab": {},
    "colab_type": "code",
    "id": "9FkV1wN2K4Wb"
   },
   "outputs": [],
   "source": [
    "X_train_scaled = pd.DataFrame(X_train_scaled, index=X_train.index, columns=X_train.columns)\n",
    "X_test_scaled = pd.DataFrame(X_test_scaled, index=X_test.index, columns=X_test.columns)"
   ]
  },
  {
   "cell_type": "code",
   "execution_count": 0,
   "metadata": {
    "colab": {
     "base_uri": "https://localhost:8080/",
     "height": 204
    },
    "colab_type": "code",
    "executionInfo": {
     "elapsed": 2523,
     "status": "ok",
     "timestamp": 1590519553338,
     "user": {
      "displayName": "Mike Swirsky",
      "photoUrl": "https://lh3.googleusercontent.com/a-/AOh14GhmOYfcQD1f_xzYU-OiJt5evVtjJAzwGU9bNAG1=s64",
      "userId": "09733430627481200667"
     },
     "user_tz": 420
    },
    "id": "9dPzvX2nLsfO",
    "outputId": "3f807b05-1dd3-4f47-cacf-59abf6c7845d"
   },
   "outputs": [
    {
     "data": {
      "text/html": [
       "<div>\n",
       "<style scoped>\n",
       "    .dataframe tbody tr th:only-of-type {\n",
       "        vertical-align: middle;\n",
       "    }\n",
       "\n",
       "    .dataframe tbody tr th {\n",
       "        vertical-align: top;\n",
       "    }\n",
       "\n",
       "    .dataframe thead th {\n",
       "        text-align: right;\n",
       "    }\n",
       "</style>\n",
       "<table border=\"1\" class=\"dataframe\">\n",
       "  <thead>\n",
       "    <tr style=\"text-align: right;\">\n",
       "      <th></th>\n",
       "      <th>Reviews</th>\n",
       "      <th>Price</th>\n",
       "      <th>Content Rating_Everyone 10+</th>\n",
       "      <th>Content Rating_Mature 17+</th>\n",
       "      <th>Content Rating_Teen</th>\n",
       "      <th>Type_Paid</th>\n",
       "    </tr>\n",
       "  </thead>\n",
       "  <tbody>\n",
       "    <tr>\n",
       "      <th>1356</th>\n",
       "      <td>0.000034</td>\n",
       "      <td>0.000000</td>\n",
       "      <td>0.0</td>\n",
       "      <td>0.0</td>\n",
       "      <td>0.0</td>\n",
       "      <td>0.0</td>\n",
       "    </tr>\n",
       "    <tr>\n",
       "      <th>4678</th>\n",
       "      <td>0.000027</td>\n",
       "      <td>0.000000</td>\n",
       "      <td>1.0</td>\n",
       "      <td>0.0</td>\n",
       "      <td>0.0</td>\n",
       "      <td>0.0</td>\n",
       "    </tr>\n",
       "    <tr>\n",
       "      <th>1407</th>\n",
       "      <td>0.000032</td>\n",
       "      <td>0.000000</td>\n",
       "      <td>1.0</td>\n",
       "      <td>0.0</td>\n",
       "      <td>0.0</td>\n",
       "      <td>0.0</td>\n",
       "    </tr>\n",
       "    <tr>\n",
       "      <th>6053</th>\n",
       "      <td>0.000121</td>\n",
       "      <td>0.000000</td>\n",
       "      <td>0.0</td>\n",
       "      <td>0.0</td>\n",
       "      <td>1.0</td>\n",
       "      <td>0.0</td>\n",
       "    </tr>\n",
       "    <tr>\n",
       "      <th>9613</th>\n",
       "      <td>0.000003</td>\n",
       "      <td>0.006225</td>\n",
       "      <td>0.0</td>\n",
       "      <td>0.0</td>\n",
       "      <td>0.0</td>\n",
       "      <td>1.0</td>\n",
       "    </tr>\n",
       "  </tbody>\n",
       "</table>\n",
       "</div>"
      ],
      "text/plain": [
       "       Reviews     Price  ...  Content Rating_Teen  Type_Paid\n",
       "1356  0.000034  0.000000  ...                  0.0        0.0\n",
       "4678  0.000027  0.000000  ...                  0.0        0.0\n",
       "1407  0.000032  0.000000  ...                  0.0        0.0\n",
       "6053  0.000121  0.000000  ...                  1.0        0.0\n",
       "9613  0.000003  0.006225  ...                  0.0        1.0\n",
       "\n",
       "[5 rows x 6 columns]"
      ]
     },
     "execution_count": 136,
     "metadata": {
      "tags": []
     },
     "output_type": "execute_result"
    }
   ],
   "source": [
    "X_train_scaled.head()"
   ]
  },
  {
   "cell_type": "code",
   "execution_count": 0,
   "metadata": {
    "colab": {
     "base_uri": "https://localhost:8080/",
     "height": 119
    },
    "colab_type": "code",
    "executionInfo": {
     "elapsed": 2500,
     "status": "ok",
     "timestamp": 1590519553353,
     "user": {
      "displayName": "Mike Swirsky",
      "photoUrl": "https://lh3.googleusercontent.com/a-/AOh14GhmOYfcQD1f_xzYU-OiJt5evVtjJAzwGU9bNAG1=s64",
      "userId": "09733430627481200667"
     },
     "user_tz": 420
    },
    "id": "sJTImaRGLw65",
    "outputId": "eb028848-9a83-4b1e-96df-962dd185fbe8"
   },
   "outputs": [
    {
     "data": {
      "text/plain": [
       "1356    4.1\n",
       "4678    4.2\n",
       "1407    4.0\n",
       "6053    4.4\n",
       "9613    4.6\n",
       "Name: Rating, dtype: float64"
      ]
     },
     "execution_count": 137,
     "metadata": {
      "tags": []
     },
     "output_type": "execute_result"
    }
   ],
   "source": [
    "y_train.head()"
   ]
  },
  {
   "cell_type": "code",
   "execution_count": 0,
   "metadata": {
    "colab": {
     "base_uri": "https://localhost:8080/",
     "height": 34
    },
    "colab_type": "code",
    "executionInfo": {
     "elapsed": 2474,
     "status": "ok",
     "timestamp": 1590519553354,
     "user": {
      "displayName": "Mike Swirsky",
      "photoUrl": "https://lh3.googleusercontent.com/a-/AOh14GhmOYfcQD1f_xzYU-OiJt5evVtjJAzwGU9bNAG1=s64",
      "userId": "09733430627481200667"
     },
     "user_tz": 420
    },
    "id": "eycA6iUuLUJl",
    "outputId": "82f91e8f-6fbd-4ad3-8e0a-0ea04fa63e66"
   },
   "outputs": [
    {
     "name": "stdout",
     "output_type": "stream",
     "text": [
      "(7017, 6) (7017,)\n"
     ]
    }
   ],
   "source": [
    "print(X_train_scaled.shape, y_train.shape)"
   ]
  },
  {
   "cell_type": "markdown",
   "metadata": {
    "colab_type": "text",
    "id": "80qgJLjobA0C"
   },
   "source": [
    "Now generate a linear model using statsmodels or sklearn and produce a p value for each coefficient in the model. Analyze the results."
   ]
  },
  {
   "cell_type": "code",
   "execution_count": 0,
   "metadata": {
    "colab": {},
    "colab_type": "code",
    "id": "zGfYoG2ubA0C"
   },
   "outputs": [],
   "source": [
    "#answer below:\n",
    "\n",
    "import statsmodels.api as sm\n",
    "\n",
    "X_train_scaled = sm.add_constant(X_train_scaled)\n",
    "results = sm.OLS(y_train, X_train_scaled).fit()"
   ]
  },
  {
   "cell_type": "code",
   "execution_count": 0,
   "metadata": {
    "colab": {
     "base_uri": "https://localhost:8080/",
     "height": 549
    },
    "colab_type": "code",
    "executionInfo": {
     "elapsed": 2432,
     "status": "ok",
     "timestamp": 1590519553357,
     "user": {
      "displayName": "Mike Swirsky",
      "photoUrl": "https://lh3.googleusercontent.com/a-/AOh14GhmOYfcQD1f_xzYU-OiJt5evVtjJAzwGU9bNAG1=s64",
      "userId": "09733430627481200667"
     },
     "user_tz": 420
    },
    "id": "mdbxGUrNbA0E",
    "outputId": "e888f0d3-65c1-4aff-80bb-53b70b126135"
   },
   "outputs": [
    {
     "data": {
      "text/html": [
       "<table class=\"simpletable\">\n",
       "<caption>OLS Regression Results</caption>\n",
       "<tr>\n",
       "  <th>Dep. Variable:</th>         <td>Rating</td>      <th>  R-squared:         </th> <td>   0.010</td> \n",
       "</tr>\n",
       "<tr>\n",
       "  <th>Model:</th>                   <td>OLS</td>       <th>  Adj. R-squared:    </th> <td>   0.009</td> \n",
       "</tr>\n",
       "<tr>\n",
       "  <th>Method:</th>             <td>Least Squares</td>  <th>  F-statistic:       </th> <td>   11.56</td> \n",
       "</tr>\n",
       "<tr>\n",
       "  <th>Date:</th>             <td>Tue, 26 May 2020</td> <th>  Prob (F-statistic):</th> <td>6.45e-13</td> \n",
       "</tr>\n",
       "<tr>\n",
       "  <th>Time:</th>                 <td>18:59:12</td>     <th>  Log-Likelihood:    </th> <td> -5276.0</td> \n",
       "</tr>\n",
       "<tr>\n",
       "  <th>No. Observations:</th>      <td>  7017</td>      <th>  AIC:               </th> <td>1.057e+04</td>\n",
       "</tr>\n",
       "<tr>\n",
       "  <th>Df Residuals:</th>          <td>  7010</td>      <th>  BIC:               </th> <td>1.061e+04</td>\n",
       "</tr>\n",
       "<tr>\n",
       "  <th>Df Model:</th>              <td>     6</td>      <th>                     </th>     <td> </td>    \n",
       "</tr>\n",
       "<tr>\n",
       "  <th>Covariance Type:</th>      <td>nonrobust</td>    <th>                     </th>     <td> </td>    \n",
       "</tr>\n",
       "</table>\n",
       "<table class=\"simpletable\">\n",
       "<tr>\n",
       "               <td></td>                  <th>coef</th>     <th>std err</th>      <th>t</th>      <th>P>|t|</th>  <th>[0.025</th>    <th>0.975]</th>  \n",
       "</tr>\n",
       "<tr>\n",
       "  <th>const</th>                       <td>    4.1796</td> <td>    0.007</td> <td>  583.092</td> <td> 0.000</td> <td>    4.166</td> <td>    4.194</td>\n",
       "</tr>\n",
       "<tr>\n",
       "  <th>Reviews</th>                     <td>    0.9516</td> <td>    0.162</td> <td>    5.869</td> <td> 0.000</td> <td>    0.634</td> <td>    1.269</td>\n",
       "</tr>\n",
       "<tr>\n",
       "  <th>Price</th>                       <td>   -0.4629</td> <td>    0.155</td> <td>   -2.985</td> <td> 0.003</td> <td>   -0.767</td> <td>   -0.159</td>\n",
       "</tr>\n",
       "<tr>\n",
       "  <th>Content Rating_Everyone 10+</th> <td>    0.0655</td> <td>    0.030</td> <td>    2.164</td> <td> 0.030</td> <td>    0.006</td> <td>    0.125</td>\n",
       "</tr>\n",
       "<tr>\n",
       "  <th>Content Rating_Mature 17+</th>   <td>   -0.0616</td> <td>    0.029</td> <td>   -2.141</td> <td> 0.032</td> <td>   -0.118</td> <td>   -0.005</td>\n",
       "</tr>\n",
       "<tr>\n",
       "  <th>Content Rating_Teen</th>         <td>    0.0377</td> <td>    0.019</td> <td>    1.954</td> <td> 0.051</td> <td>   -0.000</td> <td>    0.076</td>\n",
       "</tr>\n",
       "<tr>\n",
       "  <th>Type_Paid</th>                   <td>    0.0900</td> <td>    0.025</td> <td>    3.564</td> <td> 0.000</td> <td>    0.041</td> <td>    0.140</td>\n",
       "</tr>\n",
       "</table>\n",
       "<table class=\"simpletable\">\n",
       "<tr>\n",
       "  <th>Omnibus:</th>       <td>2755.809</td> <th>  Durbin-Watson:     </th> <td>   1.982</td> \n",
       "</tr>\n",
       "<tr>\n",
       "  <th>Prob(Omnibus):</th>  <td> 0.000</td>  <th>  Jarque-Bera (JB):  </th> <td>13732.109</td>\n",
       "</tr>\n",
       "<tr>\n",
       "  <th>Skew:</th>           <td>-1.847</td>  <th>  Prob(JB):          </th> <td>    0.00</td> \n",
       "</tr>\n",
       "<tr>\n",
       "  <th>Kurtosis:</th>       <td> 8.773</td>  <th>  Cond. No.          </th> <td>    26.8</td> \n",
       "</tr>\n",
       "</table><br/><br/>Warnings:<br/>[1] Standard Errors assume that the covariance matrix of the errors is correctly specified."
      ],
      "text/plain": [
       "<class 'statsmodels.iolib.summary.Summary'>\n",
       "\"\"\"\n",
       "                            OLS Regression Results                            \n",
       "==============================================================================\n",
       "Dep. Variable:                 Rating   R-squared:                       0.010\n",
       "Model:                            OLS   Adj. R-squared:                  0.009\n",
       "Method:                 Least Squares   F-statistic:                     11.56\n",
       "Date:                Tue, 26 May 2020   Prob (F-statistic):           6.45e-13\n",
       "Time:                        18:59:12   Log-Likelihood:                -5276.0\n",
       "No. Observations:                7017   AIC:                         1.057e+04\n",
       "Df Residuals:                    7010   BIC:                         1.061e+04\n",
       "Df Model:                           6                                         \n",
       "Covariance Type:            nonrobust                                         \n",
       "===============================================================================================\n",
       "                                  coef    std err          t      P>|t|      [0.025      0.975]\n",
       "-----------------------------------------------------------------------------------------------\n",
       "const                           4.1796      0.007    583.092      0.000       4.166       4.194\n",
       "Reviews                         0.9516      0.162      5.869      0.000       0.634       1.269\n",
       "Price                          -0.4629      0.155     -2.985      0.003      -0.767      -0.159\n",
       "Content Rating_Everyone 10+     0.0655      0.030      2.164      0.030       0.006       0.125\n",
       "Content Rating_Mature 17+      -0.0616      0.029     -2.141      0.032      -0.118      -0.005\n",
       "Content Rating_Teen             0.0377      0.019      1.954      0.051      -0.000       0.076\n",
       "Type_Paid                       0.0900      0.025      3.564      0.000       0.041       0.140\n",
       "==============================================================================\n",
       "Omnibus:                     2755.809   Durbin-Watson:                   1.982\n",
       "Prob(Omnibus):                  0.000   Jarque-Bera (JB):            13732.109\n",
       "Skew:                          -1.847   Prob(JB):                         0.00\n",
       "Kurtosis:                       8.773   Cond. No.                         26.8\n",
       "==============================================================================\n",
       "\n",
       "Warnings:\n",
       "[1] Standard Errors assume that the covariance matrix of the errors is correctly specified.\n",
       "\"\"\""
      ]
     },
     "execution_count": 140,
     "metadata": {
      "tags": []
     },
     "output_type": "execute_result"
    }
   ],
   "source": [
    "results.summary()"
   ]
  },
  {
   "cell_type": "markdown",
   "metadata": {
    "colab_type": "text",
    "id": "IF4dmj7UVxNm"
   },
   "source": [
    "What should our coefficients be if we had the original, unscaled data? We can use the scaling factor for each feature to change the current coefficient value. (Note: we have to add a 1 at the beginning to \"scale\" the intercept constant.)"
   ]
  },
  {
   "cell_type": "code",
   "execution_count": 0,
   "metadata": {
    "colab": {
     "base_uri": "https://localhost:8080/",
     "height": 153
    },
    "colab_type": "code",
    "executionInfo": {
     "elapsed": 3057,
     "status": "ok",
     "timestamp": 1590519553997,
     "user": {
      "displayName": "Mike Swirsky",
      "photoUrl": "https://lh3.googleusercontent.com/a-/AOh14GhmOYfcQD1f_xzYU-OiJt5evVtjJAzwGU9bNAG1=s64",
      "userId": "09733430627481200667"
     },
     "user_tz": 420
    },
    "id": "Pn141H4RUQit",
    "outputId": "d59150a6-3b5d-4c25-c3a4-86f148639660"
   },
   "outputs": [
    {
     "data": {
      "text/plain": [
       "const                          4.179569e+00\n",
       "Reviews                        7.434838e+07\n",
       "Price                         -1.851670e+02\n",
       "Content Rating_Everyone 10+    6.549147e-02\n",
       "Content Rating_Mature 17+     -6.164086e-02\n",
       "Content Rating_Teen            3.771635e-02\n",
       "Type_Paid                      9.004111e-02\n",
       "dtype: float64"
      ]
     },
     "execution_count": 141,
     "metadata": {
      "tags": []
     },
     "output_type": "execute_result"
    }
   ],
   "source": [
    "scales = np.insert(scale.scale_, 0, 1.0, axis=0)\n",
    "results.params / scales"
   ]
  },
  {
   "cell_type": "code",
   "execution_count": 0,
   "metadata": {
    "colab": {},
    "colab_type": "code",
    "id": "Tiws9x_qbA0F"
   },
   "outputs": [],
   "source": []
  }
 ],
 "metadata": {
  "colab": {
   "collapsed_sections": [],
   "name": "Copy of Day 27 Lecture 1 Solution.ipynb",
   "provenance": [
    {
     "file_id": "1RLvnkFYiq-ZWQqcctEsyqGvwqBhQRSyR",
     "timestamp": 1592072440098
    }
   ]
  },
  "kernelspec": {
   "display_name": "Python 3",
   "language": "python",
   "name": "python3"
  },
  "language_info": {
   "codemirror_mode": {
    "name": "ipython",
    "version": 3
   },
   "file_extension": ".py",
   "mimetype": "text/x-python",
   "name": "python",
   "nbconvert_exporter": "python",
   "pygments_lexer": "ipython3",
   "version": "3.7.4"
  }
 },
 "nbformat": 4,
 "nbformat_minor": 1
}
