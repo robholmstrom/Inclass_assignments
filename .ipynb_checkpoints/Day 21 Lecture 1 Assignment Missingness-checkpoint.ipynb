{
 "cells": [
  {
   "cell_type": "markdown",
   "metadata": {
    "colab_type": "text",
    "id": "Zrf-3-WBni8C"
   },
   "source": [
    "## Day 21 Lecture 1 Assignment\n",
    "\n",
    "In this assignment, we will analyze the data types and missingness of values in the Chicago traffic crashes dataset."
   ]
  },
  {
   "cell_type": "code",
   "execution_count": 0,
   "metadata": {
    "colab": {},
    "colab_type": "code",
    "id": "gqWRoLL-ni8D"
   },
   "outputs": [],
   "source": [
    "%matplotlib inline\n",
    "\n",
    "import matplotlib.pyplot as plt\n",
    "import numpy as np\n",
    "import pandas as pd"
   ]
  },
  {
   "cell_type": "code",
   "execution_count": 0,
   "metadata": {
    "colab": {},
    "colab_type": "code",
    "id": "wSzfEaauni8F"
   },
   "outputs": [],
   "source": [
    "crash_data = pd.read_csv('https://tf-assets-prod.s3.amazonaws.com/tf-curric/data-science/traffic_crashes_chicago.csv')"
   ]
  },
  {
   "cell_type": "code",
   "execution_count": 0,
   "metadata": {
    "colab": {
     "base_uri": "https://localhost:8080/",
     "height": 394
    },
    "colab_type": "code",
    "executionInfo": {
     "elapsed": 207,
     "status": "ok",
     "timestamp": 1589814993183,
     "user": {
      "displayName": "Sam Holmstrom",
      "photoUrl": "",
      "userId": "05645048604521877205"
     },
     "user_tz": 300
    },
    "id": "1JRr0EDJni8G",
    "outputId": "e8de0f30-601b-41dc-9bf2-693904696ca6"
   },
   "outputs": [
    {
     "data": {
      "text/html": [
       "<div>\n",
       "<style scoped>\n",
       "    .dataframe tbody tr th:only-of-type {\n",
       "        vertical-align: middle;\n",
       "    }\n",
       "\n",
       "    .dataframe tbody tr th {\n",
       "        vertical-align: top;\n",
       "    }\n",
       "\n",
       "    .dataframe thead th {\n",
       "        text-align: right;\n",
       "    }\n",
       "</style>\n",
       "<table border=\"1\" class=\"dataframe\">\n",
       "  <thead>\n",
       "    <tr style=\"text-align: right;\">\n",
       "      <th></th>\n",
       "      <th>RD_NO</th>\n",
       "      <th>CRASH_DATE</th>\n",
       "      <th>POSTED_SPEED_LIMIT</th>\n",
       "      <th>TRAFFIC_CONTROL_DEVICE</th>\n",
       "      <th>DEVICE_CONDITION</th>\n",
       "      <th>WEATHER_CONDITION</th>\n",
       "      <th>LIGHTING_CONDITION</th>\n",
       "      <th>FIRST_CRASH_TYPE</th>\n",
       "      <th>TRAFFICWAY_TYPE</th>\n",
       "      <th>LANE_CNT</th>\n",
       "      <th>ALIGNMENT</th>\n",
       "      <th>ROADWAY_SURFACE_COND</th>\n",
       "      <th>ROAD_DEFECT</th>\n",
       "      <th>REPORT_TYPE</th>\n",
       "      <th>CRASH_TYPE</th>\n",
       "      <th>INTERSECTION_RELATED_I</th>\n",
       "      <th>NOT_RIGHT_OF_WAY_I</th>\n",
       "      <th>HIT_AND_RUN_I</th>\n",
       "      <th>DAMAGE</th>\n",
       "      <th>DATE_POLICE_NOTIFIED</th>\n",
       "      <th>PRIM_CONTRIBUTORY_CAUSE</th>\n",
       "      <th>SEC_CONTRIBUTORY_CAUSE</th>\n",
       "      <th>STREET_NO</th>\n",
       "      <th>STREET_DIRECTION</th>\n",
       "      <th>STREET_NAME</th>\n",
       "      <th>BEAT_OF_OCCURRENCE</th>\n",
       "      <th>PHOTOS_TAKEN_I</th>\n",
       "      <th>STATEMENTS_TAKEN_I</th>\n",
       "      <th>DOORING_I</th>\n",
       "      <th>WORK_ZONE_I</th>\n",
       "      <th>WORK_ZONE_TYPE</th>\n",
       "      <th>WORKERS_PRESENT_I</th>\n",
       "      <th>NUM_UNITS</th>\n",
       "      <th>MOST_SEVERE_INJURY</th>\n",
       "      <th>INJURIES_TOTAL</th>\n",
       "      <th>INJURIES_FATAL</th>\n",
       "      <th>INJURIES_INCAPACITATING</th>\n",
       "      <th>INJURIES_NON_INCAPACITATING</th>\n",
       "      <th>INJURIES_REPORTED_NOT_EVIDENT</th>\n",
       "      <th>INJURIES_NO_INDICATION</th>\n",
       "      <th>INJURIES_UNKNOWN</th>\n",
       "    </tr>\n",
       "  </thead>\n",
       "  <tbody>\n",
       "    <tr>\n",
       "      <th>0</th>\n",
       "      <td>JC334993</td>\n",
       "      <td>7/4/2019 22:33</td>\n",
       "      <td>45</td>\n",
       "      <td>NO CONTROLS</td>\n",
       "      <td>NO CONTROLS</td>\n",
       "      <td>CLEAR</td>\n",
       "      <td>DARKNESS, LIGHTED ROAD</td>\n",
       "      <td>REAR END</td>\n",
       "      <td>DIVIDED - W/MEDIAN BARRIER</td>\n",
       "      <td>NaN</td>\n",
       "      <td>STRAIGHT AND LEVEL</td>\n",
       "      <td>DRY</td>\n",
       "      <td>NO DEFECTS</td>\n",
       "      <td>NaN</td>\n",
       "      <td>NO INJURY / DRIVE AWAY</td>\n",
       "      <td>NaN</td>\n",
       "      <td>NaN</td>\n",
       "      <td>NaN</td>\n",
       "      <td>OVER $1,500</td>\n",
       "      <td>7/4/2019 23:05</td>\n",
       "      <td>FOLLOWING TOO CLOSELY</td>\n",
       "      <td>NOT APPLICABLE</td>\n",
       "      <td>300</td>\n",
       "      <td>N</td>\n",
       "      <td>LAKE SHORE DR SB</td>\n",
       "      <td>114.0</td>\n",
       "      <td>NaN</td>\n",
       "      <td>NaN</td>\n",
       "      <td>NaN</td>\n",
       "      <td>NaN</td>\n",
       "      <td>NaN</td>\n",
       "      <td>NaN</td>\n",
       "      <td>NaN</td>\n",
       "      <td>NaN</td>\n",
       "      <td>NaN</td>\n",
       "      <td>NaN</td>\n",
       "      <td>NaN</td>\n",
       "      <td>NaN</td>\n",
       "      <td>NaN</td>\n",
       "      <td>NaN</td>\n",
       "      <td>NaN</td>\n",
       "    </tr>\n",
       "    <tr>\n",
       "      <th>1</th>\n",
       "      <td>JC370822</td>\n",
       "      <td>7/30/2019 10:22</td>\n",
       "      <td>30</td>\n",
       "      <td>NO CONTROLS</td>\n",
       "      <td>NO CONTROLS</td>\n",
       "      <td>CLEAR</td>\n",
       "      <td>DAYLIGHT</td>\n",
       "      <td>TURNING</td>\n",
       "      <td>DIVIDED - W/MEDIAN (NOT RAISED)</td>\n",
       "      <td>NaN</td>\n",
       "      <td>STRAIGHT AND LEVEL</td>\n",
       "      <td>DRY</td>\n",
       "      <td>NO DEFECTS</td>\n",
       "      <td>NaN</td>\n",
       "      <td>NO INJURY / DRIVE AWAY</td>\n",
       "      <td>NaN</td>\n",
       "      <td>NaN</td>\n",
       "      <td>NaN</td>\n",
       "      <td>OVER $1,500</td>\n",
       "      <td>7/30/2019 10:25</td>\n",
       "      <td>FAILING TO YIELD RIGHT-OF-WAY</td>\n",
       "      <td>IMPROPER TURNING/NO SIGNAL</td>\n",
       "      <td>8201</td>\n",
       "      <td>S</td>\n",
       "      <td>DR MARTIN LUTHER KING JR DR</td>\n",
       "      <td>631.0</td>\n",
       "      <td>NaN</td>\n",
       "      <td>NaN</td>\n",
       "      <td>NaN</td>\n",
       "      <td>NaN</td>\n",
       "      <td>NaN</td>\n",
       "      <td>NaN</td>\n",
       "      <td>NaN</td>\n",
       "      <td>NaN</td>\n",
       "      <td>NaN</td>\n",
       "      <td>NaN</td>\n",
       "      <td>NaN</td>\n",
       "      <td>NaN</td>\n",
       "      <td>NaN</td>\n",
       "      <td>NaN</td>\n",
       "      <td>NaN</td>\n",
       "    </tr>\n",
       "    <tr>\n",
       "      <th>2</th>\n",
       "      <td>JC387098</td>\n",
       "      <td>8/10/2019 17:00</td>\n",
       "      <td>25</td>\n",
       "      <td>NO CONTROLS</td>\n",
       "      <td>NO CONTROLS</td>\n",
       "      <td>CLEAR</td>\n",
       "      <td>DAYLIGHT</td>\n",
       "      <td>PARKED MOTOR VEHICLE</td>\n",
       "      <td>ONE-WAY</td>\n",
       "      <td>NaN</td>\n",
       "      <td>STRAIGHT AND LEVEL</td>\n",
       "      <td>DRY</td>\n",
       "      <td>NO DEFECTS</td>\n",
       "      <td>NaN</td>\n",
       "      <td>NO INJURY / DRIVE AWAY</td>\n",
       "      <td>NaN</td>\n",
       "      <td>NaN</td>\n",
       "      <td>NaN</td>\n",
       "      <td>$501 - $1,500</td>\n",
       "      <td>8/10/2019 17:35</td>\n",
       "      <td>EQUIPMENT - VEHICLE CONDITION</td>\n",
       "      <td>NOT APPLICABLE</td>\n",
       "      <td>6747</td>\n",
       "      <td>S</td>\n",
       "      <td>CREGIER AVE</td>\n",
       "      <td>332.0</td>\n",
       "      <td>NaN</td>\n",
       "      <td>NaN</td>\n",
       "      <td>NaN</td>\n",
       "      <td>NaN</td>\n",
       "      <td>NaN</td>\n",
       "      <td>NaN</td>\n",
       "      <td>1.0</td>\n",
       "      <td>NaN</td>\n",
       "      <td>NaN</td>\n",
       "      <td>NaN</td>\n",
       "      <td>NaN</td>\n",
       "      <td>NaN</td>\n",
       "      <td>NaN</td>\n",
       "      <td>NaN</td>\n",
       "      <td>NaN</td>\n",
       "    </tr>\n",
       "    <tr>\n",
       "      <th>3</th>\n",
       "      <td>JC395195</td>\n",
       "      <td>8/16/2019 16:53</td>\n",
       "      <td>30</td>\n",
       "      <td>NO CONTROLS</td>\n",
       "      <td>NO CONTROLS</td>\n",
       "      <td>CLEAR</td>\n",
       "      <td>DAYLIGHT</td>\n",
       "      <td>PARKED MOTOR VEHICLE</td>\n",
       "      <td>NOT DIVIDED</td>\n",
       "      <td>NaN</td>\n",
       "      <td>STRAIGHT AND LEVEL</td>\n",
       "      <td>DRY</td>\n",
       "      <td>NO DEFECTS</td>\n",
       "      <td>NaN</td>\n",
       "      <td>NO INJURY / DRIVE AWAY</td>\n",
       "      <td>NaN</td>\n",
       "      <td>NaN</td>\n",
       "      <td>Y</td>\n",
       "      <td>$501 - $1,500</td>\n",
       "      <td>8/16/2019 16:53</td>\n",
       "      <td>UNABLE TO DETERMINE</td>\n",
       "      <td>NOT APPLICABLE</td>\n",
       "      <td>554</td>\n",
       "      <td>N</td>\n",
       "      <td>FRANKLIN ST</td>\n",
       "      <td>1831.0</td>\n",
       "      <td>NaN</td>\n",
       "      <td>NaN</td>\n",
       "      <td>NaN</td>\n",
       "      <td>NaN</td>\n",
       "      <td>NaN</td>\n",
       "      <td>NaN</td>\n",
       "      <td>1.0</td>\n",
       "      <td>NO INDICATION OF INJURY</td>\n",
       "      <td>0.0</td>\n",
       "      <td>0.0</td>\n",
       "      <td>0.0</td>\n",
       "      <td>0.0</td>\n",
       "      <td>0.0</td>\n",
       "      <td>1.0</td>\n",
       "      <td>0.0</td>\n",
       "    </tr>\n",
       "    <tr>\n",
       "      <th>4</th>\n",
       "      <td>JC396604</td>\n",
       "      <td>8/17/2019 16:04</td>\n",
       "      <td>30</td>\n",
       "      <td>NO CONTROLS</td>\n",
       "      <td>NO CONTROLS</td>\n",
       "      <td>CLEAR</td>\n",
       "      <td>DAYLIGHT</td>\n",
       "      <td>PARKED MOTOR VEHICLE</td>\n",
       "      <td>PARKING LOT</td>\n",
       "      <td>NaN</td>\n",
       "      <td>STRAIGHT AND LEVEL</td>\n",
       "      <td>DRY</td>\n",
       "      <td>NO DEFECTS</td>\n",
       "      <td>NaN</td>\n",
       "      <td>NO INJURY / DRIVE AWAY</td>\n",
       "      <td>NaN</td>\n",
       "      <td>NaN</td>\n",
       "      <td>Y</td>\n",
       "      <td>$501 - $1,500</td>\n",
       "      <td>8/17/2019 18:30</td>\n",
       "      <td>UNABLE TO DETERMINE</td>\n",
       "      <td>UNABLE TO DETERMINE</td>\n",
       "      <td>3700</td>\n",
       "      <td>N</td>\n",
       "      <td>WESTERN AVE</td>\n",
       "      <td>1921.0</td>\n",
       "      <td>NaN</td>\n",
       "      <td>NaN</td>\n",
       "      <td>NaN</td>\n",
       "      <td>NaN</td>\n",
       "      <td>NaN</td>\n",
       "      <td>NaN</td>\n",
       "      <td>1.0</td>\n",
       "      <td>NO INDICATION OF INJURY</td>\n",
       "      <td>0.0</td>\n",
       "      <td>0.0</td>\n",
       "      <td>0.0</td>\n",
       "      <td>0.0</td>\n",
       "      <td>0.0</td>\n",
       "      <td>1.0</td>\n",
       "      <td>0.0</td>\n",
       "    </tr>\n",
       "  </tbody>\n",
       "</table>\n",
       "</div>"
      ],
      "text/plain": [
       "      RD_NO       CRASH_DATE  ...  INJURIES_NO_INDICATION INJURIES_UNKNOWN\n",
       "0  JC334993   7/4/2019 22:33  ...                     NaN              NaN\n",
       "1  JC370822  7/30/2019 10:22  ...                     NaN              NaN\n",
       "2  JC387098  8/10/2019 17:00  ...                     NaN              NaN\n",
       "3  JC395195  8/16/2019 16:53  ...                     1.0              0.0\n",
       "4  JC396604  8/17/2019 16:04  ...                     1.0              0.0\n",
       "\n",
       "[5 rows x 41 columns]"
      ]
     },
     "execution_count": 4,
     "metadata": {
      "tags": []
     },
     "output_type": "execute_result"
    }
   ],
   "source": [
    "crash_data.head()"
   ]
  },
  {
   "cell_type": "markdown",
   "metadata": {
    "colab_type": "text",
    "id": "5dk0oqeBni8I"
   },
   "source": [
    "Calculate and print out the following: \n",
    "\n",
    "- The data type of each column that was automatically assigned when the data was read in. \n",
    "- The number of numeric columns \n",
    "- The number of categorical/string columns\n",
    "\n",
    "Do the assigned column types make sense, or are there some that should be changed?"
   ]
  },
  {
   "cell_type": "code",
   "execution_count": 0,
   "metadata": {
    "colab": {
     "base_uri": "https://localhost:8080/",
     "height": 85
    },
    "colab_type": "code",
    "executionInfo": {
     "elapsed": 252,
     "status": "ok",
     "timestamp": 1589849979202,
     "user": {
      "displayName": "Sam Holmstrom",
      "photoUrl": "",
      "userId": "05645048604521877205"
     },
     "user_tz": 300
    },
    "id": "JT9kbyCJni8J",
    "outputId": "5c360338-cae6-4aa7-afed-adbefa60df3b"
   },
   "outputs": [
    {
     "data": {
      "text/plain": [
       "object     29\n",
       "float64    10\n",
       "int64       2\n",
       "dtype: int64"
      ]
     },
     "execution_count": 4,
     "metadata": {
      "tags": []
     },
     "output_type": "execute_result"
    }
   ],
   "source": [
    "# answer goes here\n",
    "crash_data.dtypes.value_counts()\n",
    "\n",
    "\n",
    "\n"
   ]
  },
  {
   "cell_type": "markdown",
   "metadata": {
    "colab_type": "text",
    "id": "zC2YmEBTni8K"
   },
   "source": [
    "Write a function *missingness_summary* that takes a pandas dataframe as a parameter and returns a pandas series containing the percentage of missing data in each column. (Hint: the *apply* function can be helpful here.) Furthermore, the function should have two additional parameters:\n",
    "\n",
    "1. print_log (boolean): if True, the function should print out all of the columns in the dataframe, one to a line, followed by the percentage of total rows that have a null value for that column. \n",
    "2. sort (string): a string that allows the user to specify if the output should be sorted in ascending order, descending order, or not at all."
   ]
  },
  {
   "cell_type": "code",
   "execution_count": 0,
   "metadata": {
    "colab": {
     "base_uri": "https://localhost:8080/",
     "height": 731
    },
    "colab_type": "code",
    "executionInfo": {
     "elapsed": 1471,
     "status": "ok",
     "timestamp": 1589850606782,
     "user": {
      "displayName": "Sam Holmstrom",
      "photoUrl": "",
      "userId": "05645048604521877205"
     },
     "user_tz": 300
    },
    "id": "YHQQ8b9wtFT7",
    "outputId": "8bcc28ea-0278-4abb-abd0-93728d73ba44"
   },
   "outputs": [
    {
     "name": "stdout",
     "output_type": "stream",
     "text": [
      "RD_NO                            0.000000\n",
      "STREET_NO                        0.000000\n",
      "SEC_CONTRIBUTORY_CAUSE           0.000000\n",
      "DATE_POLICE_NOTIFIED             0.000000\n",
      "DAMAGE                           0.000000\n",
      "CRASH_TYPE                       0.000000\n",
      "ROAD_DEFECT                      0.000000\n",
      "ROADWAY_SURFACE_COND             0.000000\n",
      "ALIGNMENT                        0.000000\n",
      "PRIM_CONTRIBUTORY_CAUSE          0.000000\n",
      "TRAFFICWAY_TYPE                  0.000000\n",
      "FIRST_CRASH_TYPE                 0.000000\n",
      "LIGHTING_CONDITION               0.000000\n",
      "WEATHER_CONDITION                0.000000\n",
      "CRASH_DATE                       0.000000\n",
      "POSTED_SPEED_LIMIT               0.000000\n",
      "DEVICE_CONDITION                 0.000000\n",
      "TRAFFIC_CONTROL_DEVICE           0.000000\n",
      "STREET_NAME                      0.000003\n",
      "STREET_DIRECTION                 0.000005\n",
      "BEAT_OF_OCCURRENCE               0.000011\n",
      "NUM_UNITS                        0.003755\n",
      "INJURIES_UNKNOWN                 0.005776\n",
      "INJURIES_REPORTED_NOT_EVIDENT    0.005776\n",
      "INJURIES_NON_INCAPACITATING      0.005776\n",
      "INJURIES_INCAPACITATING          0.005776\n",
      "INJURIES_FATAL                   0.005776\n",
      "INJURIES_TOTAL                   0.005776\n",
      "INJURIES_NO_INDICATION           0.005776\n",
      "MOST_SEVERE_INJURY               0.005795\n",
      "REPORT_TYPE                      0.023012\n",
      "LANE_CNT                         0.467107\n",
      "HIT_AND_RUN_I                    0.722423\n",
      "INTERSECTION_RELATED_I           0.779457\n",
      "NOT_RIGHT_OF_WAY_I               0.953917\n",
      "STATEMENTS_TAKEN_I               0.979760\n",
      "PHOTOS_TAKEN_I                   0.987318\n",
      "WORK_ZONE_I                      0.992933\n",
      "WORK_ZONE_TYPE                   0.994391\n",
      "DOORING_I                        0.996616\n",
      "WORKERS_PRESENT_I                0.998352\n",
      "dtype: float64\n"
     ]
    }
   ],
   "source": [
    "# answer goes here\n",
    "\n",
    "\n",
    "def missingness_summary(df, print_log, sort):\n",
    "  freqlist = df.apply(lambda x: x.isnull()/df.shape[0])\n",
    " \n",
    "  if print_log == True:\n",
    "    if sort == 'descending':\n",
    "      print(freqlist.sum().sort_values(axis = 0, ascending=False))\n",
    "    else:\n",
    "      print(freqlist.sum().sort_values(axis = 0, ascending=True))\n",
    "\n",
    "missingness_summary(crash_data, print_log=True, sort='ascending')\n",
    "  \n",
    "\n",
    "\n",
    "\n"
   ]
  },
  {
   "cell_type": "markdown",
   "metadata": {
    "colab_type": "text",
    "id": "7wR6bliDni8M"
   },
   "source": [
    "Call the *missingness summary* function on our data. Answer the following questions *programatically* (this dataset is small enough that we could manually count, but this approach would obviously not be scalable to datasets with hundreds of columns, which frequently occur in real life):\n",
    "\n",
    "1. How many columns have no missing data? Print out these column names.\n",
    "2. How many columns have more than 10% missing data? Again, print out these column names."
   ]
  },
  {
   "cell_type": "code",
   "execution_count": 0,
   "metadata": {
    "colab": {
     "base_uri": "https://localhost:8080/",
     "height": 357
    },
    "colab_type": "code",
    "executionInfo": {
     "elapsed": 802,
     "status": "ok",
     "timestamp": 1589853963805,
     "user": {
      "displayName": "Sam Holmstrom",
      "photoUrl": "",
      "userId": "05645048604521877205"
     },
     "user_tz": 300
    },
    "id": "VzB9rC4kni8N",
    "outputId": "71cefd4e-3b8a-4850-80d7-b06dbe884a35"
   },
   "outputs": [
    {
     "name": "stdout",
     "output_type": "stream",
     "text": [
      "18\n",
      "RD_NO                      0.0\n",
      "CRASH_DATE                 0.0\n",
      "POSTED_SPEED_LIMIT         0.0\n",
      "TRAFFIC_CONTROL_DEVICE     0.0\n",
      "DEVICE_CONDITION           0.0\n",
      "WEATHER_CONDITION          0.0\n",
      "LIGHTING_CONDITION         0.0\n",
      "FIRST_CRASH_TYPE           0.0\n",
      "TRAFFICWAY_TYPE            0.0\n",
      "ALIGNMENT                  0.0\n",
      "ROADWAY_SURFACE_COND       0.0\n",
      "ROAD_DEFECT                0.0\n",
      "CRASH_TYPE                 0.0\n",
      "DAMAGE                     0.0\n",
      "DATE_POLICE_NOTIFIED       0.0\n",
      "PRIM_CONTRIBUTORY_CAUSE    0.0\n",
      "SEC_CONTRIBUTORY_CAUSE     0.0\n",
      "STREET_NO                  0.0\n",
      "dtype: float64\n"
     ]
    }
   ],
   "source": [
    "# answer goes here\n",
    "\n",
    "print(freqlist.sum().where(freqlist.sum() == 0).count())\n",
    "print(freqlist.sum().where(freqlist.sum() == 0).dropna())\n",
    "\n",
    "\n",
    "\n",
    "\n"
   ]
  },
  {
   "cell_type": "code",
   "execution_count": 0,
   "metadata": {
    "colab": {
     "base_uri": "https://localhost:8080/",
     "height": 221
    },
    "colab_type": "code",
    "executionInfo": {
     "elapsed": 685,
     "status": "ok",
     "timestamp": 1589854008475,
     "user": {
      "displayName": "Sam Holmstrom",
      "photoUrl": "",
      "userId": "05645048604521877205"
     },
     "user_tz": 300
    },
    "id": "uHiNTNhSlwyg",
    "outputId": "8e42731a-21bc-42a5-e02a-6b019d9cb097"
   },
   "outputs": [
    {
     "name": "stdout",
     "output_type": "stream",
     "text": [
      "10\n",
      "LANE_CNT                  0.467107\n",
      "INTERSECTION_RELATED_I    0.779457\n",
      "NOT_RIGHT_OF_WAY_I        0.953917\n",
      "HIT_AND_RUN_I             0.722423\n",
      "PHOTOS_TAKEN_I            0.987318\n",
      "STATEMENTS_TAKEN_I        0.979760\n",
      "DOORING_I                 0.996616\n",
      "WORK_ZONE_I               0.992933\n",
      "WORK_ZONE_TYPE            0.994391\n",
      "WORKERS_PRESENT_I         0.998352\n",
      "dtype: float64\n"
     ]
    }
   ],
   "source": [
    "print(freqlist.sum().where(freqlist.sum() > .1).count())\n",
    "print(freqlist.sum().where(freqlist.sum() > .1).dropna())"
   ]
  },
  {
   "cell_type": "markdown",
   "metadata": {
    "colab_type": "text",
    "id": "T0rFQRHvni8O"
   },
   "source": [
    "For the columns beginning with the string \"INJURIES_\", impute values for the missing data by using an appropriate measure of central tendency.\n",
    "\n",
    "Re-run the *missingness_summary* function after doing the imputation - we should see no missing data in those columns."
   ]
  },
  {
   "cell_type": "code",
   "execution_count": 0,
   "metadata": {
    "colab": {},
    "colab_type": "code",
    "id": "947BjIolni8P"
   },
   "outputs": [],
   "source": [
    "#answer goes here\n",
    "for x in crash_data:\n",
    "  if x.startswith('INJURIES_'):\n",
    "    crash_data[x] = crash_data[x].fillna(crash_data[x].mean())\n",
    "\n"
   ]
  },
  {
   "cell_type": "code",
   "execution_count": 0,
   "metadata": {
    "colab": {
     "base_uri": "https://localhost:8080/",
     "height": 731
    },
    "colab_type": "code",
    "executionInfo": {
     "elapsed": 1252,
     "status": "ok",
     "timestamp": 1589858007093,
     "user": {
      "displayName": "Sam Holmstrom",
      "photoUrl": "",
      "userId": "05645048604521877205"
     },
     "user_tz": 300
    },
    "id": "tHhizSYj6w_9",
    "outputId": "a7ced81b-1897-4123-ec44-874cf2dd24ef"
   },
   "outputs": [
    {
     "name": "stdout",
     "output_type": "stream",
     "text": [
      "RD_NO                            0.000000\n",
      "INJURIES_REPORTED_NOT_EVIDENT    0.000000\n",
      "INJURIES_NON_INCAPACITATING      0.000000\n",
      "INJURIES_INCAPACITATING          0.000000\n",
      "INJURIES_FATAL                   0.000000\n",
      "INJURIES_TOTAL                   0.000000\n",
      "STREET_NO                        0.000000\n",
      "SEC_CONTRIBUTORY_CAUSE           0.000000\n",
      "INJURIES_NO_INDICATION           0.000000\n",
      "DATE_POLICE_NOTIFIED             0.000000\n",
      "DAMAGE                           0.000000\n",
      "CRASH_TYPE                       0.000000\n",
      "PRIM_CONTRIBUTORY_CAUSE          0.000000\n",
      "INJURIES_UNKNOWN                 0.000000\n",
      "WEATHER_CONDITION                0.000000\n",
      "ROAD_DEFECT                      0.000000\n",
      "LIGHTING_CONDITION               0.000000\n",
      "TRAFFICWAY_TYPE                  0.000000\n",
      "DEVICE_CONDITION                 0.000000\n",
      "FIRST_CRASH_TYPE                 0.000000\n",
      "TRAFFIC_CONTROL_DEVICE           0.000000\n",
      "POSTED_SPEED_LIMIT               0.000000\n",
      "CRASH_DATE                       0.000000\n",
      "ROADWAY_SURFACE_COND             0.000000\n",
      "ALIGNMENT                        0.000000\n",
      "STREET_NAME                      0.000003\n",
      "STREET_DIRECTION                 0.000005\n",
      "BEAT_OF_OCCURRENCE               0.000011\n",
      "NUM_UNITS                        0.003755\n",
      "MOST_SEVERE_INJURY               0.005795\n",
      "REPORT_TYPE                      0.023012\n",
      "LANE_CNT                         0.467107\n",
      "HIT_AND_RUN_I                    0.722423\n",
      "INTERSECTION_RELATED_I           0.779457\n",
      "NOT_RIGHT_OF_WAY_I               0.953917\n",
      "STATEMENTS_TAKEN_I               0.979760\n",
      "PHOTOS_TAKEN_I                   0.987318\n",
      "WORK_ZONE_I                      0.992933\n",
      "WORK_ZONE_TYPE                   0.994391\n",
      "DOORING_I                        0.996616\n",
      "WORKERS_PRESENT_I                0.998352\n",
      "dtype: float64\n"
     ]
    }
   ],
   "source": [
    "missingness_summary(crash_data, print_log=True, sort='ascending')"
   ]
  }
 ],
 "metadata": {
  "colab": {
   "collapsed_sections": [],
   "name": "Sam_Day 21 Lecture 1 Assignment.ipynb",
   "provenance": [
    {
     "file_id": "1uPHg7_3k6rzvhOfFANre7eoSlxqPnZFp",
     "timestamp": 1589814351499
    }
   ]
  },
  "kernelspec": {
   "display_name": "Python 3",
   "language": "python",
   "name": "python3"
  },
  "language_info": {
   "codemirror_mode": {
    "name": "ipython",
    "version": 3
   },
   "file_extension": ".py",
   "mimetype": "text/x-python",
   "name": "python",
   "nbconvert_exporter": "python",
   "pygments_lexer": "ipython3",
   "version": "3.7.4"
  }
 },
 "nbformat": 4,
 "nbformat_minor": 1
}
