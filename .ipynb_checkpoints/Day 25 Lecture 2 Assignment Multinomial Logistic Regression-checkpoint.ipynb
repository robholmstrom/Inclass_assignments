{
 "cells": [
  {
   "cell_type": "markdown",
   "metadata": {
    "colab_type": "text",
    "id": "dV--vGOPrrED"
   },
   "source": [
    "## Day 25 Lecture 2 Assignment\n",
    "\n",
    "In this assignment, we will extend a previous binary model to a multinomial case with three classes. We will use the FIFA soccer ratings dataset loaded below and analyze the model generated for this dataset."
   ]
  },
  {
   "cell_type": "code",
   "execution_count": 1,
   "metadata": {
    "colab": {
     "base_uri": "https://localhost:8080/",
     "height": 51
    },
    "colab_type": "code",
    "executionInfo": {
     "elapsed": 1915,
     "status": "ok",
     "timestamp": 1590205145967,
     "user": {
      "displayName": "Sam Holmstrom",
      "photoUrl": "",
      "userId": "05645048604521877205"
     },
     "user_tz": 300
    },
    "id": "msSTydewrrEE",
    "outputId": "98a3060c-8a84-41be-c8e1-bbb4dc197864"
   },
   "outputs": [
    {
     "name": "stderr",
     "output_type": "stream",
     "text": [
      "/usr/local/lib/python3.6/dist-packages/statsmodels/tools/_testing.py:19: FutureWarning: pandas.util.testing is deprecated. Use the functions in the public API at pandas.testing instead.\n",
      "  import pandas.util.testing as tm\n"
     ]
    }
   ],
   "source": [
    "import matplotlib.pyplot as plt\n",
    "from sklearn.datasets import fetch_20newsgroups_vectorized\n",
    "import numpy as np\n",
    "import pandas as pd\n",
    "import seaborn as sns\n",
    "from sklearn.linear_model import LogisticRegression\n",
    "from sklearn.model_selection import train_test_split, cross_val_score\n",
    "from sklearn.dummy import DummyClassifier\n",
    "from sklearn.metrics import confusion_matrix\n",
    "from sklearn.utils.multiclass import unique_labels\n",
    "from sklearn.metrics import accuracy_score, precision_score, recall_score, f1_score, fbeta_score, classification_report\n",
    "from sklearn.metrics import roc_curve, precision_recall_curve, roc_auc_score\n",
    "from statsmodels.discrete.discrete_model import MNLogit\n",
    "%matplotlib inline"
   ]
  },
  {
   "cell_type": "code",
   "execution_count": 0,
   "metadata": {
    "colab": {},
    "colab_type": "code",
    "id": "HOgv7ZGlVYpw"
   },
   "outputs": [],
   "source": [
    "def remove_correlated_features(dataset, threshold):\n",
    "    col_corr = set()\n",
    "    corr_matrix = dataset.corr()\n",
    "    for i in range(len(corr_matrix.columns)):\n",
    "        for j in range(i):\n",
    "            if (corr_matrix.iloc[i, j] >= threshold) and (corr_matrix.columns[j] not in col_corr):\n",
    "                colname = corr_matrix.columns[i]\n",
    "                col_corr.add(colname)\n",
    "                if colname in dataset.columns:\n",
    "                    print(f'Deleted {colname} from dataset.')\n",
    "                    del dataset[colname]\n",
    "\n",
    "    return dataset"
   ]
  },
  {
   "cell_type": "code",
   "execution_count": 0,
   "metadata": {
    "colab": {},
    "colab_type": "code",
    "id": "i3iAu42VrrEF"
   },
   "outputs": [],
   "source": [
    "soccer_data = pd.read_csv('https://tf-assets-prod.s3.amazonaws.com/tf-curric/data-science/fifa_ratings.csv')"
   ]
  },
  {
   "cell_type": "code",
   "execution_count": 4,
   "metadata": {
    "colab": {
     "base_uri": "https://localhost:8080/",
     "height": 292
    },
    "colab_type": "code",
    "executionInfo": {
     "elapsed": 2044,
     "status": "ok",
     "timestamp": 1590205146113,
     "user": {
      "displayName": "Sam Holmstrom",
      "photoUrl": "",
      "userId": "05645048604521877205"
     },
     "user_tz": 300
    },
    "id": "SeKz92tErrEH",
    "outputId": "6ae2a10c-aa66-464d-c516-7d2f346d4afb"
   },
   "outputs": [
    {
     "data": {
      "text/html": [
       "<div>\n",
       "<style scoped>\n",
       "    .dataframe tbody tr th:only-of-type {\n",
       "        vertical-align: middle;\n",
       "    }\n",
       "\n",
       "    .dataframe tbody tr th {\n",
       "        vertical-align: top;\n",
       "    }\n",
       "\n",
       "    .dataframe thead th {\n",
       "        text-align: right;\n",
       "    }\n",
       "</style>\n",
       "<table border=\"1\" class=\"dataframe\">\n",
       "  <thead>\n",
       "    <tr style=\"text-align: right;\">\n",
       "      <th></th>\n",
       "      <th>ID</th>\n",
       "      <th>Name</th>\n",
       "      <th>Overall</th>\n",
       "      <th>Crossing</th>\n",
       "      <th>Finishing</th>\n",
       "      <th>HeadingAccuracy</th>\n",
       "      <th>ShortPassing</th>\n",
       "      <th>Volleys</th>\n",
       "      <th>Dribbling</th>\n",
       "      <th>Curve</th>\n",
       "      <th>FKAccuracy</th>\n",
       "      <th>LongPassing</th>\n",
       "      <th>BallControl</th>\n",
       "      <th>Acceleration</th>\n",
       "      <th>SprintSpeed</th>\n",
       "      <th>Agility</th>\n",
       "      <th>Reactions</th>\n",
       "      <th>Balance</th>\n",
       "      <th>ShotPower</th>\n",
       "      <th>Jumping</th>\n",
       "      <th>Stamina</th>\n",
       "      <th>Strength</th>\n",
       "      <th>LongShots</th>\n",
       "      <th>Aggression</th>\n",
       "      <th>Interceptions</th>\n",
       "      <th>Positioning</th>\n",
       "      <th>Vision</th>\n",
       "      <th>Penalties</th>\n",
       "      <th>Composure</th>\n",
       "      <th>Marking</th>\n",
       "      <th>StandingTackle</th>\n",
       "      <th>SlidingTackle</th>\n",
       "    </tr>\n",
       "  </thead>\n",
       "  <tbody>\n",
       "    <tr>\n",
       "      <th>0</th>\n",
       "      <td>158023</td>\n",
       "      <td>L. Messi</td>\n",
       "      <td>94</td>\n",
       "      <td>84</td>\n",
       "      <td>95</td>\n",
       "      <td>70</td>\n",
       "      <td>90</td>\n",
       "      <td>86</td>\n",
       "      <td>97</td>\n",
       "      <td>93</td>\n",
       "      <td>94</td>\n",
       "      <td>87</td>\n",
       "      <td>96</td>\n",
       "      <td>91</td>\n",
       "      <td>86</td>\n",
       "      <td>91</td>\n",
       "      <td>95</td>\n",
       "      <td>95</td>\n",
       "      <td>85</td>\n",
       "      <td>68</td>\n",
       "      <td>72</td>\n",
       "      <td>59</td>\n",
       "      <td>94</td>\n",
       "      <td>48</td>\n",
       "      <td>22</td>\n",
       "      <td>94</td>\n",
       "      <td>94</td>\n",
       "      <td>75</td>\n",
       "      <td>96</td>\n",
       "      <td>33</td>\n",
       "      <td>28</td>\n",
       "      <td>26</td>\n",
       "    </tr>\n",
       "    <tr>\n",
       "      <th>1</th>\n",
       "      <td>20801</td>\n",
       "      <td>Cristiano Ronaldo</td>\n",
       "      <td>94</td>\n",
       "      <td>84</td>\n",
       "      <td>94</td>\n",
       "      <td>89</td>\n",
       "      <td>81</td>\n",
       "      <td>87</td>\n",
       "      <td>88</td>\n",
       "      <td>81</td>\n",
       "      <td>76</td>\n",
       "      <td>77</td>\n",
       "      <td>94</td>\n",
       "      <td>89</td>\n",
       "      <td>91</td>\n",
       "      <td>87</td>\n",
       "      <td>96</td>\n",
       "      <td>70</td>\n",
       "      <td>95</td>\n",
       "      <td>95</td>\n",
       "      <td>88</td>\n",
       "      <td>79</td>\n",
       "      <td>93</td>\n",
       "      <td>63</td>\n",
       "      <td>29</td>\n",
       "      <td>95</td>\n",
       "      <td>82</td>\n",
       "      <td>85</td>\n",
       "      <td>95</td>\n",
       "      <td>28</td>\n",
       "      <td>31</td>\n",
       "      <td>23</td>\n",
       "    </tr>\n",
       "    <tr>\n",
       "      <th>2</th>\n",
       "      <td>190871</td>\n",
       "      <td>Neymar Jr</td>\n",
       "      <td>92</td>\n",
       "      <td>79</td>\n",
       "      <td>87</td>\n",
       "      <td>62</td>\n",
       "      <td>84</td>\n",
       "      <td>84</td>\n",
       "      <td>96</td>\n",
       "      <td>88</td>\n",
       "      <td>87</td>\n",
       "      <td>78</td>\n",
       "      <td>95</td>\n",
       "      <td>94</td>\n",
       "      <td>90</td>\n",
       "      <td>96</td>\n",
       "      <td>94</td>\n",
       "      <td>84</td>\n",
       "      <td>80</td>\n",
       "      <td>61</td>\n",
       "      <td>81</td>\n",
       "      <td>49</td>\n",
       "      <td>82</td>\n",
       "      <td>56</td>\n",
       "      <td>36</td>\n",
       "      <td>89</td>\n",
       "      <td>87</td>\n",
       "      <td>81</td>\n",
       "      <td>94</td>\n",
       "      <td>27</td>\n",
       "      <td>24</td>\n",
       "      <td>33</td>\n",
       "    </tr>\n",
       "    <tr>\n",
       "      <th>3</th>\n",
       "      <td>192985</td>\n",
       "      <td>K. De Bruyne</td>\n",
       "      <td>91</td>\n",
       "      <td>93</td>\n",
       "      <td>82</td>\n",
       "      <td>55</td>\n",
       "      <td>92</td>\n",
       "      <td>82</td>\n",
       "      <td>86</td>\n",
       "      <td>85</td>\n",
       "      <td>83</td>\n",
       "      <td>91</td>\n",
       "      <td>91</td>\n",
       "      <td>78</td>\n",
       "      <td>76</td>\n",
       "      <td>79</td>\n",
       "      <td>91</td>\n",
       "      <td>77</td>\n",
       "      <td>91</td>\n",
       "      <td>63</td>\n",
       "      <td>90</td>\n",
       "      <td>75</td>\n",
       "      <td>91</td>\n",
       "      <td>76</td>\n",
       "      <td>61</td>\n",
       "      <td>87</td>\n",
       "      <td>94</td>\n",
       "      <td>79</td>\n",
       "      <td>88</td>\n",
       "      <td>68</td>\n",
       "      <td>58</td>\n",
       "      <td>51</td>\n",
       "    </tr>\n",
       "    <tr>\n",
       "      <th>4</th>\n",
       "      <td>183277</td>\n",
       "      <td>E. Hazard</td>\n",
       "      <td>91</td>\n",
       "      <td>81</td>\n",
       "      <td>84</td>\n",
       "      <td>61</td>\n",
       "      <td>89</td>\n",
       "      <td>80</td>\n",
       "      <td>95</td>\n",
       "      <td>83</td>\n",
       "      <td>79</td>\n",
       "      <td>83</td>\n",
       "      <td>94</td>\n",
       "      <td>94</td>\n",
       "      <td>88</td>\n",
       "      <td>95</td>\n",
       "      <td>90</td>\n",
       "      <td>94</td>\n",
       "      <td>82</td>\n",
       "      <td>56</td>\n",
       "      <td>83</td>\n",
       "      <td>66</td>\n",
       "      <td>80</td>\n",
       "      <td>54</td>\n",
       "      <td>41</td>\n",
       "      <td>87</td>\n",
       "      <td>89</td>\n",
       "      <td>86</td>\n",
       "      <td>91</td>\n",
       "      <td>34</td>\n",
       "      <td>27</td>\n",
       "      <td>22</td>\n",
       "    </tr>\n",
       "  </tbody>\n",
       "</table>\n",
       "</div>"
      ],
      "text/plain": [
       "       ID               Name  Overall  ...  Marking  StandingTackle  SlidingTackle\n",
       "0  158023           L. Messi       94  ...       33              28             26\n",
       "1   20801  Cristiano Ronaldo       94  ...       28              31             23\n",
       "2  190871          Neymar Jr       92  ...       27              24             33\n",
       "3  192985       K. De Bruyne       91  ...       68              58             51\n",
       "4  183277          E. Hazard       91  ...       34              27             22\n",
       "\n",
       "[5 rows x 32 columns]"
      ]
     },
     "execution_count": 4,
     "metadata": {
      "tags": []
     },
     "output_type": "execute_result"
    }
   ],
   "source": [
    "soccer_data.head()"
   ]
  },
  {
   "cell_type": "markdown",
   "metadata": {
    "colab_type": "text",
    "id": "gC9J8aEArrEJ"
   },
   "source": [
    "Our response for our logistic regression model is going to be a new column, \"RankingTier\", that contains three categories:\n",
    "\n",
    "- High: Overall score > 75\n",
    "- Middle: Overall score between 65 and 75\n",
    "- Low: Overall score < 65"
   ]
  },
  {
   "cell_type": "code",
   "execution_count": 17,
   "metadata": {
    "colab": {
     "base_uri": "https://localhost:8080/",
     "height": 34
    },
    "colab_type": "code",
    "executionInfo": {
     "elapsed": 358,
     "status": "ok",
     "timestamp": 1590205839125,
     "user": {
      "displayName": "Sam Holmstrom",
      "photoUrl": "",
      "userId": "05645048604521877205"
     },
     "user_tz": 300
    },
    "id": "tTZkLVDnrrEK",
    "outputId": "d0f08df4-ce3e-4d55-9f8a-07960f9a7a13"
   },
   "outputs": [
    {
     "data": {
      "text/plain": [
       "11370"
      ]
     },
     "execution_count": 17,
     "metadata": {
      "tags": []
     },
     "output_type": "execute_result"
    }
   ],
   "source": [
    "# answer goes here\n",
    "soccer_data['Response']= 0\n",
    "soccer_data.loc[(soccer_data['Overall'] >= 65 ) & (soccer_data['Overall'] <= 75 ), 'Response'] = 1 \n",
    "soccer_data.loc[soccer_data['Overall'] >75, 'Response'] = 2 \n",
    "soccer_data['Response'].sum()\n",
    "\n",
    "\n"
   ]
  },
  {
   "cell_type": "code",
   "execution_count": 13,
   "metadata": {
    "colab": {
     "base_uri": "https://localhost:8080/",
     "height": 663
    },
    "colab_type": "code",
    "executionInfo": {
     "elapsed": 815,
     "status": "ok",
     "timestamp": 1590205317639,
     "user": {
      "displayName": "Sam Holmstrom",
      "photoUrl": "",
      "userId": "05645048604521877205"
     },
     "user_tz": 300
    },
    "id": "Rixwhs1Yg6Fd",
    "outputId": "05adb8ff-0dca-4701-bf7d-9c43df369d00"
   },
   "outputs": [
    {
     "name": "stdout",
     "output_type": "stream",
     "text": [
      "<class 'pandas.core.frame.DataFrame'>\n",
      "RangeIndex: 16122 entries, 0 to 16121\n",
      "Data columns (total 31 columns):\n",
      " #   Column           Non-Null Count  Dtype \n",
      "---  ------           --------------  ----- \n",
      " 0   ID               16122 non-null  int64 \n",
      " 1   Name             16122 non-null  object\n",
      " 2   Overall          16122 non-null  int64 \n",
      " 3   Crossing         16122 non-null  int64 \n",
      " 4   Finishing        16122 non-null  int64 \n",
      " 5   HeadingAccuracy  16122 non-null  int64 \n",
      " 6   ShortPassing     16122 non-null  int64 \n",
      " 7   Volleys          16122 non-null  int64 \n",
      " 8   Dribbling        16122 non-null  int64 \n",
      " 9   Curve            16122 non-null  int64 \n",
      " 10  FKAccuracy       16122 non-null  int64 \n",
      " 11  LongPassing      16122 non-null  int64 \n",
      " 12  BallControl      16122 non-null  int64 \n",
      " 13  Acceleration     16122 non-null  int64 \n",
      " 14  SprintSpeed      16122 non-null  int64 \n",
      " 15  Agility          16122 non-null  int64 \n",
      " 16  Reactions        16122 non-null  int64 \n",
      " 17  Balance          16122 non-null  int64 \n",
      " 18  ShotPower        16122 non-null  int64 \n",
      " 19  Jumping          16122 non-null  int64 \n",
      " 20  Stamina          16122 non-null  int64 \n",
      " 21  Strength         16122 non-null  int64 \n",
      " 22  LongShots        16122 non-null  int64 \n",
      " 23  Aggression       16122 non-null  int64 \n",
      " 24  Interceptions    16122 non-null  int64 \n",
      " 25  Positioning      16122 non-null  int64 \n",
      " 26  Vision           16122 non-null  int64 \n",
      " 27  Penalties        16122 non-null  int64 \n",
      " 28  Composure        16122 non-null  int64 \n",
      " 29  Marking          16122 non-null  int64 \n",
      " 30  Response         16122 non-null  int64 \n",
      "dtypes: int64(30), object(1)\n",
      "memory usage: 3.8+ MB\n"
     ]
    }
   ],
   "source": [
    "dfclean = remove_correlated_features(soccer_data, .9)\n",
    "dfclean.info()"
   ]
  },
  {
   "cell_type": "markdown",
   "metadata": {
    "colab_type": "text",
    "id": "NJNKBnVpVYp5"
   },
   "source": [
    "The next few steps until model training are the same as before: identify and remove highly correlated features, and split the data into a training set (80%) and a test set (20%)."
   ]
  },
  {
   "cell_type": "code",
   "execution_count": 0,
   "metadata": {
    "colab": {},
    "colab_type": "code",
    "id": "NJR6IxK2VYp5"
   },
   "outputs": [],
   "source": [
    "# answer goes here\n",
    "from sklearn.model_selection import train_test_split\n",
    "\n",
    "X = soccer_data.drop(['Response', 'Name', 'ID'], axis =1)\n",
    "y = soccer_data['Response']\n",
    "X_train, X_test, y_train, y_test = train_test_split(X, y, test_size=0.2)\n",
    "\n",
    "\n"
   ]
  },
  {
   "cell_type": "markdown",
   "metadata": {
    "colab_type": "text",
    "id": "x4vvG5GmrrEL"
   },
   "source": [
    "Fit a multinomial logistic regression model using the statsmodels package and print out the coefficient summary. What is the \"reference\" tier chosen by the model? How do we interpret the coefficients - for example, how does the intepretation of the \"Reactions\" coefficient for RankingTier=Low differ from the \"Reactions\" coefficient for RankingTier=Middle?"
   ]
  },
  {
   "cell_type": "code",
   "execution_count": 0,
   "metadata": {
    "colab": {},
    "colab_type": "code",
    "id": "cwdpwLT6rrEM"
   },
   "outputs": [],
   "source": [
    "# answer goes here\n",
    "from sklearn.linear_model import LogisticRegression\n",
    "from sklearn.metrics import log_loss\n",
    "\n",
    "logit = LogisticRegression(penalty='l2', solver='liblinear', multi_class = 'ovr', max_iter=2000)\n",
    "logitresult = logit.fit(X_train, y_train)\n",
    "\n",
    "\n"
   ]
  },
  {
   "cell_type": "code",
   "execution_count": 20,
   "metadata": {
    "colab": {
     "base_uri": "https://localhost:8080/",
     "height": 1000
    },
    "colab_type": "code",
    "executionInfo": {
     "elapsed": 1112,
     "status": "ok",
     "timestamp": 1590205907045,
     "user": {
      "displayName": "Sam Holmstrom",
      "photoUrl": "",
      "userId": "05645048604521877205"
     },
     "user_tz": 300
    },
    "id": "lr6G3ihIqG-k",
    "outputId": "882ec724-e4dd-4c8b-f8a8-d247b3561fba"
   },
   "outputs": [
    {
     "name": "stdout",
     "output_type": "stream",
     "text": [
      "Optimization terminated successfully.\n",
      "         Current function value: 0.629985\n",
      "         Iterations 8\n"
     ]
    },
    {
     "data": {
      "text/html": [
       "<table class=\"simpletable\">\n",
       "<caption>MNLogit Regression Results</caption>\n",
       "<tr>\n",
       "  <th>Dep. Variable:</th>       <td>Response</td>     <th>  No. Observations:  </th>  <td> 12897</td> \n",
       "</tr>\n",
       "<tr>\n",
       "  <th>Model:</th>                <td>MNLogit</td>     <th>  Df Residuals:      </th>  <td> 12841</td> \n",
       "</tr>\n",
       "<tr>\n",
       "  <th>Method:</th>                 <td>MLE</td>       <th>  Df Model:          </th>  <td>    54</td> \n",
       "</tr>\n",
       "<tr>\n",
       "  <th>Date:</th>            <td>Sat, 23 May 2020</td> <th>  Pseudo R-squ.:     </th>  <td>0.3123</td> \n",
       "</tr>\n",
       "<tr>\n",
       "  <th>Time:</th>                <td>03:51:46</td>     <th>  Log-Likelihood:    </th> <td> -8124.9</td>\n",
       "</tr>\n",
       "<tr>\n",
       "  <th>converged:</th>             <td>True</td>       <th>  LL-Null:           </th> <td> -11814.</td>\n",
       "</tr>\n",
       "<tr>\n",
       "  <th>Covariance Type:</th>     <td>nonrobust</td>    <th>  LLR p-value:       </th>  <td> 0.000</td> \n",
       "</tr>\n",
       "</table>\n",
       "<table class=\"simpletable\">\n",
       "<tr>\n",
       "    <th>Response=1</th>       <th>coef</th>     <th>std err</th>      <th>z</th>      <th>P>|z|</th>  <th>[0.025</th>    <th>0.975]</th>  \n",
       "</tr>\n",
       "<tr>\n",
       "  <th>Overall</th>         <td>    0.1644</td> <td>    0.009</td> <td>   17.308</td> <td> 0.000</td> <td>    0.146</td> <td>    0.183</td>\n",
       "</tr>\n",
       "<tr>\n",
       "  <th>Crossing</th>        <td>    0.0257</td> <td>    0.003</td> <td>    8.596</td> <td> 0.000</td> <td>    0.020</td> <td>    0.031</td>\n",
       "</tr>\n",
       "<tr>\n",
       "  <th>Finishing</th>       <td>   -0.0011</td> <td>    0.004</td> <td>   -0.279</td> <td> 0.781</td> <td>   -0.009</td> <td>    0.006</td>\n",
       "</tr>\n",
       "<tr>\n",
       "  <th>HeadingAccuracy</th> <td>   -0.0208</td> <td>    0.004</td> <td>   -5.866</td> <td> 0.000</td> <td>   -0.028</td> <td>   -0.014</td>\n",
       "</tr>\n",
       "<tr>\n",
       "  <th>ShortPassing</th>    <td>   -0.0367</td> <td>    0.006</td> <td>   -6.006</td> <td> 0.000</td> <td>   -0.049</td> <td>   -0.025</td>\n",
       "</tr>\n",
       "<tr>\n",
       "  <th>Volleys</th>         <td>    0.0006</td> <td>    0.003</td> <td>    0.177</td> <td> 0.859</td> <td>   -0.006</td> <td>    0.007</td>\n",
       "</tr>\n",
       "<tr>\n",
       "  <th>Dribbling</th>       <td>   -0.0047</td> <td>    0.005</td> <td>   -0.974</td> <td> 0.330</td> <td>   -0.014</td> <td>    0.005</td>\n",
       "</tr>\n",
       "<tr>\n",
       "  <th>Curve</th>           <td>    0.0136</td> <td>    0.003</td> <td>    4.136</td> <td> 0.000</td> <td>    0.007</td> <td>    0.020</td>\n",
       "</tr>\n",
       "<tr>\n",
       "  <th>FKAccuracy</th>      <td>   -0.0045</td> <td>    0.003</td> <td>   -1.528</td> <td> 0.127</td> <td>   -0.010</td> <td>    0.001</td>\n",
       "</tr>\n",
       "<tr>\n",
       "  <th>LongPassing</th>     <td>    0.0130</td> <td>    0.004</td> <td>    3.123</td> <td> 0.002</td> <td>    0.005</td> <td>    0.021</td>\n",
       "</tr>\n",
       "<tr>\n",
       "  <th>BallControl</th>     <td>    0.0074</td> <td>    0.007</td> <td>    1.137</td> <td> 0.256</td> <td>   -0.005</td> <td>    0.020</td>\n",
       "</tr>\n",
       "<tr>\n",
       "  <th>Acceleration</th>    <td>   -0.0420</td> <td>    0.005</td> <td>   -8.241</td> <td> 0.000</td> <td>   -0.052</td> <td>   -0.032</td>\n",
       "</tr>\n",
       "<tr>\n",
       "  <th>SprintSpeed</th>     <td>   -0.0120</td> <td>    0.005</td> <td>   -2.573</td> <td> 0.010</td> <td>   -0.021</td> <td>   -0.003</td>\n",
       "</tr>\n",
       "<tr>\n",
       "  <th>Agility</th>         <td>   -0.0040</td> <td>    0.004</td> <td>   -1.068</td> <td> 0.285</td> <td>   -0.011</td> <td>    0.003</td>\n",
       "</tr>\n",
       "<tr>\n",
       "  <th>Reactions</th>       <td>    0.0357</td> <td>    0.005</td> <td>    6.600</td> <td> 0.000</td> <td>    0.025</td> <td>    0.046</td>\n",
       "</tr>\n",
       "<tr>\n",
       "  <th>Balance</th>         <td>   -0.1030</td> <td>    0.003</td> <td>  -30.579</td> <td> 0.000</td> <td>   -0.110</td> <td>   -0.096</td>\n",
       "</tr>\n",
       "<tr>\n",
       "  <th>ShotPower</th>       <td>    0.0030</td> <td>    0.003</td> <td>    0.857</td> <td> 0.392</td> <td>   -0.004</td> <td>    0.010</td>\n",
       "</tr>\n",
       "<tr>\n",
       "  <th>Jumping</th>         <td>   -0.0008</td> <td>    0.003</td> <td>   -0.303</td> <td> 0.762</td> <td>   -0.006</td> <td>    0.004</td>\n",
       "</tr>\n",
       "<tr>\n",
       "  <th>Stamina</th>         <td>    0.0211</td> <td>    0.003</td> <td>    7.318</td> <td> 0.000</td> <td>    0.015</td> <td>    0.027</td>\n",
       "</tr>\n",
       "<tr>\n",
       "  <th>Strength</th>        <td>   -0.0835</td> <td>    0.003</td> <td>  -25.877</td> <td> 0.000</td> <td>   -0.090</td> <td>   -0.077</td>\n",
       "</tr>\n",
       "<tr>\n",
       "  <th>LongShots</th>       <td>    0.0338</td> <td>    0.004</td> <td>    9.333</td> <td> 0.000</td> <td>    0.027</td> <td>    0.041</td>\n",
       "</tr>\n",
       "<tr>\n",
       "  <th>Aggression</th>      <td>    0.0138</td> <td>    0.003</td> <td>    5.403</td> <td> 0.000</td> <td>    0.009</td> <td>    0.019</td>\n",
       "</tr>\n",
       "<tr>\n",
       "  <th>Interceptions</th>   <td>    0.0022</td> <td>    0.003</td> <td>    0.731</td> <td> 0.465</td> <td>   -0.004</td> <td>    0.008</td>\n",
       "</tr>\n",
       "<tr>\n",
       "  <th>Positioning</th>     <td>    0.0153</td> <td>    0.004</td> <td>    4.294</td> <td> 0.000</td> <td>    0.008</td> <td>    0.022</td>\n",
       "</tr>\n",
       "<tr>\n",
       "  <th>Vision</th>          <td>   -0.0268</td> <td>    0.004</td> <td>   -6.831</td> <td> 0.000</td> <td>   -0.034</td> <td>   -0.019</td>\n",
       "</tr>\n",
       "<tr>\n",
       "  <th>Penalties</th>       <td>   -0.0310</td> <td>    0.003</td> <td>   -9.347</td> <td> 0.000</td> <td>   -0.038</td> <td>   -0.025</td>\n",
       "</tr>\n",
       "<tr>\n",
       "  <th>Composure</th>       <td>    0.0602</td> <td>    0.004</td> <td>   14.309</td> <td> 0.000</td> <td>    0.052</td> <td>    0.068</td>\n",
       "</tr>\n",
       "<tr>\n",
       "  <th>Marking</th>         <td>   -0.0164</td> <td>    0.003</td> <td>   -5.727</td> <td> 0.000</td> <td>   -0.022</td> <td>   -0.011</td>\n",
       "</tr>\n",
       "<tr>\n",
       "    <th>Response=2</th>       <th>coef</th>     <th>std err</th>      <th>z</th>      <th>P>|z|</th>  <th>[0.025</th>    <th>0.975]</th>  \n",
       "</tr>\n",
       "<tr>\n",
       "  <th>Overall</th>         <td>    0.2693</td> <td>    0.017</td> <td>   16.102</td> <td> 0.000</td> <td>    0.237</td> <td>    0.302</td>\n",
       "</tr>\n",
       "<tr>\n",
       "  <th>Crossing</th>        <td>    0.0292</td> <td>    0.005</td> <td>    5.501</td> <td> 0.000</td> <td>    0.019</td> <td>    0.040</td>\n",
       "</tr>\n",
       "<tr>\n",
       "  <th>Finishing</th>       <td>    0.0087</td> <td>    0.007</td> <td>    1.322</td> <td> 0.186</td> <td>   -0.004</td> <td>    0.022</td>\n",
       "</tr>\n",
       "<tr>\n",
       "  <th>HeadingAccuracy</th> <td>   -0.0356</td> <td>    0.006</td> <td>   -6.098</td> <td> 0.000</td> <td>   -0.047</td> <td>   -0.024</td>\n",
       "</tr>\n",
       "<tr>\n",
       "  <th>ShortPassing</th>    <td>   -0.0635</td> <td>    0.011</td> <td>   -5.585</td> <td> 0.000</td> <td>   -0.086</td> <td>   -0.041</td>\n",
       "</tr>\n",
       "<tr>\n",
       "  <th>Volleys</th>         <td>    0.0282</td> <td>    0.006</td> <td>    5.022</td> <td> 0.000</td> <td>    0.017</td> <td>    0.039</td>\n",
       "</tr>\n",
       "<tr>\n",
       "  <th>Dribbling</th>       <td>    0.0329</td> <td>    0.009</td> <td>    3.540</td> <td> 0.000</td> <td>    0.015</td> <td>    0.051</td>\n",
       "</tr>\n",
       "<tr>\n",
       "  <th>Curve</th>           <td>    0.0331</td> <td>    0.006</td> <td>    5.806</td> <td> 0.000</td> <td>    0.022</td> <td>    0.044</td>\n",
       "</tr>\n",
       "<tr>\n",
       "  <th>FKAccuracy</th>      <td>   -0.0158</td> <td>    0.005</td> <td>   -3.238</td> <td> 0.001</td> <td>   -0.025</td> <td>   -0.006</td>\n",
       "</tr>\n",
       "<tr>\n",
       "  <th>LongPassing</th>     <td>   -0.0067</td> <td>    0.007</td> <td>   -0.905</td> <td> 0.365</td> <td>   -0.021</td> <td>    0.008</td>\n",
       "</tr>\n",
       "<tr>\n",
       "  <th>BallControl</th>     <td>    0.0155</td> <td>    0.013</td> <td>    1.237</td> <td> 0.216</td> <td>   -0.009</td> <td>    0.040</td>\n",
       "</tr>\n",
       "<tr>\n",
       "  <th>Acceleration</th>    <td>   -0.0571</td> <td>    0.009</td> <td>   -6.619</td> <td> 0.000</td> <td>   -0.074</td> <td>   -0.040</td>\n",
       "</tr>\n",
       "<tr>\n",
       "  <th>SprintSpeed</th>     <td>   -0.0186</td> <td>    0.008</td> <td>   -2.401</td> <td> 0.016</td> <td>   -0.034</td> <td>   -0.003</td>\n",
       "</tr>\n",
       "<tr>\n",
       "  <th>Agility</th>         <td>   -0.0553</td> <td>    0.007</td> <td>   -8.180</td> <td> 0.000</td> <td>   -0.069</td> <td>   -0.042</td>\n",
       "</tr>\n",
       "<tr>\n",
       "  <th>Reactions</th>       <td>    0.1114</td> <td>    0.010</td> <td>   10.767</td> <td> 0.000</td> <td>    0.091</td> <td>    0.132</td>\n",
       "</tr>\n",
       "<tr>\n",
       "  <th>Balance</th>         <td>   -0.1941</td> <td>    0.006</td> <td>  -32.597</td> <td> 0.000</td> <td>   -0.206</td> <td>   -0.182</td>\n",
       "</tr>\n",
       "<tr>\n",
       "  <th>ShotPower</th>       <td>    0.0089</td> <td>    0.007</td> <td>    1.362</td> <td> 0.173</td> <td>   -0.004</td> <td>    0.022</td>\n",
       "</tr>\n",
       "<tr>\n",
       "  <th>Jumping</th>         <td>   -0.0021</td> <td>    0.004</td> <td>   -0.501</td> <td> 0.616</td> <td>   -0.010</td> <td>    0.006</td>\n",
       "</tr>\n",
       "<tr>\n",
       "  <th>Stamina</th>         <td>    0.0178</td> <td>    0.005</td> <td>    3.639</td> <td> 0.000</td> <td>    0.008</td> <td>    0.027</td>\n",
       "</tr>\n",
       "<tr>\n",
       "  <th>Strength</th>        <td>   -0.2063</td> <td>    0.006</td> <td>  -35.841</td> <td> 0.000</td> <td>   -0.218</td> <td>   -0.195</td>\n",
       "</tr>\n",
       "<tr>\n",
       "  <th>LongShots</th>       <td>    0.0324</td> <td>    0.006</td> <td>    5.066</td> <td> 0.000</td> <td>    0.020</td> <td>    0.045</td>\n",
       "</tr>\n",
       "<tr>\n",
       "  <th>Aggression</th>      <td>    0.0263</td> <td>    0.005</td> <td>    5.774</td> <td> 0.000</td> <td>    0.017</td> <td>    0.035</td>\n",
       "</tr>\n",
       "<tr>\n",
       "  <th>Interceptions</th>   <td>    0.0092</td> <td>    0.005</td> <td>    1.810</td> <td> 0.070</td> <td>   -0.001</td> <td>    0.019</td>\n",
       "</tr>\n",
       "<tr>\n",
       "  <th>Positioning</th>     <td>    0.0166</td> <td>    0.007</td> <td>    2.546</td> <td> 0.011</td> <td>    0.004</td> <td>    0.029</td>\n",
       "</tr>\n",
       "<tr>\n",
       "  <th>Vision</th>          <td>   -0.0281</td> <td>    0.007</td> <td>   -3.999</td> <td> 0.000</td> <td>   -0.042</td> <td>   -0.014</td>\n",
       "</tr>\n",
       "<tr>\n",
       "  <th>Penalties</th>       <td>   -0.0629</td> <td>    0.005</td> <td>  -11.481</td> <td> 0.000</td> <td>   -0.074</td> <td>   -0.052</td>\n",
       "</tr>\n",
       "<tr>\n",
       "  <th>Composure</th>       <td>    0.1070</td> <td>    0.008</td> <td>   13.429</td> <td> 0.000</td> <td>    0.091</td> <td>    0.123</td>\n",
       "</tr>\n",
       "<tr>\n",
       "  <th>Marking</th>         <td>   -0.0092</td> <td>    0.005</td> <td>   -1.939</td> <td> 0.053</td> <td>   -0.019</td> <td>    0.000</td>\n",
       "</tr>\n",
       "</table>"
      ],
      "text/plain": [
       "<class 'statsmodels.iolib.summary.Summary'>\n",
       "\"\"\"\n",
       "                          MNLogit Regression Results                          \n",
       "==============================================================================\n",
       "Dep. Variable:               Response   No. Observations:                12897\n",
       "Model:                        MNLogit   Df Residuals:                    12841\n",
       "Method:                           MLE   Df Model:                           54\n",
       "Date:                Sat, 23 May 2020   Pseudo R-squ.:                  0.3123\n",
       "Time:                        03:51:46   Log-Likelihood:                -8124.9\n",
       "converged:                       True   LL-Null:                       -11814.\n",
       "Covariance Type:            nonrobust   LLR p-value:                     0.000\n",
       "===================================================================================\n",
       "     Response=1       coef    std err          z      P>|z|      [0.025      0.975]\n",
       "-----------------------------------------------------------------------------------\n",
       "Overall             0.1644      0.009     17.308      0.000       0.146       0.183\n",
       "Crossing            0.0257      0.003      8.596      0.000       0.020       0.031\n",
       "Finishing          -0.0011      0.004     -0.279      0.781      -0.009       0.006\n",
       "HeadingAccuracy    -0.0208      0.004     -5.866      0.000      -0.028      -0.014\n",
       "ShortPassing       -0.0367      0.006     -6.006      0.000      -0.049      -0.025\n",
       "Volleys             0.0006      0.003      0.177      0.859      -0.006       0.007\n",
       "Dribbling          -0.0047      0.005     -0.974      0.330      -0.014       0.005\n",
       "Curve               0.0136      0.003      4.136      0.000       0.007       0.020\n",
       "FKAccuracy         -0.0045      0.003     -1.528      0.127      -0.010       0.001\n",
       "LongPassing         0.0130      0.004      3.123      0.002       0.005       0.021\n",
       "BallControl         0.0074      0.007      1.137      0.256      -0.005       0.020\n",
       "Acceleration       -0.0420      0.005     -8.241      0.000      -0.052      -0.032\n",
       "SprintSpeed        -0.0120      0.005     -2.573      0.010      -0.021      -0.003\n",
       "Agility            -0.0040      0.004     -1.068      0.285      -0.011       0.003\n",
       "Reactions           0.0357      0.005      6.600      0.000       0.025       0.046\n",
       "Balance            -0.1030      0.003    -30.579      0.000      -0.110      -0.096\n",
       "ShotPower           0.0030      0.003      0.857      0.392      -0.004       0.010\n",
       "Jumping            -0.0008      0.003     -0.303      0.762      -0.006       0.004\n",
       "Stamina             0.0211      0.003      7.318      0.000       0.015       0.027\n",
       "Strength           -0.0835      0.003    -25.877      0.000      -0.090      -0.077\n",
       "LongShots           0.0338      0.004      9.333      0.000       0.027       0.041\n",
       "Aggression          0.0138      0.003      5.403      0.000       0.009       0.019\n",
       "Interceptions       0.0022      0.003      0.731      0.465      -0.004       0.008\n",
       "Positioning         0.0153      0.004      4.294      0.000       0.008       0.022\n",
       "Vision             -0.0268      0.004     -6.831      0.000      -0.034      -0.019\n",
       "Penalties          -0.0310      0.003     -9.347      0.000      -0.038      -0.025\n",
       "Composure           0.0602      0.004     14.309      0.000       0.052       0.068\n",
       "Marking            -0.0164      0.003     -5.727      0.000      -0.022      -0.011\n",
       "-----------------------------------------------------------------------------------\n",
       "     Response=2       coef    std err          z      P>|z|      [0.025      0.975]\n",
       "-----------------------------------------------------------------------------------\n",
       "Overall             0.2693      0.017     16.102      0.000       0.237       0.302\n",
       "Crossing            0.0292      0.005      5.501      0.000       0.019       0.040\n",
       "Finishing           0.0087      0.007      1.322      0.186      -0.004       0.022\n",
       "HeadingAccuracy    -0.0356      0.006     -6.098      0.000      -0.047      -0.024\n",
       "ShortPassing       -0.0635      0.011     -5.585      0.000      -0.086      -0.041\n",
       "Volleys             0.0282      0.006      5.022      0.000       0.017       0.039\n",
       "Dribbling           0.0329      0.009      3.540      0.000       0.015       0.051\n",
       "Curve               0.0331      0.006      5.806      0.000       0.022       0.044\n",
       "FKAccuracy         -0.0158      0.005     -3.238      0.001      -0.025      -0.006\n",
       "LongPassing        -0.0067      0.007     -0.905      0.365      -0.021       0.008\n",
       "BallControl         0.0155      0.013      1.237      0.216      -0.009       0.040\n",
       "Acceleration       -0.0571      0.009     -6.619      0.000      -0.074      -0.040\n",
       "SprintSpeed        -0.0186      0.008     -2.401      0.016      -0.034      -0.003\n",
       "Agility            -0.0553      0.007     -8.180      0.000      -0.069      -0.042\n",
       "Reactions           0.1114      0.010     10.767      0.000       0.091       0.132\n",
       "Balance            -0.1941      0.006    -32.597      0.000      -0.206      -0.182\n",
       "ShotPower           0.0089      0.007      1.362      0.173      -0.004       0.022\n",
       "Jumping            -0.0021      0.004     -0.501      0.616      -0.010       0.006\n",
       "Stamina             0.0178      0.005      3.639      0.000       0.008       0.027\n",
       "Strength           -0.2063      0.006    -35.841      0.000      -0.218      -0.195\n",
       "LongShots           0.0324      0.006      5.066      0.000       0.020       0.045\n",
       "Aggression          0.0263      0.005      5.774      0.000       0.017       0.035\n",
       "Interceptions       0.0092      0.005      1.810      0.070      -0.001       0.019\n",
       "Positioning         0.0166      0.007      2.546      0.011       0.004       0.029\n",
       "Vision             -0.0281      0.007     -3.999      0.000      -0.042      -0.014\n",
       "Penalties          -0.0629      0.005    -11.481      0.000      -0.074      -0.052\n",
       "Composure           0.1070      0.008     13.429      0.000       0.091       0.123\n",
       "Marking            -0.0092      0.005     -1.939      0.053      -0.019       0.000\n",
       "===================================================================================\n",
       "\"\"\""
      ]
     },
     "execution_count": 20,
     "metadata": {
      "tags": []
     },
     "output_type": "execute_result"
    }
   ],
   "source": [
    "model = MNLogit(y_train, X_train)\n",
    "results = model.fit()\n",
    "\n",
    "results.summary()"
   ]
  },
  {
   "cell_type": "code",
   "execution_count": 24,
   "metadata": {
    "colab": {
     "base_uri": "https://localhost:8080/",
     "height": 34
    },
    "colab_type": "code",
    "executionInfo": {
     "elapsed": 465,
     "status": "ok",
     "timestamp": 1590206354530,
     "user": {
      "displayName": "Sam Holmstrom",
      "photoUrl": "",
      "userId": "05645048604521877205"
     },
     "user_tz": 300
    },
    "id": "4HpjfRpYqrZo",
    "outputId": "6d76b1b0-2532-47b8-e1d5-274287abd1d4"
   },
   "outputs": [
    {
     "data": {
      "text/plain": [
       "[0.8926882220671474, 0.892093023255814, 0.3438113452195969, 0.344460537268642]"
      ]
     },
     "execution_count": 24,
     "metadata": {
      "tags": []
     },
     "output_type": "execute_result"
    }
   ],
   "source": [
    "train_probs = logit.predict_proba(X_train)\n",
    "test_probs = logit.predict_proba(X_test)\n",
    "train_scores = (logit.score(X_train, y_train))\n",
    "test_scores = (logit.score(X_test, y_test))\n",
    "train_loss = (log_loss(y_train, train_probs))\n",
    "test_loss = (log_loss(y_test, test_probs))\n",
    "score_list = list((train_scores, test_scores, train_loss, test_loss))\n",
    "\n",
    "score_list"
   ]
  },
  {
   "cell_type": "markdown",
   "metadata": {
    "colab_type": "text",
    "id": "KkMAIoh0rrEP"
   },
   "source": [
    "To evaluate test error using cross-validation, we will switch back to scikit-learn. Estimate the test error of this multinomial logistic regression model using 10-fold CV.\n",
    "\n",
    "Note: scikit-learn's LogisticRegression() function can handle both binary and multinomial regression, and it is automatically able to determine which is appropriate based on the y_train array that is passed. You should be able to reuse previous code with minimal changes required."
   ]
  },
  {
   "cell_type": "code",
   "execution_count": 0,
   "metadata": {
    "colab": {},
    "colab_type": "code",
    "id": "lPRW-I6IrrEQ"
   },
   "outputs": [],
   "source": [
    "# answer goes here\n",
    "\n",
    "\n",
    "\n"
   ]
  },
  {
   "cell_type": "markdown",
   "metadata": {
    "colab_type": "text",
    "id": "2qBq7WCNVYp_"
   },
   "source": [
    "As we did in the previous exercise, train a multinomial logistic regression on the training data, make predictions on the 20% holdout test data, then:\n",
    "\n",
    "- Determine the precision, recall, and F1-score of our model using a cutoff/threshold of 0.5 (hint: scikit-learn's *classification_report* function may be helpful)\n",
    "- Plot or otherwise generate a confusion matrix\n",
    "- Plot the ROC curve for our logistic regression model\n",
    "\n",
    "Comment on the performance of the model."
   ]
  },
  {
   "cell_type": "code",
   "execution_count": 28,
   "metadata": {
    "colab": {
     "base_uri": "https://localhost:8080/",
     "height": 187
    },
    "colab_type": "code",
    "executionInfo": {
     "elapsed": 324,
     "status": "ok",
     "timestamp": 1590206524112,
     "user": {
      "displayName": "Sam Holmstrom",
      "photoUrl": "",
      "userId": "05645048604521877205"
     },
     "user_tz": 300
    },
    "id": "FFup74enVYp_",
    "outputId": "29c4e266-2d56-4276-e5f5-a862c2eb3719"
   },
   "outputs": [
    {
     "name": "stdout",
     "output_type": "stream",
     "text": [
      "              precision    recall  f1-score   support\n",
      "\n",
      "           0       0.96      0.95      0.96      1266\n",
      "           1       0.84      0.97      0.90      1670\n",
      "           2       1.00      0.17      0.28       289\n",
      "\n",
      "    accuracy                           0.89      3225\n",
      "   macro avg       0.94      0.70      0.72      3225\n",
      "weighted avg       0.90      0.89      0.87      3225\n",
      "\n"
     ]
    }
   ],
   "source": [
    "# answer goes here\n",
    "report = classification_report(y_test, logitresult.predict(X_test))\n",
    "\n",
    "print(report)\n"
   ]
  }
 ],
 "metadata": {
  "colab": {
   "collapsed_sections": [],
   "name": "Day 25 Lecture 2 Assignment.ipynb",
   "provenance": [
    {
     "file_id": "1XWq_lDDfXx_V6q7AQ2H9116B0Vja3BKi",
     "timestamp": 1590130484956
    }
   ]
  },
  "kernelspec": {
   "display_name": "Python 3",
   "language": "python",
   "name": "python3"
  },
  "language_info": {
   "codemirror_mode": {
    "name": "ipython",
    "version": 3
   },
   "file_extension": ".py",
   "mimetype": "text/x-python",
   "name": "python",
   "nbconvert_exporter": "python",
   "pygments_lexer": "ipython3",
   "version": "3.7.4"
  }
 },
 "nbformat": 4,
 "nbformat_minor": 1
}
