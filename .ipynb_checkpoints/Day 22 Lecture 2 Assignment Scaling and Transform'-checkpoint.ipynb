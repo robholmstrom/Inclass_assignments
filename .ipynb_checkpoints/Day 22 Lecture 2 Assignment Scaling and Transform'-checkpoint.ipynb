{
 "cells": [
  {
   "cell_type": "markdown",
   "metadata": {
    "colab_type": "text",
    "id": "pt53EAUNowc9"
   },
   "source": [
    "## Day 22 Lecture 2 Assignment\n",
    "\n",
    "In this assignment, we will do apply the feature engineering techniques we have learned to create new features from existing ones. We will be using both the FIFA ratings dataset and the Chicago traffic crash dataset."
   ]
  },
  {
   "cell_type": "code",
   "execution_count": 0,
   "metadata": {
    "colab": {},
    "colab_type": "code",
    "id": "Qd8GvyDQowc9"
   },
   "outputs": [],
   "source": [
    "%matplotlib inline\n",
    "\n",
    "import matplotlib.pyplot as plt\n",
    "import numpy as np\n",
    "import pandas as pd"
   ]
  },
  {
   "cell_type": "markdown",
   "metadata": {
    "colab_type": "text",
    "id": "IrpS_7ndr9dE"
   },
   "source": [
    "// QUestion 2 that you asked .astype(str)\n",
    "\n",
    "DF.columnName.astype(str))\n",
    "\n",
    "DF.columnName.astype(str)).str[0:2]\n",
    "\n",
    "Jay  PadhyaJay Padhya3:46 PM\n",
    "crash_data[\"BEAT_OF_OCCURENCE\"]= crash_data.BEAT_OF_OCCURENCE.astype(str)\n",
    "crash_data.BEAT_OF_OCCURENCE.astype(str).str[0:-2]"
   ]
  },
  {
   "cell_type": "code",
   "execution_count": 0,
   "metadata": {
    "colab": {},
    "colab_type": "code",
    "id": "GtRYz_Cyowc_"
   },
   "outputs": [],
   "source": [
    "crash_data = pd.read_csv('https://tf-assets-prod.s3.amazonaws.com/tf-curric/data-science/traffic_crashes_chicago.csv')\n",
    "soccer_data = pd.read_csv('https://tf-assets-prod.s3.amazonaws.com/tf-curric/data-science/fifa_ratings.csv')"
   ]
  },
  {
   "cell_type": "code",
   "execution_count": 0,
   "metadata": {
    "colab": {
     "base_uri": "https://localhost:8080/",
     "height": 292
    },
    "colab_type": "code",
    "executionInfo": {
     "elapsed": 5490,
     "status": "ok",
     "timestamp": 1589910353050,
     "user": {
      "displayName": "Sam Holmstrom",
      "photoUrl": "",
      "userId": "05645048604521877205"
     },
     "user_tz": 300
    },
    "id": "w688Ym3KowdD",
    "outputId": "120397e4-dc4e-4de9-9479-a69f2b7a191e"
   },
   "outputs": [
    {
     "data": {
      "text/html": [
       "<div>\n",
       "<style scoped>\n",
       "    .dataframe tbody tr th:only-of-type {\n",
       "        vertical-align: middle;\n",
       "    }\n",
       "\n",
       "    .dataframe tbody tr th {\n",
       "        vertical-align: top;\n",
       "    }\n",
       "\n",
       "    .dataframe thead th {\n",
       "        text-align: right;\n",
       "    }\n",
       "</style>\n",
       "<table border=\"1\" class=\"dataframe\">\n",
       "  <thead>\n",
       "    <tr style=\"text-align: right;\">\n",
       "      <th></th>\n",
       "      <th>ID</th>\n",
       "      <th>Name</th>\n",
       "      <th>Overall</th>\n",
       "      <th>Crossing</th>\n",
       "      <th>Finishing</th>\n",
       "      <th>HeadingAccuracy</th>\n",
       "      <th>ShortPassing</th>\n",
       "      <th>Volleys</th>\n",
       "      <th>Dribbling</th>\n",
       "      <th>Curve</th>\n",
       "      <th>FKAccuracy</th>\n",
       "      <th>LongPassing</th>\n",
       "      <th>BallControl</th>\n",
       "      <th>Acceleration</th>\n",
       "      <th>SprintSpeed</th>\n",
       "      <th>Agility</th>\n",
       "      <th>Reactions</th>\n",
       "      <th>Balance</th>\n",
       "      <th>ShotPower</th>\n",
       "      <th>Jumping</th>\n",
       "      <th>Stamina</th>\n",
       "      <th>Strength</th>\n",
       "      <th>LongShots</th>\n",
       "      <th>Aggression</th>\n",
       "      <th>Interceptions</th>\n",
       "      <th>Positioning</th>\n",
       "      <th>Vision</th>\n",
       "      <th>Penalties</th>\n",
       "      <th>Composure</th>\n",
       "      <th>Marking</th>\n",
       "      <th>StandingTackle</th>\n",
       "      <th>SlidingTackle</th>\n",
       "    </tr>\n",
       "  </thead>\n",
       "  <tbody>\n",
       "    <tr>\n",
       "      <th>0</th>\n",
       "      <td>158023</td>\n",
       "      <td>L. Messi</td>\n",
       "      <td>94</td>\n",
       "      <td>84</td>\n",
       "      <td>95</td>\n",
       "      <td>70</td>\n",
       "      <td>90</td>\n",
       "      <td>86</td>\n",
       "      <td>97</td>\n",
       "      <td>93</td>\n",
       "      <td>94</td>\n",
       "      <td>87</td>\n",
       "      <td>96</td>\n",
       "      <td>91</td>\n",
       "      <td>86</td>\n",
       "      <td>91</td>\n",
       "      <td>95</td>\n",
       "      <td>95</td>\n",
       "      <td>85</td>\n",
       "      <td>68</td>\n",
       "      <td>72</td>\n",
       "      <td>59</td>\n",
       "      <td>94</td>\n",
       "      <td>48</td>\n",
       "      <td>22</td>\n",
       "      <td>94</td>\n",
       "      <td>94</td>\n",
       "      <td>75</td>\n",
       "      <td>96</td>\n",
       "      <td>33</td>\n",
       "      <td>28</td>\n",
       "      <td>26</td>\n",
       "    </tr>\n",
       "    <tr>\n",
       "      <th>1</th>\n",
       "      <td>20801</td>\n",
       "      <td>Cristiano Ronaldo</td>\n",
       "      <td>94</td>\n",
       "      <td>84</td>\n",
       "      <td>94</td>\n",
       "      <td>89</td>\n",
       "      <td>81</td>\n",
       "      <td>87</td>\n",
       "      <td>88</td>\n",
       "      <td>81</td>\n",
       "      <td>76</td>\n",
       "      <td>77</td>\n",
       "      <td>94</td>\n",
       "      <td>89</td>\n",
       "      <td>91</td>\n",
       "      <td>87</td>\n",
       "      <td>96</td>\n",
       "      <td>70</td>\n",
       "      <td>95</td>\n",
       "      <td>95</td>\n",
       "      <td>88</td>\n",
       "      <td>79</td>\n",
       "      <td>93</td>\n",
       "      <td>63</td>\n",
       "      <td>29</td>\n",
       "      <td>95</td>\n",
       "      <td>82</td>\n",
       "      <td>85</td>\n",
       "      <td>95</td>\n",
       "      <td>28</td>\n",
       "      <td>31</td>\n",
       "      <td>23</td>\n",
       "    </tr>\n",
       "    <tr>\n",
       "      <th>2</th>\n",
       "      <td>190871</td>\n",
       "      <td>Neymar Jr</td>\n",
       "      <td>92</td>\n",
       "      <td>79</td>\n",
       "      <td>87</td>\n",
       "      <td>62</td>\n",
       "      <td>84</td>\n",
       "      <td>84</td>\n",
       "      <td>96</td>\n",
       "      <td>88</td>\n",
       "      <td>87</td>\n",
       "      <td>78</td>\n",
       "      <td>95</td>\n",
       "      <td>94</td>\n",
       "      <td>90</td>\n",
       "      <td>96</td>\n",
       "      <td>94</td>\n",
       "      <td>84</td>\n",
       "      <td>80</td>\n",
       "      <td>61</td>\n",
       "      <td>81</td>\n",
       "      <td>49</td>\n",
       "      <td>82</td>\n",
       "      <td>56</td>\n",
       "      <td>36</td>\n",
       "      <td>89</td>\n",
       "      <td>87</td>\n",
       "      <td>81</td>\n",
       "      <td>94</td>\n",
       "      <td>27</td>\n",
       "      <td>24</td>\n",
       "      <td>33</td>\n",
       "    </tr>\n",
       "    <tr>\n",
       "      <th>3</th>\n",
       "      <td>192985</td>\n",
       "      <td>K. De Bruyne</td>\n",
       "      <td>91</td>\n",
       "      <td>93</td>\n",
       "      <td>82</td>\n",
       "      <td>55</td>\n",
       "      <td>92</td>\n",
       "      <td>82</td>\n",
       "      <td>86</td>\n",
       "      <td>85</td>\n",
       "      <td>83</td>\n",
       "      <td>91</td>\n",
       "      <td>91</td>\n",
       "      <td>78</td>\n",
       "      <td>76</td>\n",
       "      <td>79</td>\n",
       "      <td>91</td>\n",
       "      <td>77</td>\n",
       "      <td>91</td>\n",
       "      <td>63</td>\n",
       "      <td>90</td>\n",
       "      <td>75</td>\n",
       "      <td>91</td>\n",
       "      <td>76</td>\n",
       "      <td>61</td>\n",
       "      <td>87</td>\n",
       "      <td>94</td>\n",
       "      <td>79</td>\n",
       "      <td>88</td>\n",
       "      <td>68</td>\n",
       "      <td>58</td>\n",
       "      <td>51</td>\n",
       "    </tr>\n",
       "    <tr>\n",
       "      <th>4</th>\n",
       "      <td>183277</td>\n",
       "      <td>E. Hazard</td>\n",
       "      <td>91</td>\n",
       "      <td>81</td>\n",
       "      <td>84</td>\n",
       "      <td>61</td>\n",
       "      <td>89</td>\n",
       "      <td>80</td>\n",
       "      <td>95</td>\n",
       "      <td>83</td>\n",
       "      <td>79</td>\n",
       "      <td>83</td>\n",
       "      <td>94</td>\n",
       "      <td>94</td>\n",
       "      <td>88</td>\n",
       "      <td>95</td>\n",
       "      <td>90</td>\n",
       "      <td>94</td>\n",
       "      <td>82</td>\n",
       "      <td>56</td>\n",
       "      <td>83</td>\n",
       "      <td>66</td>\n",
       "      <td>80</td>\n",
       "      <td>54</td>\n",
       "      <td>41</td>\n",
       "      <td>87</td>\n",
       "      <td>89</td>\n",
       "      <td>86</td>\n",
       "      <td>91</td>\n",
       "      <td>34</td>\n",
       "      <td>27</td>\n",
       "      <td>22</td>\n",
       "    </tr>\n",
       "  </tbody>\n",
       "</table>\n",
       "</div>"
      ],
      "text/plain": [
       "       ID               Name  Overall  ...  Marking  StandingTackle  SlidingTackle\n",
       "0  158023           L. Messi       94  ...       33              28             26\n",
       "1   20801  Cristiano Ronaldo       94  ...       28              31             23\n",
       "2  190871          Neymar Jr       92  ...       27              24             33\n",
       "3  192985       K. De Bruyne       91  ...       68              58             51\n",
       "4  183277          E. Hazard       91  ...       34              27             22\n",
       "\n",
       "[5 rows x 32 columns]"
      ]
     },
     "execution_count": 3,
     "metadata": {
      "tags": []
     },
     "output_type": "execute_result"
    }
   ],
   "source": [
    "soccer_data.head()"
   ]
  },
  {
   "cell_type": "markdown",
   "metadata": {
    "colab_type": "text",
    "id": "ZBcIEqK6owdF"
   },
   "source": [
    "We will start with the FIFA soccer ratings dataset. From our EDA in the previous exercise, we saw that most ratings appeared to be somewhat normally distributed, occasionally with long tails. Choose one of the ratings (we will choose Curve) and apply the following transformations:\n",
    "\n",
    "- Log transformation\n",
    "- Standardization\n",
    "- Quantile transformation\n",
    "\n",
    "Plot the resulting histograms. How do these transformations affect the resulting distributions?"
   ]
  },
  {
   "cell_type": "code",
   "execution_count": 0,
   "metadata": {
    "colab": {
     "base_uri": "https://localhost:8080/",
     "height": 265
    },
    "colab_type": "code",
    "executionInfo": {
     "elapsed": 3129,
     "status": "ok",
     "timestamp": 1589915941910,
     "user": {
      "displayName": "Sam Holmstrom",
      "photoUrl": "",
      "userId": "05645048604521877205"
     },
     "user_tz": 300
    },
    "id": "NriqBL6OowdF",
    "outputId": "828ad462-8bc2-42e0-db26-a9836bbe37fd"
   },
   "outputs": [
    {
     "data": {
      "image/png": "[encoded data removed]",
      "text/plain": [
       "<Figure size 432x288 with 1 Axes>"
      ]
     },
     "metadata": {
      "needs_background": "light",
      "tags": []
     },
     "output_type": "display_data"
    }
   ],
   "source": [
    "# answer goes here\n",
    "from sklearn.preprocessing import StandardScaler\n",
    "from sklearn.preprocessing import QuantileTransformer\n",
    "soccer_data['Curve_log'] = np.log(soccer_data['Curve'])\n",
    "\n",
    "\n",
    "a = plt.hist(soccer_data['Curve'])\n",
    "plt.show()\n"
   ]
  },
  {
   "cell_type": "code",
   "execution_count": 0,
   "metadata": {
    "colab": {
     "base_uri": "https://localhost:8080/",
     "height": 265
    },
    "colab_type": "code",
    "executionInfo": {
     "elapsed": 341,
     "status": "ok",
     "timestamp": 1589911560848,
     "user": {
      "displayName": "Sam Holmstrom",
      "photoUrl": "",
      "userId": "05645048604521877205"
     },
     "user_tz": 300
    },
    "id": "zFqqvvZrElKh",
    "outputId": "705a412b-571d-4df5-9837-71c012c3cec2"
   },
   "outputs": [
    {
     "data": {
      "image/png": "[encoded data removed]",
      "text/plain": [
       "<Figure size 432x288 with 1 Axes>"
      ]
     },
     "metadata": {
      "needs_background": "light",
      "tags": []
     },
     "output_type": "display_data"
    }
   ],
   "source": [
    "b = plt.hist(soccer_data['Curve_log'])\n",
    "plt.show()"
   ]
  },
  {
   "cell_type": "code",
   "execution_count": 0,
   "metadata": {
    "colab": {
     "base_uri": "https://localhost:8080/",
     "height": 265
    },
    "colab_type": "code",
    "executionInfo": {
     "elapsed": 470,
     "status": "ok",
     "timestamp": 1589911576537,
     "user": {
      "displayName": "Sam Holmstrom",
      "photoUrl": "",
      "userId": "05645048604521877205"
     },
     "user_tz": 300
    },
    "id": "h5jUHaFPFBVE",
    "outputId": "f5c42130-236a-4ce3-a5b5-d37f7a65b971"
   },
   "outputs": [
    {
     "data": {
      "image/png": "[encoded data removed]",
      "text/plain": [
       "<Figure size 432x288 with 1 Axes>"
      ]
     },
     "metadata": {
      "needs_background": "light",
      "tags": []
     },
     "output_type": "display_data"
    }
   ],
   "source": [
    "scaler = StandardScaler()\n",
    "soccer_data['Curve_standard'] = scaler.fit_transform(soccer_data[['Curve']])\n",
    "plt.hist(soccer_data['Curve_standard'])\n",
    "plt.show()"
   ]
  },
  {
   "cell_type": "code",
   "execution_count": 0,
   "metadata": {
    "colab": {
     "base_uri": "https://localhost:8080/",
     "height": 265
    },
    "colab_type": "code",
    "executionInfo": {
     "elapsed": 486,
     "status": "ok",
     "timestamp": 1589911480149,
     "user": {
      "displayName": "Sam Holmstrom",
      "photoUrl": "",
      "userId": "05645048604521877205"
     },
     "user_tz": 300
    },
    "id": "2nq-yYrFFvZ2",
    "outputId": "df153a0b-8c83-4c0d-dfb9-60f7a682eca4"
   },
   "outputs": [
    {
     "data": {
      "image/png": "[encoded data removed]",
      "text/plain": [
       "<Figure size 432x288 with 1 Axes>"
      ]
     },
     "metadata": {
      "needs_background": "light",
      "tags": []
     },
     "output_type": "display_data"
    }
   ],
   "source": [
    "quantile = QuantileTransformer(output_distribution = 'normal')\n",
    "soccer_data['Curve_Quantile'] = quantile.fit_transform(soccer_data[['Curve']])\n",
    "plt.hist(soccer_data['Curve_Quantile'], bins= 50)\n",
    "plt.show()"
   ]
  },
  {
   "cell_type": "code",
   "execution_count": 0,
   "metadata": {
    "colab": {},
    "colab_type": "code",
    "id": "NPY4ynXUFBml"
   },
   "outputs": [],
   "source": []
  },
  {
   "cell_type": "markdown",
   "metadata": {
    "colab_type": "text",
    "id": "DE37iEYUowdI"
   },
   "source": [
    "Next, we will switch our focus to the Chicago traffic crashes dataset. We will create several new features using several common feature engineering techniques.\n",
    "\n",
    "Start by considering the crash date column. It is usually difficult to directly feed datetimes into machine learning models, but we can extract several features from the datetime that may be more suitable for our use case. \n",
    "\n",
    "First, if the CRASH_DATE column is not already a datetime field (it may be read in as a string by default), convert it to a datetime. Then, create three new columns, CRASH_HOUR, CRASH_DAY_OF_WEEK, and CRASH_MONTH, that extract the relevant pieces of information from the crash date field. CRASH_HOUR should be numeric, while CRASH_DAY_OF_WEEK and CRASH_MONTH should be strings (e.g. \"Monday\" and \"December\", not 1 and 12)."
   ]
  },
  {
   "cell_type": "code",
   "execution_count": 0,
   "metadata": {
    "colab": {
     "base_uri": "https://localhost:8080/",
     "height": 394
    },
    "colab_type": "code",
    "executionInfo": {
     "elapsed": 393,
     "status": "ok",
     "timestamp": 1589915942663,
     "user": {
      "displayName": "Sam Holmstrom",
      "photoUrl": "",
      "userId": "05645048604521877205"
     },
     "user_tz": 300
    },
    "id": "xnIzSzXHowdJ",
    "outputId": "10b89d6c-9ad6-4d7f-d083-bf3a4000da37"
   },
   "outputs": [
    {
     "data": {
      "text/html": [
       "<div>\n",
       "<style scoped>\n",
       "    .dataframe tbody tr th:only-of-type {\n",
       "        vertical-align: middle;\n",
       "    }\n",
       "\n",
       "    .dataframe tbody tr th {\n",
       "        vertical-align: top;\n",
       "    }\n",
       "\n",
       "    .dataframe thead th {\n",
       "        text-align: right;\n",
       "    }\n",
       "</style>\n",
       "<table border=\"1\" class=\"dataframe\">\n",
       "  <thead>\n",
       "    <tr style=\"text-align: right;\">\n",
       "      <th></th>\n",
       "      <th>RD_NO</th>\n",
       "      <th>CRASH_DATE</th>\n",
       "      <th>POSTED_SPEED_LIMIT</th>\n",
       "      <th>TRAFFIC_CONTROL_DEVICE</th>\n",
       "      <th>DEVICE_CONDITION</th>\n",
       "      <th>WEATHER_CONDITION</th>\n",
       "      <th>LIGHTING_CONDITION</th>\n",
       "      <th>FIRST_CRASH_TYPE</th>\n",
       "      <th>TRAFFICWAY_TYPE</th>\n",
       "      <th>LANE_CNT</th>\n",
       "      <th>ALIGNMENT</th>\n",
       "      <th>ROADWAY_SURFACE_COND</th>\n",
       "      <th>ROAD_DEFECT</th>\n",
       "      <th>REPORT_TYPE</th>\n",
       "      <th>CRASH_TYPE</th>\n",
       "      <th>INTERSECTION_RELATED_I</th>\n",
       "      <th>NOT_RIGHT_OF_WAY_I</th>\n",
       "      <th>HIT_AND_RUN_I</th>\n",
       "      <th>DAMAGE</th>\n",
       "      <th>DATE_POLICE_NOTIFIED</th>\n",
       "      <th>PRIM_CONTRIBUTORY_CAUSE</th>\n",
       "      <th>SEC_CONTRIBUTORY_CAUSE</th>\n",
       "      <th>STREET_NO</th>\n",
       "      <th>STREET_DIRECTION</th>\n",
       "      <th>STREET_NAME</th>\n",
       "      <th>BEAT_OF_OCCURRENCE</th>\n",
       "      <th>PHOTOS_TAKEN_I</th>\n",
       "      <th>STATEMENTS_TAKEN_I</th>\n",
       "      <th>DOORING_I</th>\n",
       "      <th>WORK_ZONE_I</th>\n",
       "      <th>WORK_ZONE_TYPE</th>\n",
       "      <th>WORKERS_PRESENT_I</th>\n",
       "      <th>NUM_UNITS</th>\n",
       "      <th>MOST_SEVERE_INJURY</th>\n",
       "      <th>INJURIES_TOTAL</th>\n",
       "      <th>INJURIES_FATAL</th>\n",
       "      <th>INJURIES_INCAPACITATING</th>\n",
       "      <th>INJURIES_NON_INCAPACITATING</th>\n",
       "      <th>INJURIES_REPORTED_NOT_EVIDENT</th>\n",
       "      <th>INJURIES_NO_INDICATION</th>\n",
       "      <th>INJURIES_UNKNOWN</th>\n",
       "    </tr>\n",
       "  </thead>\n",
       "  <tbody>\n",
       "    <tr>\n",
       "      <th>0</th>\n",
       "      <td>JC334993</td>\n",
       "      <td>7/4/2019 22:33</td>\n",
       "      <td>45</td>\n",
       "      <td>NO CONTROLS</td>\n",
       "      <td>NO CONTROLS</td>\n",
       "      <td>CLEAR</td>\n",
       "      <td>DARKNESS, LIGHTED ROAD</td>\n",
       "      <td>REAR END</td>\n",
       "      <td>DIVIDED - W/MEDIAN BARRIER</td>\n",
       "      <td>NaN</td>\n",
       "      <td>STRAIGHT AND LEVEL</td>\n",
       "      <td>DRY</td>\n",
       "      <td>NO DEFECTS</td>\n",
       "      <td>NaN</td>\n",
       "      <td>NO INJURY / DRIVE AWAY</td>\n",
       "      <td>NaN</td>\n",
       "      <td>NaN</td>\n",
       "      <td>NaN</td>\n",
       "      <td>OVER $1,500</td>\n",
       "      <td>7/4/2019 23:05</td>\n",
       "      <td>FOLLOWING TOO CLOSELY</td>\n",
       "      <td>NOT APPLICABLE</td>\n",
       "      <td>300</td>\n",
       "      <td>N</td>\n",
       "      <td>LAKE SHORE DR SB</td>\n",
       "      <td>114.0</td>\n",
       "      <td>NaN</td>\n",
       "      <td>NaN</td>\n",
       "      <td>NaN</td>\n",
       "      <td>NaN</td>\n",
       "      <td>NaN</td>\n",
       "      <td>NaN</td>\n",
       "      <td>NaN</td>\n",
       "      <td>NaN</td>\n",
       "      <td>NaN</td>\n",
       "      <td>NaN</td>\n",
       "      <td>NaN</td>\n",
       "      <td>NaN</td>\n",
       "      <td>NaN</td>\n",
       "      <td>NaN</td>\n",
       "      <td>NaN</td>\n",
       "    </tr>\n",
       "    <tr>\n",
       "      <th>1</th>\n",
       "      <td>JC370822</td>\n",
       "      <td>7/30/2019 10:22</td>\n",
       "      <td>30</td>\n",
       "      <td>NO CONTROLS</td>\n",
       "      <td>NO CONTROLS</td>\n",
       "      <td>CLEAR</td>\n",
       "      <td>DAYLIGHT</td>\n",
       "      <td>TURNING</td>\n",
       "      <td>DIVIDED - W/MEDIAN (NOT RAISED)</td>\n",
       "      <td>NaN</td>\n",
       "      <td>STRAIGHT AND LEVEL</td>\n",
       "      <td>DRY</td>\n",
       "      <td>NO DEFECTS</td>\n",
       "      <td>NaN</td>\n",
       "      <td>NO INJURY / DRIVE AWAY</td>\n",
       "      <td>NaN</td>\n",
       "      <td>NaN</td>\n",
       "      <td>NaN</td>\n",
       "      <td>OVER $1,500</td>\n",
       "      <td>7/30/2019 10:25</td>\n",
       "      <td>FAILING TO YIELD RIGHT-OF-WAY</td>\n",
       "      <td>IMPROPER TURNING/NO SIGNAL</td>\n",
       "      <td>8201</td>\n",
       "      <td>S</td>\n",
       "      <td>DR MARTIN LUTHER KING JR DR</td>\n",
       "      <td>631.0</td>\n",
       "      <td>NaN</td>\n",
       "      <td>NaN</td>\n",
       "      <td>NaN</td>\n",
       "      <td>NaN</td>\n",
       "      <td>NaN</td>\n",
       "      <td>NaN</td>\n",
       "      <td>NaN</td>\n",
       "      <td>NaN</td>\n",
       "      <td>NaN</td>\n",
       "      <td>NaN</td>\n",
       "      <td>NaN</td>\n",
       "      <td>NaN</td>\n",
       "      <td>NaN</td>\n",
       "      <td>NaN</td>\n",
       "      <td>NaN</td>\n",
       "    </tr>\n",
       "    <tr>\n",
       "      <th>2</th>\n",
       "      <td>JC387098</td>\n",
       "      <td>8/10/2019 17:00</td>\n",
       "      <td>25</td>\n",
       "      <td>NO CONTROLS</td>\n",
       "      <td>NO CONTROLS</td>\n",
       "      <td>CLEAR</td>\n",
       "      <td>DAYLIGHT</td>\n",
       "      <td>PARKED MOTOR VEHICLE</td>\n",
       "      <td>ONE-WAY</td>\n",
       "      <td>NaN</td>\n",
       "      <td>STRAIGHT AND LEVEL</td>\n",
       "      <td>DRY</td>\n",
       "      <td>NO DEFECTS</td>\n",
       "      <td>NaN</td>\n",
       "      <td>NO INJURY / DRIVE AWAY</td>\n",
       "      <td>NaN</td>\n",
       "      <td>NaN</td>\n",
       "      <td>NaN</td>\n",
       "      <td>$501 - $1,500</td>\n",
       "      <td>8/10/2019 17:35</td>\n",
       "      <td>EQUIPMENT - VEHICLE CONDITION</td>\n",
       "      <td>NOT APPLICABLE</td>\n",
       "      <td>6747</td>\n",
       "      <td>S</td>\n",
       "      <td>CREGIER AVE</td>\n",
       "      <td>332.0</td>\n",
       "      <td>NaN</td>\n",
       "      <td>NaN</td>\n",
       "      <td>NaN</td>\n",
       "      <td>NaN</td>\n",
       "      <td>NaN</td>\n",
       "      <td>NaN</td>\n",
       "      <td>1.0</td>\n",
       "      <td>NaN</td>\n",
       "      <td>NaN</td>\n",
       "      <td>NaN</td>\n",
       "      <td>NaN</td>\n",
       "      <td>NaN</td>\n",
       "      <td>NaN</td>\n",
       "      <td>NaN</td>\n",
       "      <td>NaN</td>\n",
       "    </tr>\n",
       "    <tr>\n",
       "      <th>3</th>\n",
       "      <td>JC395195</td>\n",
       "      <td>8/16/2019 16:53</td>\n",
       "      <td>30</td>\n",
       "      <td>NO CONTROLS</td>\n",
       "      <td>NO CONTROLS</td>\n",
       "      <td>CLEAR</td>\n",
       "      <td>DAYLIGHT</td>\n",
       "      <td>PARKED MOTOR VEHICLE</td>\n",
       "      <td>NOT DIVIDED</td>\n",
       "      <td>NaN</td>\n",
       "      <td>STRAIGHT AND LEVEL</td>\n",
       "      <td>DRY</td>\n",
       "      <td>NO DEFECTS</td>\n",
       "      <td>NaN</td>\n",
       "      <td>NO INJURY / DRIVE AWAY</td>\n",
       "      <td>NaN</td>\n",
       "      <td>NaN</td>\n",
       "      <td>Y</td>\n",
       "      <td>$501 - $1,500</td>\n",
       "      <td>8/16/2019 16:53</td>\n",
       "      <td>UNABLE TO DETERMINE</td>\n",
       "      <td>NOT APPLICABLE</td>\n",
       "      <td>554</td>\n",
       "      <td>N</td>\n",
       "      <td>FRANKLIN ST</td>\n",
       "      <td>1831.0</td>\n",
       "      <td>NaN</td>\n",
       "      <td>NaN</td>\n",
       "      <td>NaN</td>\n",
       "      <td>NaN</td>\n",
       "      <td>NaN</td>\n",
       "      <td>NaN</td>\n",
       "      <td>1.0</td>\n",
       "      <td>NO INDICATION OF INJURY</td>\n",
       "      <td>0.0</td>\n",
       "      <td>0.0</td>\n",
       "      <td>0.0</td>\n",
       "      <td>0.0</td>\n",
       "      <td>0.0</td>\n",
       "      <td>1.0</td>\n",
       "      <td>0.0</td>\n",
       "    </tr>\n",
       "    <tr>\n",
       "      <th>4</th>\n",
       "      <td>JC396604</td>\n",
       "      <td>8/17/2019 16:04</td>\n",
       "      <td>30</td>\n",
       "      <td>NO CONTROLS</td>\n",
       "      <td>NO CONTROLS</td>\n",
       "      <td>CLEAR</td>\n",
       "      <td>DAYLIGHT</td>\n",
       "      <td>PARKED MOTOR VEHICLE</td>\n",
       "      <td>PARKING LOT</td>\n",
       "      <td>NaN</td>\n",
       "      <td>STRAIGHT AND LEVEL</td>\n",
       "      <td>DRY</td>\n",
       "      <td>NO DEFECTS</td>\n",
       "      <td>NaN</td>\n",
       "      <td>NO INJURY / DRIVE AWAY</td>\n",
       "      <td>NaN</td>\n",
       "      <td>NaN</td>\n",
       "      <td>Y</td>\n",
       "      <td>$501 - $1,500</td>\n",
       "      <td>8/17/2019 18:30</td>\n",
       "      <td>UNABLE TO DETERMINE</td>\n",
       "      <td>UNABLE TO DETERMINE</td>\n",
       "      <td>3700</td>\n",
       "      <td>N</td>\n",
       "      <td>WESTERN AVE</td>\n",
       "      <td>1921.0</td>\n",
       "      <td>NaN</td>\n",
       "      <td>NaN</td>\n",
       "      <td>NaN</td>\n",
       "      <td>NaN</td>\n",
       "      <td>NaN</td>\n",
       "      <td>NaN</td>\n",
       "      <td>1.0</td>\n",
       "      <td>NO INDICATION OF INJURY</td>\n",
       "      <td>0.0</td>\n",
       "      <td>0.0</td>\n",
       "      <td>0.0</td>\n",
       "      <td>0.0</td>\n",
       "      <td>0.0</td>\n",
       "      <td>1.0</td>\n",
       "      <td>0.0</td>\n",
       "    </tr>\n",
       "  </tbody>\n",
       "</table>\n",
       "</div>"
      ],
      "text/plain": [
       "      RD_NO       CRASH_DATE  ...  INJURIES_NO_INDICATION INJURIES_UNKNOWN\n",
       "0  JC334993   7/4/2019 22:33  ...                     NaN              NaN\n",
       "1  JC370822  7/30/2019 10:22  ...                     NaN              NaN\n",
       "2  JC387098  8/10/2019 17:00  ...                     NaN              NaN\n",
       "3  JC395195  8/16/2019 16:53  ...                     1.0              0.0\n",
       "4  JC396604  8/17/2019 16:04  ...                     1.0              0.0\n",
       "\n",
       "[5 rows x 41 columns]"
      ]
     },
     "execution_count": 62,
     "metadata": {
      "tags": []
     },
     "output_type": "execute_result"
    }
   ],
   "source": [
    "# answer goes here\n",
    "from datetime import datetime\n",
    "crash_data.head()\n",
    "\n",
    "\n",
    "\n"
   ]
  },
  {
   "cell_type": "code",
   "execution_count": 0,
   "metadata": {
    "colab": {},
    "colab_type": "code",
    "id": "d7Y3Gs1_KASg"
   },
   "outputs": [],
   "source": [
    "\n",
    "crash_data['CRASH_DATE_time'] = pd.to_datetime(crash_data['CRASH_DATE'])\n",
    "crashhour=[]\n",
    "for i in range(crash_data.shape[0]):\n",
    "  crashhour.append(crash_data['CRASH_DATE_time'][i].hour)\n"
   ]
  },
  {
   "cell_type": "markdown",
   "metadata": {
    "colab_type": "text",
    "id": "XRzuzP37owdN"
   },
   "source": [
    "Next, we will work through an example that involves combining two existing features together to make a new one. Convert the DATE_POLICE_NOTIFIED column into a datetime (if it isn't one already), and create a new feature called \"REPORTING_DELAY\" which corresponds to the number of hours between the crash actually occurring and the police being notified. \n",
    "\n",
    "Plot a histogram and a frequency table of the features - are the results reasonable? If there are unusual results, which ones are they and what steps could we consider taking to address them (if such steps are necessary)?"
   ]
  },
  {
   "cell_type": "code",
   "execution_count": 0,
   "metadata": {
    "colab": {},
    "colab_type": "code",
    "id": "t14Ptx23owdO"
   },
   "outputs": [],
   "source": [
    "# answer goes here\n",
    "\n",
    "\n",
    "\n"
   ]
  },
  {
   "cell_type": "markdown",
   "metadata": {
    "colab_type": "text",
    "id": "--r9hiePowdP"
   },
   "source": [
    "Finally, we will generate a new geographical feature from the BEAT_OF_OCCURRENCE field. This field contains 4-digit identifiers corresponding to areas within Chicago; however, some values may be shorter if the leading digit is 0 (i.e. beat \"0114\" is represented as \"114\").\n",
    "\n",
    "Start by converting the the BEAT_OF_OCCURRENCE field into a string, dropping any unwanted characters that are present (chances are that this field was read in as a number and that \"114\" is represented as \"114.0\"; find a way to drop the \".0\"), and adding the appropriate number of leading 0s so that every beat is four digits."
   ]
  },
  {
   "cell_type": "code",
   "execution_count": 0,
   "metadata": {
    "colab": {
     "base_uri": "https://localhost:8080/",
     "height": 153
    },
    "colab_type": "code",
    "executionInfo": {
     "elapsed": 6047,
     "status": "ok",
     "timestamp": 1589918041661,
     "user": {
      "displayName": "Sam Holmstrom",
      "photoUrl": "",
      "userId": "05645048604521877205"
     },
     "user_tz": 300
    },
    "id": "4NBv9mHNowdQ",
    "outputId": "00eb9f83-2699-4895-a534-f082c2bc810b"
   },
   "outputs": [
    {
     "name": "stdout",
     "output_type": "stream",
     "text": [
      "<class 'str'>\n",
      "114.0\n"
     ]
    },
    {
     "data": {
      "text/plain": [
       "0     114\n",
       "1     631\n",
       "2     332\n",
       "3    1831\n",
       "4    1921\n",
       "Name: BEAT_OF_OCCURRENCEstr, dtype: object"
      ]
     },
     "execution_count": 125,
     "metadata": {
      "tags": []
     },
     "output_type": "execute_result"
    }
   ],
   "source": [
    "# answer goes here\n",
    "x = str(crash_data['BEAT_OF_OCCURRENCE'][0])\n",
    "print(type(x))\n",
    "print(x)\n",
    "list1 = []\n",
    "for i in range(crash_data.shape[0]):\n",
    "  list1.append(str(crash_data['BEAT_OF_OCCURRENCE'][i]).replace('.0', ''))\n",
    "crash_data['BEAT_OF_OCCURRENCEstr'] = list1\n",
    "\n",
    "crash_data['BEAT_OF_OCCURRENCEstr'].head()\n",
    "# for i in range(crash_data.shape[0]):\n",
    "  # crash_data['BEAT_OF_OCCURRENCE'][i] = crash_data['BEAT_OF_OCCURRENCE'][0:len(crash_data['BEAT_OF_OCCURRENCE'][i])-2]\n"
   ]
  },
  {
   "cell_type": "markdown",
   "metadata": {
    "colab_type": "text",
    "id": "aT3Wy_cQowdR"
   },
   "source": [
    "As it turns out, the first two digits of each beat correspond to a higher-level geographic area. For example, the higher-level beat \"24\" corresponds to a larger geographic area that is subdivided into beats 2411, 2412, etc. See below for a map illustrating this (in the map, the higher-level codes are three digits, but the first digit is always a zero):\n",
    "\n",
    "https://news.wttw.com/sites/default/files/Map%20of%20Chicago%20Police%20Districts%20and%20Beats.pdf\n",
    "\n",
    "Create a new feature called BEAT_TWO_DIGIT that corresponds to the higher-level two-digit geographic area.\n",
    "\n",
    "As a side note, US zip codes work much the same way:\n",
    "\n",
    "https://www.unitedstateszipcodes.org/images/zip-codes/zip-codes.png\n",
    "\n",
    "This is a very common feature engineering technique for US zip codes. Many data sets will contain hundreds or thousands or zip codes, and attempting to feed a categorical variable with a very large number of levels into a model can often lead to problems (imagine trying to one-hot encode this; the number of columns would explode, and most of the columns would be very sparse.) Rolling up zip codes to a higher level loses some detail but greatly mitigates the issue of too many categories while still providing useful geographic insights on many occassions."
   ]
  },
  {
   "cell_type": "code",
   "execution_count": 0,
   "metadata": {
    "colab": {},
    "colab_type": "code",
    "id": "2kKY_WxWowdS"
   },
   "outputs": [],
   "source": [
    "# answer goes here\n",
    "\n",
    "\n",
    "\n"
   ]
  }
 ],
 "metadata": {
  "colab": {
   "collapsed_sections": [],
   "name": "Sam_Day 22 Lecture 2 Assignment.ipynb",
   "provenance": [
    {
     "file_id": "11436NMyXhoKanehD72ii6PqjRnadCFr-",
     "timestamp": 1589897148721
    }
   ]
  },
  "kernelspec": {
   "display_name": "Python 3",
   "language": "python",
   "name": "python3"
  },
  "language_info": {
   "codemirror_mode": {
    "name": "ipython",
    "version": 3
   },
   "file_extension": ".py",
   "mimetype": "text/x-python",
   "name": "python",
   "nbconvert_exporter": "python",
   "pygments_lexer": "ipython3",
   "version": "3.7.4"
  }
 },
 "nbformat": 4,
 "nbformat_minor": 1
}
