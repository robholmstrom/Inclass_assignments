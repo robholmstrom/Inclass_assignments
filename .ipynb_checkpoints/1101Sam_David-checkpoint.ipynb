{
 "cells": [
  {
   "cell_type": "code",
   "execution_count": 0,
   "metadata": {
    "colab": {},
    "colab_type": "code",
    "id": "k8gzJ5vAImV4"
   },
   "outputs": [],
   "source": [
    "import math\n",
    "import pandas as pd\n",
    "import numpy as np\n",
    "from scipy import stats\n",
    "import matplotlib.pyplot as plt\n",
    "\n"
   ]
  },
  {
   "cell_type": "code",
   "execution_count": 0,
   "metadata": {
    "colab": {},
    "colab_type": "code",
    "id": "XFP-UkPNrFrj"
   },
   "outputs": [],
   "source": []
  },
  {
   "cell_type": "code",
   "execution_count": 56,
   "metadata": {
    "colab": {
     "base_uri": "https://localhost:8080/",
     "height": 282
    },
    "colab_type": "code",
    "executionInfo": {
     "elapsed": 726,
     "status": "ok",
     "timestamp": 1588010282383,
     "user": {
      "displayName": "Sam Holmstrom",
      "photoUrl": "",
      "userId": "05645048604521877205"
     },
     "user_tz": 300
    },
    "id": "Z-My_xrBIwoS",
    "outputId": "4d196d00-316c-4479-b086-a6625d14ab14"
   },
   "outputs": [
    {
     "data": {
      "text/plain": [
       "Ttest_indResult(statistic=-3.230536346547456, pvalue=0.0012497207919589404)"
      ]
     },
     "execution_count": 56,
     "metadata": {
      "tags": []
     },
     "output_type": "execute_result"
    },
    {
     "data": {
      "image/png": "[encoded data removed]",
      "text/plain": [
       "<Figure size 432x288 with 1 Axes>"
      ]
     },
     "metadata": {
      "needs_background": "light",
      "tags": []
     },
     "output_type": "display_data"
    }
   ],
   "source": [
    "df = pd.read_csv('https://tf-assets-prod.s3.amazonaws.com/tf-curric/data-science/abalone_csv.csv')\n",
    "df.head(15)\n",
    "#plt.hist(df)\n",
    "males = df.loc[df['Sex']=='M','Whole_weight']\n",
    "females = df.loc[df['Sex']=='F','Whole_weight']\n",
    "\n",
    "plt.hist(males)\n",
    "plt.hist(females)\n",
    "stats.ttest_ind(males, females)\n",
    "\n",
    "\n",
    "\n"
   ]
  },
  {
   "cell_type": "code",
   "execution_count": 57,
   "metadata": {
    "colab": {
     "base_uri": "https://localhost:8080/",
     "height": 282
    },
    "colab_type": "code",
    "executionInfo": {
     "elapsed": 392,
     "status": "ok",
     "timestamp": 1588010284748,
     "user": {
      "displayName": "Sam Holmstrom",
      "photoUrl": "",
      "userId": "05645048604521877205"
     },
     "user_tz": 300
    },
    "id": "yRzPNfxhUJUp",
    "outputId": "3c7ecd08-cd21-4e04-cdfa-5d96727b0269"
   },
   "outputs": [
    {
     "data": {
      "text/plain": [
       "[[Text(0, 0, 'weight')]]"
      ]
     },
     "execution_count": 57,
     "metadata": {
      "tags": []
     },
     "output_type": "execute_result"
    },
    {
     "data": {
      "image/png": "[encoded data removed]",
      "text/plain": [
       "<Figure size 432x288 with 1 Axes>"
      ]
     },
     "metadata": {
      "needs_background": "light",
      "tags": []
     },
     "output_type": "display_data"
    }
   ],
   "source": [
    "import seaborn as sns\n",
    "g = sns.pointplot(data = [males,females], join=False)\n",
    "g.set(xticklabels = ['males','females'])\n",
    "g.set(yticklabels = ['weight'])"
   ]
  },
  {
   "cell_type": "code",
   "execution_count": 58,
   "metadata": {
    "colab": {
     "base_uri": "https://localhost:8080/",
     "height": 130
    },
    "colab_type": "code",
    "executionInfo": {
     "elapsed": 315,
     "status": "error",
     "timestamp": 1588010287061,
     "user": {
      "displayName": "Sam Holmstrom",
      "photoUrl": "",
      "userId": "05645048604521877205"
     },
     "user_tz": 300
    },
    "id": "eZozqMrFrHBz",
    "outputId": "9cf9f420-0243-49cd-c737-375b598d8bfb"
   },
   "outputs": [
    {
     "ename": "SyntaxError",
     "evalue": "ignored",
     "output_type": "error",
     "traceback": [
      "\u001b[0;36m  File \u001b[0;32m\"<ipython-input-58-76b5336bf11e>\"\u001b[0;36m, line \u001b[0;32m4\u001b[0m\n\u001b[0;31m    s1 = sum(for x in col1: list = 0 list += x return list/count(list)\u001b[0m\n\u001b[0m               ^\u001b[0m\n\u001b[0;31mSyntaxError\u001b[0m\u001b[0;31m:\u001b[0m invalid syntax\n"
     ]
    }
   ],
   "source": [
    "# Confidence interval\n",
    "def con_int_95(col1, col2):\n",
    "  x1 = np.mean(col1)\n",
    "  x2 = np.mean(col2)\n",
    "  s1 = sum(for x in col1: list = 0 list += x return list/count(list)\n",
    "  s2\n",
    "  diff_mean = x1-x2\n",
    "  sem_sum_sq = math.sqrt()\n",
    "  margin_of_error ="
   ]
  },
  {
   "cell_type": "code",
   "execution_count": 64,
   "metadata": {
    "colab": {
     "base_uri": "https://localhost:8080/",
     "height": 54
    },
    "colab_type": "code",
    "executionInfo": {
     "elapsed": 500,
     "status": "ok",
     "timestamp": 1588010529217,
     "user": {
      "displayName": "Sam Holmstrom",
      "photoUrl": "",
      "userId": "05645048604521877205"
     },
     "user_tz": 300
    },
    "id": "BVuTnnnqtXuW",
    "outputId": "4015d104-cd15-40aa-a223-94197b6642b4"
   },
   "outputs": [
    {
     "data": {
      "text/plain": [
       "'The difference in means at the 95% confidence interval (two-tail) is between 0.02032166587839042 and 0.08982375527312363.'"
      ]
     },
     "execution_count": 64,
     "metadata": {
      "tags": []
     },
     "output_type": "execute_result"
    }
   ],
   "source": [
    "\n",
    "def get_95_ci(col1, col2):\n",
    "  x1n = col1.shape[0]\n",
    "  x2n = col2.shape[0]\n",
    "  \n",
    "  x1 = np.mean(col1)\n",
    "  x2 = np.mean(col2)\n",
    "  x1_var = col1.var()\n",
    "  x2_var = col2.var()\n",
    "  mean_difference = x2 - x1\n",
    "  std_err_difference = math.sqrt((x1_var/x1n)+(x1_var/x2n))\n",
    "  margin_of_error = 1.96 * std_err_difference\n",
    "  ci_lower = mean_difference - margin_of_error\n",
    "  ci_upper = mean_difference + margin_of_error\n",
    "  return(\"The difference in means at the 95% confidence interval (two-tail) is between \"+str(ci_lower)+\" and \"+str(ci_upper)+\".\")\n",
    "\n",
    "get_95_ci(males,females)\n",
    "\n",
    "\n"
   ]
  }
 ],
 "metadata": {
  "colab": {
   "authorship_tag": "ABX9TyPj3yDEVdZx887l60q4bjnH",
   "name": "Copy of 1101Sam_David.ipynb",
   "provenance": [
    {
     "file_id": "198HoSzvMQAcvPTQY3wWaIplxGCAFOe8F",
     "timestamp": 1588010787079
    }
   ]
  },
  "kernelspec": {
   "display_name": "Python 3",
   "language": "python",
   "name": "python3"
  },
  "language_info": {
   "codemirror_mode": {
    "name": "ipython",
    "version": 3
   },
   "file_extension": ".py",
   "mimetype": "text/x-python",
   "name": "python",
   "nbconvert_exporter": "python",
   "pygments_lexer": "ipython3",
   "version": "3.7.4"
  }
 },
 "nbformat": 4,
 "nbformat_minor": 1
}
